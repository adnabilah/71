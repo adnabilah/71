{
 "cells": [
  {
   "cell_type": "markdown",
   "id": "73a27151-c82c-4fe0-9264-17884afd7bf7",
   "metadata": {},
   "source": [
    "- Function --> blok kode yang terorganisir, artinya punya nama. bukan kode lepas seperti di Sesi 02.\n",
    "- tolong run kodenya sekali lagi, saya cuma ingin mengganti variabel tertentu aja, supaya otomatis, gausah ganti manual berkali2.\n",
    "- penamaan pakai camelCase!"
   ]
  },
  {
   "cell_type": "markdown",
   "id": "02f21f47-23cf-4ad0-a141-63194835ef76",
   "metadata": {},
   "source": [
    "# function"
   ]
  },
  {
   "cell_type": "code",
   "execution_count": 6,
   "id": "97905a04-c897-4a23-b771-b707486b97c0",
   "metadata": {},
   "outputs": [],
   "source": [
    "# 'def' 'namaFunctionPakaiCamelCase' '()':\n",
    "\n",
    "def cekTiketPesawat():\n",
    "    umur = 20\n",
    "    saldo = 200000\n",
    "    harga = 200000\n",
    "\n",
    "    if (umur >= 17):\n",
    "        print(\"boleh beli tiket karena umur\", umur)\n",
    "        if (saldo >= harga):\n",
    "            print(\"bisa beli tiket karena saldo\", saldo, \"dan harga\", harga)\n",
    "        else:\n",
    "            print(\"saldo tidak cukup\")\n",
    "    else:\n",
    "        print(\"umur tidak cukup\")"
   ]
  },
  {
   "cell_type": "code",
   "execution_count": 8,
   "id": "188255f7-e69f-4f6f-be78-745b551017a2",
   "metadata": {},
   "outputs": [
    {
     "name": "stdout",
     "output_type": "stream",
     "text": [
      "boleh beli tiket karena umur 20\n",
      "bisa beli tiket karena saldo 200000 dan harga 200000\n",
      "boleh beli tiket karena umur 20\n",
      "bisa beli tiket karena saldo 200000 dan harga 200000\n"
     ]
    }
   ],
   "source": [
    "# 'namaFunction' '()'\n",
    "\n",
    "cekTiketPesawat()\n",
    "cekTiketPesawat()"
   ]
  },
  {
   "cell_type": "markdown",
   "id": "51c0c69e-844c-4616-8d05-09ddde7a3900",
   "metadata": {},
   "source": [
    "# argumen/parameter\n",
    "- variabel spesial milik function, ditaruh di dalam () function"
   ]
  },
  {
   "cell_type": "code",
   "execution_count": 5,
   "id": "368d4b25-30f4-4b66-ba1b-b89b0540036f",
   "metadata": {},
   "outputs": [],
   "source": [
    "# harus ditambah argumen/parameter yakni variabel spesial milik function, dibuat di dalam () function\n",
    "# jadi variabel dibuat pada saat functionnya dibuat\n",
    "\n",
    "def cekTiketPesawat(umur, saldo, harga):\n",
    "    if (umur >= 17):\n",
    "        print(\"boleh beli tiket karena umur\", umur)\n",
    "        if (saldo >= harga):\n",
    "            print(\"bisa beli tiket karena saldo\", saldo, \"dan harga\", harga)\n",
    "        else:\n",
    "            print(\"saldo tidak cukup\")\n",
    "    else:\n",
    "        print(\"umur tidak cukup\")"
   ]
  },
  {
   "cell_type": "code",
   "execution_count": 6,
   "id": "18157e11-fb98-47e4-a66a-fc18dd417c2a",
   "metadata": {},
   "outputs": [
    {
     "name": "stdout",
     "output_type": "stream",
     "text": [
      "boleh beli tiket karena umur 17\n",
      "bisa beli tiket karena saldo 25000 dan harga 10000\n",
      "---\n",
      "boleh beli tiket karena umur 28\n",
      "bisa beli tiket karena saldo 900000 dan harga 450000\n"
     ]
    }
   ],
   "source": [
    "cekTiketPesawat(17, 25000, 10000)\n",
    "print(\"---\")\n",
    "cekTiketPesawat(28, 900000, 450000)"
   ]
  },
  {
   "cell_type": "markdown",
   "id": "ec23c29e-8fea-443c-ac07-5153c0bc9f47",
   "metadata": {},
   "source": [
    "# for in list"
   ]
  },
  {
   "cell_type": "code",
   "execution_count": 13,
   "id": "cbc0015a-9740-4aaf-9c0c-5f3d67e525bd",
   "metadata": {},
   "outputs": [
    {
     "name": "stdout",
     "output_type": "stream",
     "text": [
      "umur tidak cukup\n",
      "---\n",
      "boleh beli tiket karena umur 17\n",
      "saldo tidak cukup\n",
      "---\n",
      "boleh beli tiket karena umur 18\n",
      "saldo tidak cukup\n",
      "---\n",
      "boleh beli tiket karena umur 19\n",
      "bisa beli tiket karena saldo 125000 dan harga 25000\n",
      "---\n",
      "boleh beli tiket karena umur 20\n",
      "saldo tidak cukup\n",
      "---\n"
     ]
    }
   ],
   "source": [
    "# contoh menggunakan function ini untuk cek tiket pesawat 5 orang\n",
    "\n",
    "list_orang = [\n",
    "    {\"umur\": 16, \"saldo\": 125000, \"harga\": 25000},\n",
    "    {\"umur\": 17, \"saldo\": 125000, \"harga\": 250000},\n",
    "    {\"umur\": 18, \"saldo\": 125000, \"harga\": 250000},\n",
    "    {\"umur\": 19, \"saldo\": 125000, \"harga\": 25000},\n",
    "    {\"umur\": 20, \"saldo\": 125000, \"harga\": 250000},\n",
    "]\n",
    "\n",
    "# untuk setiap orang, cek\n",
    "\n",
    "for org in list_orang:\n",
    "    cekTiketPesawat(org['umur'], org['saldo'], org['harga'])\n",
    "    print(\"---\")"
   ]
  },
  {
   "cell_type": "markdown",
   "id": "6eb3150e-85f6-4ca6-a9f5-f8e8171d7886",
   "metadata": {},
   "source": [
    "# pass by value: untuk data type biasa!"
   ]
  },
  {
   "cell_type": "code",
   "execution_count": 7,
   "id": "15247a4d-0e6d-4700-abc0-ca7805dfd303",
   "metadata": {},
   "outputs": [
    {
     "name": "stdout",
     "output_type": "stream",
     "text": [
      "apel\n"
     ]
    }
   ],
   "source": [
    "# pass by value: membuat data/objek baru dengan value yang sama, seperti membuat copy-nya.\n",
    "# untuk str, int, float, bool\n",
    "\n",
    "buah = \"apel\"\n",
    "buah_copy = buah\n",
    "\n",
    "# kalau buah_copy berubah, buah tidak ikutan berubah\n",
    "\n",
    "buah_copy = \"mangga\"\n",
    "print(buah)"
   ]
  },
  {
   "cell_type": "markdown",
   "id": "3be8f184-84ee-4735-b5c7-bd2b60da2dcf",
   "metadata": {},
   "source": [
    "# pass by reference: untuk structured data type!"
   ]
  },
  {
   "cell_type": "code",
   "execution_count": 9,
   "id": "43fa85e3-027e-4b8f-afe9-adce77f6caee",
   "metadata": {},
   "outputs": [
    {
     "name": "stdout",
     "output_type": "stream",
     "text": [
      "['mangga']\n"
     ]
    }
   ],
   "source": [
    "# pass by reference: memberi nickname atau nama tambahan ke objek yang sama, mereferensi saja, tidak membuat baru\n",
    "# khusus untuk data type terstruktur: dictionary, list, tuple\n",
    "\n",
    "list_buah = [\"apel\"]\n",
    "\n",
    "list_buah_copy = list_buah\n",
    "\n",
    "# list_buah_copy hanya mereferensi list [\"apel\"], tidak membuat baru. sehingga bila dia berubah, list_buah ikut berubah.\n",
    "# rumah hanya 1, alamat ada 2.\n",
    "\n",
    "list_buah_copy[0] = \"mangga\"\n",
    "print(list_buah)"
   ]
  },
  {
   "cell_type": "code",
   "execution_count": 10,
   "id": "5bd27870-8b61-4941-98e3-de58b1626e31",
   "metadata": {},
   "outputs": [
    {
     "name": "stdout",
     "output_type": "stream",
     "text": [
      "['mangga', 'pisang']\n"
     ]
    }
   ],
   "source": [
    "list_buah.append(\"pisang\") # yang di-append list_buah, tapi yang berubah list_buah dan list_buah_copy\n",
    "print(list_buah_copy)"
   ]
  },
  {
   "cell_type": "markdown",
   "id": "cd3b1593-76b3-49e4-bdd1-d04ac96e3c37",
   "metadata": {},
   "source": [
    "# deep copy: untuk menghindari pass by ref"
   ]
  },
  {
   "cell_type": "code",
   "execution_count": 13,
   "id": "6704dcc1-d954-4fca-8ce2-abfd58a2dabe",
   "metadata": {},
   "outputs": [
    {
     "name": "stdout",
     "output_type": "stream",
     "text": [
      "['mangga', 'pisang']\n",
      "['mangga', 'pisang']\n",
      "['duku', 'pisang']\n"
     ]
    }
   ],
   "source": [
    "# kalau tidak ingin kena pass by ref, harus buat deep copy pakai variable.copy().\n",
    "# di capacity komputer yang sekarang sudah sangat cukup, sehingga better pakai deep copy untuk semua data\n",
    "\n",
    "list_buah_deep_copy = list_buah.copy()\n",
    "\n",
    "list_buah_deep_copy[0] = \"duku\"\n",
    "\n",
    "print(list_buah)\n",
    "print(list_buah_copy)\n",
    "print(list_buah_deep_copy)"
   ]
  },
  {
   "cell_type": "markdown",
   "id": "2369f08a-a41d-402c-bd3d-76119285a939",
   "metadata": {},
   "source": [
    "# pass by reference dengan function"
   ]
  },
  {
   "cell_type": "code",
   "execution_count": 14,
   "id": "8be752c2-af92-4820-b8aa-893324e7815c",
   "metadata": {},
   "outputs": [],
   "source": [
    "# pass by ref dengan function\n",
    "# membuat function yang mengubah isi sebuah list menjadi TitleCase semua\n",
    "\n",
    "def ubahJadiTitleCase(list_string): # list_string bisa juga diganti jadi l aja misal.\n",
    "    index = 0\n",
    "    for s in list_string: # ubah jadi title case, lalu replace ke dalam listnya lagi.\n",
    "        list_string[index] = s.title()\n",
    "        index += 1"
   ]
  },
  {
   "cell_type": "code",
   "execution_count": 22,
   "id": "bcf36030-699e-4bbb-9a71-13ea97408458",
   "metadata": {},
   "outputs": [
    {
     "name": "stdout",
     "output_type": "stream",
     "text": [
      "['Harry Potter', 'Da Vinci Code', 'Deception Point']\n"
     ]
    }
   ],
   "source": [
    "judul_buku = [\"harry potter\", \"da vinci code\", \"deception point\"]\n",
    "\n",
    "ubahJadiTitleCase(judul_buku)\n",
    "\n",
    "print(judul_buku)"
   ]
  },
  {
   "cell_type": "markdown",
   "id": "0fdd86de-8b36-4512-be01-2431781bc223",
   "metadata": {},
   "source": [
    "# bad vs. good practice for structured data type"
   ]
  },
  {
   "cell_type": "code",
   "execution_count": 23,
   "id": "1f71b549-0449-4df9-bef3-fd7e5379c3b9",
   "metadata": {},
   "outputs": [
    {
     "name": "stdout",
     "output_type": "stream",
     "text": [
      "['mangga', 'pisang']\n"
     ]
    }
   ],
   "source": [
    "# good practice: data yang kita pass ke sebuah function jangan diubah. buat data baru yang berisi hasil run function tsb.\n",
    "# contoh salah saat menambahkan item ke list\n",
    "\n",
    "print(list_buah)"
   ]
  },
  {
   "cell_type": "code",
   "execution_count": 24,
   "id": "341aa13f-1a84-41b6-a5f3-12c4d896be66",
   "metadata": {},
   "outputs": [],
   "source": [
    "def nambahBuah(lb, tambahan):\n",
    "    lb.append(tambahan)"
   ]
  },
  {
   "cell_type": "code",
   "execution_count": 25,
   "id": "6f846ebd-faea-4e27-98e7-7c83d632757c",
   "metadata": {},
   "outputs": [],
   "source": [
    "nambahBuah(list_buah, \"duren\")"
   ]
  },
  {
   "cell_type": "code",
   "execution_count": 26,
   "id": "731fda80-0688-42a6-a4ce-ab1c30bf43c8",
   "metadata": {},
   "outputs": [
    {
     "name": "stdout",
     "output_type": "stream",
     "text": [
      "['mangga', 'pisang', 'duren']\n"
     ]
    }
   ],
   "source": [
    "print(list_buah)"
   ]
  },
  {
   "cell_type": "code",
   "execution_count": 16,
   "id": "5790779b-c989-4312-a62d-f76269c67f34",
   "metadata": {},
   "outputs": [],
   "source": [
    "# cara yang baik, tapi hasil akhir tidak disimpan\n",
    "\n",
    "def nambahBuah(lb, tambahan):\n",
    "    lb_copy = lb.copy()\n",
    "    lb_copy.append(tambahan)\n",
    "    print(lb_copy)"
   ]
  },
  {
   "cell_type": "code",
   "execution_count": 17,
   "id": "20428da6-c0a3-471a-97de-d50f2a44240a",
   "metadata": {},
   "outputs": [
    {
     "name": "stdout",
     "output_type": "stream",
     "text": [
      "['mangga', 'pisang']\n"
     ]
    }
   ],
   "source": [
    "print(list_buah)"
   ]
  },
  {
   "cell_type": "code",
   "execution_count": 18,
   "id": "8059adbb-b3a3-4326-9310-c79527446eaa",
   "metadata": {},
   "outputs": [
    {
     "name": "stdout",
     "output_type": "stream",
     "text": [
      "['mangga', 'pisang', 'semangka']\n"
     ]
    }
   ],
   "source": [
    "nambahBuah(list_buah, \"semangka\")"
   ]
  },
  {
   "cell_type": "code",
   "execution_count": 20,
   "id": "bf4566d6-74c7-4f7d-ba48-23da5fded089",
   "metadata": {},
   "outputs": [
    {
     "name": "stdout",
     "output_type": "stream",
     "text": [
      "['mangga', 'pisang']\n"
     ]
    }
   ],
   "source": [
    "print(list_buah)"
   ]
  },
  {
   "cell_type": "markdown",
   "id": "1eb6a802-4a1a-46fb-aa55-d69a037b2f3f",
   "metadata": {},
   "source": [
    "# return"
   ]
  },
  {
   "cell_type": "code",
   "execution_count": 25,
   "id": "44148e8e-4c47-4995-b16c-e416a73c8cfc",
   "metadata": {},
   "outputs": [],
   "source": [
    "# return: untuk menyimpan data hasil kalkulasi/proses sebuah function, supaya tidak mengubah data awal\n",
    "\n",
    "def nambahBuah(lb, tambahan):\n",
    "    lb_copy = lb.copy()\n",
    "    lb_copy.append(tambahan)\n",
    "    return lb_copy"
   ]
  },
  {
   "cell_type": "code",
   "execution_count": 26,
   "id": "d8f9276f-de10-46c0-aa73-a6956081f836",
   "metadata": {},
   "outputs": [
    {
     "name": "stdout",
     "output_type": "stream",
     "text": [
      "['mangga', 'pisang']\n"
     ]
    }
   ],
   "source": [
    "print(list_buah)"
   ]
  },
  {
   "cell_type": "code",
   "execution_count": 27,
   "id": "c22d5afd-3533-4e84-b745-aea4168e7bdf",
   "metadata": {},
   "outputs": [],
   "source": [
    "# tambah 1 buah ke list_buah\n",
    "\n",
    "list_baru = nambahBuah(list_buah, \"jeruk\")"
   ]
  },
  {
   "cell_type": "code",
   "execution_count": 30,
   "id": "49c035f1-7588-48b0-93a3-4c00146ec0d7",
   "metadata": {},
   "outputs": [
    {
     "name": "stdout",
     "output_type": "stream",
     "text": [
      "['mangga', 'pisang', 'jeruk']\n",
      "['mangga', 'pisang']\n"
     ]
    }
   ],
   "source": [
    "print(list_baru)\n",
    "print(list_buah)"
   ]
  },
  {
   "cell_type": "code",
   "execution_count": 38,
   "id": "eb040209-43f6-4be9-8e64-9718962016ed",
   "metadata": {},
   "outputs": [],
   "source": [
    "# contoh bila menyimpan hasil sebuah function yang tidak ada return-nya dan menghasilkan None:\n",
    "\n",
    "def sapa():\n",
    "    print(\"halo\")"
   ]
  },
  {
   "cell_type": "code",
   "execution_count": 39,
   "id": "36f61df3-fa72-4de5-ac86-6870605c702d",
   "metadata": {},
   "outputs": [
    {
     "name": "stdout",
     "output_type": "stream",
     "text": [
      "halo\n",
      "None\n"
     ]
    }
   ],
   "source": [
    "hasil = sapa()\n",
    "\n",
    "print(hasil)"
   ]
  },
  {
   "cell_type": "code",
   "execution_count": 32,
   "id": "daf839a8-0470-4211-b30b-6f67a93063db",
   "metadata": {},
   "outputs": [],
   "source": [
    "# contoh bila menyimpan hasil sebuah function yang tidak ada return-nya dan menghasilkan None:\n",
    "\n",
    "def sapaReturn():\n",
    "    print(\"halo\") # halo diprint sekali, tidak kesimpan, hanya diprint sekali\n",
    "    return \"hai\" # masuk ke variable yang sudah kita siapkan, tapi tidak pasti ke-print, tapi bisa dipanggil berkali2"
   ]
  },
  {
   "cell_type": "code",
   "execution_count": 41,
   "id": "71409cff-4896-4f00-aa69-e6c40dbe6409",
   "metadata": {},
   "outputs": [
    {
     "name": "stdout",
     "output_type": "stream",
     "text": [
      "halo\n",
      "hai\n"
     ]
    }
   ],
   "source": [
    "hasil = sapaReturn()\n",
    "print(hasil)"
   ]
  },
  {
   "cell_type": "markdown",
   "id": "9cef7274-738a-4b3b-9863-ecee640eb5cd",
   "metadata": {},
   "source": [
    "# latihan\n",
    "- membuat function yang menerima 2 argumen, nama dan panggilan pak/bu.\n",
    "- print sapaan dalam bentuk \"selamat pagi pak/bu x\""
   ]
  },
  {
   "cell_type": "code",
   "execution_count": 53,
   "id": "e76e71be-34aa-4074-b44e-d608aaa11a05",
   "metadata": {},
   "outputs": [],
   "source": [
    "def sapaOrang(nama, panggilan):\n",
    "    print(\"selamat pagi \" + panggilan + \" \" + nama)"
   ]
  },
  {
   "cell_type": "code",
   "execution_count": 54,
   "id": "3b149877-c4aa-4e6f-8322-9070f82bf600",
   "metadata": {},
   "outputs": [
    {
     "name": "stdout",
     "output_type": "stream",
     "text": [
      "selamat pagi pak ahmad\n"
     ]
    }
   ],
   "source": [
    "sapaOrang(\"ahmad\", \"pak\")"
   ]
  },
  {
   "cell_type": "code",
   "execution_count": 55,
   "id": "9d02515d-32a3-4bc4-bde3-9eb27e056a4e",
   "metadata": {},
   "outputs": [
    {
     "name": "stdout",
     "output_type": "stream",
     "text": [
      "selamat pagi pak ahmad\n"
     ]
    }
   ],
   "source": [
    "def sapaOrang(nama, panggilan):\n",
    "    print(\"selamat pagi\", panggilan, nama)\n",
    "    \n",
    "sapaOrang(\"ahmad\", \"pak\")"
   ]
  },
  {
   "cell_type": "markdown",
   "id": "3c8276f1-8c8a-4984-a6d4-c56a467f1a47",
   "metadata": {},
   "source": [
    "# required arguments"
   ]
  },
  {
   "cell_type": "code",
   "execution_count": 38,
   "id": "27ab180f-5639-4289-9b77-d7be36b2d957",
   "metadata": {},
   "outputs": [],
   "source": [
    "# REWATCH 08:05 - 08:10\n",
    "# 2 required arguments --> harus diisi. positional arguments (ada urutannya).\n",
    "\n",
    "def sapa(nama, panggilan):\n",
    "    print(\"selamat pagi\", panggilan, nama)"
   ]
  },
  {
   "cell_type": "code",
   "execution_count": 57,
   "id": "a3ac7a71-9213-4851-935d-39b95fb00309",
   "metadata": {},
   "outputs": [
    {
     "name": "stdout",
     "output_type": "stream",
     "text": [
      "selamat pagi bu jane\n"
     ]
    }
   ],
   "source": [
    "sapa(\"jane\", \"bu\")"
   ]
  },
  {
   "cell_type": "markdown",
   "id": "15d5d3a4-ba59-43bd-af27-bf1fc3852bd4",
   "metadata": {},
   "source": [
    "# default argument"
   ]
  },
  {
   "cell_type": "code",
   "execution_count": 1,
   "id": "b2a28086-90d0-4b51-8fc9-80e059ba6f05",
   "metadata": {},
   "outputs": [],
   "source": [
    "# 2 default arguments --> tidak harus diisi karena ada defaultnya\n",
    "\n",
    "def sapa(nama=\"\", panggilan=\"pak/bu\"):\n",
    "    print(\"selamat pagi\", panggilan, nama)"
   ]
  },
  {
   "cell_type": "code",
   "execution_count": 2,
   "id": "b9341eb7-e7e5-4563-aeac-f70eff0ed11b",
   "metadata": {},
   "outputs": [
    {
     "name": "stdout",
     "output_type": "stream",
     "text": [
      "selamat pagi pak/bu \n"
     ]
    }
   ],
   "source": [
    "sapa()"
   ]
  },
  {
   "cell_type": "code",
   "execution_count": 65,
   "id": "47acb428-8b37-4ddc-9471-a3469b9d88c7",
   "metadata": {},
   "outputs": [
    {
     "name": "stdout",
     "output_type": "stream",
     "text": [
      "selamat pagi pak/bu jane\n"
     ]
    }
   ],
   "source": [
    "sapa(\"jane\")"
   ]
  },
  {
   "cell_type": "code",
   "execution_count": 62,
   "id": "cf97f381-6ec9-4234-b470-95741ff3b8e2",
   "metadata": {},
   "outputs": [
    {
     "name": "stdout",
     "output_type": "stream",
     "text": [
      "selamat pagi ms. jane\n"
     ]
    }
   ],
   "source": [
    "sapa(\"jane\", \"ms.\")"
   ]
  },
  {
   "cell_type": "code",
   "execution_count": 3,
   "id": "9f76d033-e561-4f0e-bdfc-5db614a1e1c6",
   "metadata": {},
   "outputs": [],
   "source": [
    "# 3 argumen: 2 default, 1 required\n",
    "\n",
    "def sapa(nama, panggilan=\"pak/bu\", waktu=\"pagi\"):\n",
    "    print(\"selamat\", waktu, panggilan, nama)"
   ]
  },
  {
   "cell_type": "code",
   "execution_count": 5,
   "id": "d9db1512-26aa-46f8-8b9b-d479cfce5846",
   "metadata": {},
   "outputs": [
    {
     "name": "stdout",
     "output_type": "stream",
     "text": [
      "selamat pagi pak/bu john\n"
     ]
    }
   ],
   "source": [
    "sapa(\"john\")"
   ]
  },
  {
   "cell_type": "markdown",
   "id": "6c997fb5-a3c5-44a0-8d6f-4296d4f2eae7",
   "metadata": {},
   "source": [
    "# keyword argument"
   ]
  },
  {
   "cell_type": "code",
   "execution_count": 15,
   "id": "bd2b1ee5-c78f-46f1-8735-243841f6bc35",
   "metadata": {},
   "outputs": [
    {
     "name": "stdout",
     "output_type": "stream",
     "text": [
      "selamat pagi pak/bu ('Andi',)\n"
     ]
    }
   ],
   "source": [
    "# menggunakan keyword untuk isi argumen\n",
    "# tidak ada hubungannya apakah harus diisi seperti required atau tidak mesti seperti default. lebih ke cara pengisian.\n",
    "# cara pengisian argumen tidak mesti urut seperti required\n",
    "# keyword bisa digabung dengan default maupun required\n",
    "# cara pemakaian: ditulis ulang nama variablenya misal nama=\n",
    "\n",
    "sapa(\"Andi\")"
   ]
  },
  {
   "cell_type": "code",
   "execution_count": 7,
   "id": "9172b454-9eec-4fd5-a39e-640788430fd1",
   "metadata": {},
   "outputs": [
    {
     "name": "stdout",
     "output_type": "stream",
     "text": [
      "selamat malam Bapak Budi\n"
     ]
    }
   ],
   "source": [
    "sapa(waktu=\"malam\", nama=\"Budi\", panggilan=\"Bapak\")"
   ]
  },
  {
   "cell_type": "code",
   "execution_count": 8,
   "id": "c2aa1ab4-c57c-47e3-9835-26f3a88fcc04",
   "metadata": {},
   "outputs": [
    {
     "name": "stdout",
     "output_type": "stream",
     "text": [
      "selamat ['malam'] Bapak Budi\n"
     ]
    }
   ],
   "source": [
    "# bisa juga diisi list, tapi tetap satu list\n",
    "\n",
    "sapa(waktu=[\"malam\"], nama=\"Budi\", panggilan=\"Bapak\")"
   ]
  },
  {
   "cell_type": "code",
   "execution_count": 10,
   "id": "a2bf0fd6-0663-4e4a-9562-ea408165864c",
   "metadata": {},
   "outputs": [
    {
     "name": "stdout",
     "output_type": "stream",
     "text": [
      "selamat malam ['bu', 'mba'] rina\n"
     ]
    }
   ],
   "source": [
    "sapa(\"rina\", [\"bu\", \"mba\"], \"malam\")"
   ]
  },
  {
   "cell_type": "markdown",
   "id": "722107bd-1b76-446d-a13c-38b031ef2851",
   "metadata": {},
   "source": [
    "# variable-length argument"
   ]
  },
  {
   "cell_type": "code",
   "execution_count": 17,
   "id": "4045ba93-0331-400d-9d2a-c5f09b2417d2",
   "metadata": {},
   "outputs": [],
   "source": [
    "# variable-length argumen --> argumen bisa diisi lebih dari 1 data\n",
    "# variable-length argumen adalah sebuah TUPLE\n",
    "# pakai tanda ASTERISK di depan variablenya!\n",
    "# GABISA digabung dengan keyword argument! jadi kalau nulis nama=\"x\" pasti error\n",
    "\n",
    "def sapa(*nama, panggilan=\"pak/bu\", waktu=\"pagi\"):\n",
    "    print(\"selamat\", waktu, panggilan, nama)"
   ]
  },
  {
   "cell_type": "code",
   "execution_count": 11,
   "id": "3743c912-5100-4bd5-a199-b9e619a7fe27",
   "metadata": {},
   "outputs": [
    {
     "name": "stdout",
     "output_type": "stream",
     "text": [
      "selamat malam bapak ()\n"
     ]
    }
   ],
   "source": [
    "sapa(waktu=\"malam\", panggilan=\"bapak\")"
   ]
  },
  {
   "cell_type": "code",
   "execution_count": 18,
   "id": "4b41049b-bf29-4b23-a16b-082ba87f73ba",
   "metadata": {},
   "outputs": [
    {
     "name": "stdout",
     "output_type": "stream",
     "text": [
      "selamat malam Bapak ('Andi', 'Budi')\n"
     ]
    }
   ],
   "source": [
    "# bisa terima lebih dari 1 argumen, asalkan POSISI sesuai dengan function. sementara argumen panggilan dan waktu boleh diganti urutannya!\n",
    "\n",
    "sapa(\"Andi\", \"Budi\", waktu=\"malam\", panggilan=\"Bapak\")"
   ]
  },
  {
   "cell_type": "code",
   "execution_count": 72,
   "id": "e2811898-77b2-4006-a4b6-0e51e36ab8cd",
   "metadata": {},
   "outputs": [
    {
     "name": "stdout",
     "output_type": "stream",
     "text": [
      "selamat pagi pak/bu ('andi', 'budi', 'cindy', 'ibu')\n"
     ]
    }
   ],
   "source": [
    "sapa(\"andi\", \"budi\", \"cindy\", \"ibu\")"
   ]
  },
  {
   "cell_type": "code",
   "execution_count": 12,
   "id": "31dfbd51-a995-4c01-b37c-034ece31181e",
   "metadata": {},
   "outputs": [],
   "source": [
    "def sapa(waktu, *nama):\n",
    "    print(\"selamat\", waktu, nama)"
   ]
  },
  {
   "cell_type": "code",
   "execution_count": 14,
   "id": "bfc8fa2e-e6de-4254-a00a-6fafd61121d2",
   "metadata": {},
   "outputs": [
    {
     "name": "stdout",
     "output_type": "stream",
     "text": [
      "selamat pagi ('budi',)\n"
     ]
    }
   ],
   "source": [
    "sapa(\"pagi\", \"budi\") # lihat cara pemakaian tuple yang tidak pas!"
   ]
  },
  {
   "cell_type": "code",
   "execution_count": 73,
   "id": "f8210f5e-10c8-4c50-b362-875b1bcfc1b7",
   "metadata": {},
   "outputs": [],
   "source": [
    "def sapa(waktu, *nama):\n",
    "    for n in nama:\n",
    "        print(\"selamat\", waktu, n)"
   ]
  },
  {
   "cell_type": "code",
   "execution_count": 23,
   "id": "73d25214-e010-488e-8f36-4acc72b5e83a",
   "metadata": {},
   "outputs": [
    {
     "name": "stdout",
     "output_type": "stream",
     "text": [
      "selamat malam ('nabilah', 'aditya', 'laura')\n"
     ]
    }
   ],
   "source": [
    "# lihat contoh atas. required di depan, variable-length di belakang.\n",
    "# var-length juga tidak bisa diisi dengan tuple menggunakan keyword argument!\n",
    "\n",
    "sapa(\"malam\", \"nabilah\", \"aditya\", \"laura\")"
   ]
  },
  {
   "cell_type": "code",
   "execution_count": 27,
   "id": "f9a5bc76-3dc5-470c-9aa1-06e6ddaca709",
   "metadata": {},
   "outputs": [
    {
     "name": "stdout",
     "output_type": "stream",
     "text": [
      "selamat sore ('teta', 'rena', 'alif')\n"
     ]
    }
   ],
   "source": [
    "# hasil mencoba sendiri menggunakan tuple diikuti dengan required argument. kalau urutan dibalik, jadi required di depan baru diikuti positional argument, tidak bisa!\n",
    "\n",
    "def sapa(*nama, waktu):\n",
    "    for n in nama:\n",
    "        print(\"selamat\", waktu, n)\n",
    "\n",
    "sapa((\"teta\", \"rena\", \"alif\"), waktu=\"sore\")"
   ]
  },
  {
   "cell_type": "code",
   "execution_count": 17,
   "id": "9e7e6c9d-9b7e-4d03-b8da-5f9e6c0f4fb3",
   "metadata": {},
   "outputs": [
    {
     "name": "stdout",
     "output_type": "stream",
     "text": [
      "dijual seekor (('bebek', 'angsa', 'ayam'), ('burung', 'kuda'))\n",
      "dijual seekor (('bebek', 'angsa', 'ayam'), ('burung', 'kuda'))\n"
     ]
    }
   ],
   "source": [
    "tuple_hewan = (\"bebek\", \"angsa\", \"ayam\")\n",
    "tuple_hewan2 = (\"burung\", \"kuda\")\n",
    "\n",
    "def jualTernak(*tuple_hewan):\n",
    "    for n in tuple_hewan:\n",
    "        print(\"dijual seekor\", tuple_hewan)\n",
    "        \n",
    "jualTernak(tuple_hewan, tuple_hewan2)"
   ]
  },
  {
   "cell_type": "markdown",
   "id": "d5195b47-9ebb-4ccc-8db4-73190b992154",
   "metadata": {},
   "source": [
    "# positional argument vs. keyword argument (penempatan)"
   ]
  },
  {
   "cell_type": "code",
   "execution_count": 20,
   "id": "09a23b2f-5446-467c-aee5-2ecc3b3d62fb",
   "metadata": {},
   "outputs": [
    {
     "name": "stdout",
     "output_type": "stream",
     "text": [
      "selamat malam pak/bu ('andi', 'budi', 'cindy')\n",
      "selamat malam pak/bu ('andi', 'budi', 'cindy')\n",
      "selamat malam pak/bu ('andi', 'budi', 'cindy')\n"
     ]
    }
   ],
   "source": [
    "# kalau kita punya keyword argumen, tidak boleh ditaruh setelah positional argument!\n",
    "# jadi positional argument harus di depan. harus selesai semua dulu. baru taruh yang keyword\n",
    "# karena var-length tuple, biasanya digabung dengan loop.\n",
    "# untuk yang var-length bisa juga tidak diisi, jadinya kosong.\n",
    "\n",
    "def sapa(*nama, panggilan=\"pak/bu\", waktu=\"pagi\"):\n",
    "    for n in nama:\n",
    "        print(\"selamat\", waktu, panggilan, nama)\n",
    "    \n",
    "sapa(\"andi\", \"budi\", \"cindy\", waktu=\"malam\")"
   ]
  },
  {
   "cell_type": "markdown",
   "id": "a3acbae1-e43a-4d37-b7f5-4d377f1247bc",
   "metadata": {},
   "source": [
    "# anonymous function\n",
    "- ditulis dalam satu baris\n",
    "- nama function tidak harus didefine. sehingga tidak bisa dipanggil. agar bisa dipanggil, harus dimasukkan ke dalam variable\n",
    "- pakai lambda, bukan def!"
   ]
  },
  {
   "cell_type": "code",
   "execution_count": 36,
   "id": "277ae863-7004-4549-a401-15d8d47073f4",
   "metadata": {},
   "outputs": [],
   "source": [
    "# anon function, contoh function biasa\n",
    "def sapa(waktu, nama):\n",
    "    return \"selamat\", waktu, nama # return kalau tidak pakai + akan dibuat menjadi tuple"
   ]
  },
  {
   "cell_type": "code",
   "execution_count": 37,
   "id": "7245416a-4327-4b7e-a163-4cd70549ed34",
   "metadata": {},
   "outputs": [
    {
     "data": {
      "text/plain": [
       "('selamat', 'pagi', 'andi')"
      ]
     },
     "execution_count": 37,
     "metadata": {},
     "output_type": "execute_result"
    }
   ],
   "source": [
    "sapa(\"pagi\", \"andi\")"
   ]
  },
  {
   "cell_type": "code",
   "execution_count": 38,
   "id": "32b61b20-da9c-4fc2-92b3-e34874096990",
   "metadata": {},
   "outputs": [
    {
     "data": {
      "text/plain": [
       "'selamat pagi andi'"
      ]
     },
     "execution_count": 38,
     "metadata": {},
     "output_type": "execute_result"
    }
   ],
   "source": [
    "def sapa(waktu, nama):\n",
    "    return \"selamat \" + waktu + \" \" + nama\n",
    "\n",
    "sapa(\"pagi\", \"andi\")"
   ]
  },
  {
   "cell_type": "code",
   "execution_count": 40,
   "id": "c53939d1-f6aa-430c-b7b4-5eb131e30db4",
   "metadata": {},
   "outputs": [],
   "source": [
    "hasil_sapa = sapa(\"pagi\", \"andi\")"
   ]
  },
  {
   "cell_type": "code",
   "execution_count": 41,
   "id": "de5bcd08-fbd2-4a60-8dfd-d3454c8308b9",
   "metadata": {},
   "outputs": [
    {
     "name": "stdout",
     "output_type": "stream",
     "text": [
      "selamat pagi andi\n"
     ]
    }
   ],
   "source": [
    "print(hasil_sapa)"
   ]
  },
  {
   "cell_type": "code",
   "execution_count": 83,
   "id": "37967da8-5126-4dd5-aaaa-ed54649bee63",
   "metadata": {},
   "outputs": [],
   "source": [
    "# REWATCH 8:30ish TENTANG LAMBDA!!!"
   ]
  },
  {
   "cell_type": "code",
   "execution_count": 42,
   "id": "1a801063-b9ce-42cf-a416-3d16134abf45",
   "metadata": {},
   "outputs": [],
   "source": [
    "sapa = lambda waktu, nama: \"selamat \" + waktu + \" \" + nama"
   ]
  },
  {
   "cell_type": "code",
   "execution_count": 43,
   "id": "65699cc2-1063-4995-afcc-4a2fab36df31",
   "metadata": {},
   "outputs": [],
   "source": [
    "hasil_sapa = sapa(\"pagi\", \"andi\")"
   ]
  },
  {
   "cell_type": "code",
   "execution_count": 44,
   "id": "98827a0a-771d-4efc-b0f2-36bb54aa39b3",
   "metadata": {},
   "outputs": [
    {
     "name": "stdout",
     "output_type": "stream",
     "text": [
      "selamat pagi andi\n"
     ]
    }
   ],
   "source": [
    "print(hasil_sapa)"
   ]
  },
  {
   "cell_type": "markdown",
   "id": "19cd7782-fead-45b9-8f98-d1d39b3d8a37",
   "metadata": {},
   "source": [
    "# scope of variables"
   ]
  },
  {
   "cell_type": "code",
   "execution_count": 46,
   "id": "952ade4f-5ff4-43bb-ac78-c4158f75ab53",
   "metadata": {},
   "outputs": [],
   "source": [
    "def tambah(a, b):\n",
    "    return a+b"
   ]
  },
  {
   "cell_type": "code",
   "execution_count": 47,
   "id": "8a8748d4-138e-4042-b4dd-baa213665183",
   "metadata": {},
   "outputs": [
    {
     "name": "stdout",
     "output_type": "stream",
     "text": [
      "10\n"
     ]
    }
   ],
   "source": [
    "a = 10\n",
    "b = 15\n",
    "\n",
    "b = tambah(3, 7)\n",
    "\n",
    "print(b) # dia akan pakai yang paling dekat, yakni 3+7"
   ]
  },
  {
   "cell_type": "code",
   "execution_count": 49,
   "id": "00728317-21b1-410f-8b95-f081067fdc58",
   "metadata": {},
   "outputs": [
    {
     "name": "stdout",
     "output_type": "stream",
     "text": [
      "10\n"
     ]
    }
   ],
   "source": [
    "a = 10 # scope global\n",
    "b = 15\n",
    "\n",
    "def tambah(a, b): # dia akan mencari a yang paling dekat. yakni a pada saat function dipanggil di line bawahnya, yakni 3.\n",
    "    return a+b\n",
    "\n",
    "b = tambah(3, 7)\n",
    "\n",
    "print(b)"
   ]
  },
  {
   "cell_type": "code",
   "execution_count": 57,
   "id": "0435cb92-8a26-4b11-9cf6-0c64d198e5fe",
   "metadata": {},
   "outputs": [
    {
     "name": "stdout",
     "output_type": "stream",
     "text": [
      "a local function 3\n",
      "b local function 7\n",
      "a global 20\n",
      "b global 10\n"
     ]
    }
   ],
   "source": [
    "# scope of variable --> variable mana yang akan digunakan bila ada 2 dengan nama yang sama\n",
    "# level pentingnya sebuah variable\n",
    "\n",
    "a = 20\n",
    "b = 15\n",
    "\n",
    "def tambah(a,b):\n",
    "    print(\"a local function\", a) \n",
    "    print(\"b local function\", b)\n",
    "    c = 9 # scope ada di dalam function tambah, tidak bisa diprint di luar function ini karena tidak ketemu karena lahir dan mati di dalam function\n",
    "    return a+b\n",
    "\n",
    "b = tambah(3,7)\n",
    "\n",
    "print(\"a global\", a)\n",
    "print(\"b global\", b) # sudah replaced oleh return function\n",
    "# print(c) tidak ketemu functionnya."
   ]
  },
  {
   "cell_type": "code",
   "execution_count": 53,
   "id": "802ff6bb-ba5c-466d-9763-97bf7fb73197",
   "metadata": {},
   "outputs": [
    {
     "name": "stdout",
     "output_type": "stream",
     "text": [
      "20\n"
     ]
    }
   ],
   "source": [
    "print(a) # karena dia global, mau pindah line pun masih bisa diprint"
   ]
  },
  {
   "cell_type": "markdown",
   "id": "83f3183b-bb54-45ca-821f-0a1e9d0fef8e",
   "metadata": {},
   "source": [
    "# module"
   ]
  },
  {
   "cell_type": "code",
   "execution_count": 88,
   "id": "d5fe49bc-b84c-42f1-83a4-7d35a6b347c6",
   "metadata": {},
   "outputs": [],
   "source": [
    "# REWATCH 8:40-8:51!!!!!\n",
    "# REWATCH 8:54!!!"
   ]
  },
  {
   "cell_type": "markdown",
   "id": "b2253d97-78a1-4141-9030-322d8a119abe",
   "metadata": {},
   "source": [
    "- package --> punya orang lain, kita akan import\n",
    "- function > module > package makin besar. kenapa harus dipisah, karena akan sangat panjang kalau disatukan, bagiannya panjang sekali. sehingga sulit untuk dibaca dan TIDAK BISA DIPAKAI ULANG\n",
    "- nama variabel juga bisa tabrakan! semua harus dibuat unik, padahal ada ribuan variabel. pembuatnya sendiri bisa lupa.\n",
    "- nama variabel tidak mesti dibuat unik dan makin panjang kalau dipisah2.\n",
    "- module bisa simpan class tapi di kelas ini kita tidak belajar."
   ]
  },
  {
   "cell_type": "markdown",
   "id": "304a9c73-966d-4ce6-ad63-d8a521942e3f",
   "metadata": {},
   "source": [
    "- untuk memakai module, perlu kita import dulu. misal import andi --> cara paling simpel.\n",
    "- kalau kita mau pakai variabel dalam module tsb, bisa ketik andi.nama dll.\n",
    "- kalau untuk execute function, tambahkan () jadi andi.sepeda(). kalau hanya andi.sepeda dia hanya akan keluar: <function andi.sepeda()>\n",
    "- kalau butuh arguments di functionnya, harus diisi. misal andi.cekTiketPesawat(50,1200,250)\n",
    "- kalau ada variabel sepeda di 2 modul berbeda, jadinya gak perlu rename variabel tersebut."
   ]
  },
  {
   "cell_type": "code",
   "execution_count": 89,
   "id": "1cfffac6-cdd7-45b4-9b77-6d8809ac3d9a",
   "metadata": {},
   "outputs": [],
   "source": [
    "# cara import"
   ]
  },
  {
   "cell_type": "code",
   "execution_count": 92,
   "id": "84c160b4-ed0b-4fc5-b1a8-bc8c380da640",
   "metadata": {},
   "outputs": [],
   "source": [
    "import andi as an"
   ]
  },
  {
   "cell_type": "code",
   "execution_count": 93,
   "id": "1baeea28-8407-408b-a7fa-a229e1e86214",
   "metadata": {},
   "outputs": [],
   "source": [
    "# di dalam module masih bisa import module lainnya, misal import sys di dalam module andi.py\n",
    "# kalau module diedit setelah diimport di jupyter notebook, tidak akan berubah. harus restart. atau reload module."
   ]
  },
  {
   "cell_type": "markdown",
   "id": "1305f890-69f8-44ed-a97b-0d2ea1e8f76e",
   "metadata": {},
   "source": [
    "- cara import kedua: pakai alias. misal: import andi as an\n",
    "- kalau hanya ingin import variabel/function/class tertentu saja, jadi hanya sebagian modul. misal: from andi import sepeda. tinggal execute sepeda()\n",
    "- bisa juga from andi import sepeda as an_sepeda. tinggal run an_sepeda()\n",
    "- untuk import sebagian, kalau tanpa alias, bisa import sekaligue. misal from andi import nama, hobi"
   ]
  },
  {
   "cell_type": "code",
   "execution_count": 94,
   "id": "26cf38b8-f24a-408c-a60a-c689c5571957",
   "metadata": {},
   "outputs": [
    {
     "name": "stdout",
     "output_type": "stream",
     "text": [
      "Requirement already satisfied: requests in c:\\users\\nadani2\\anaconda3\\lib\\site-packages (2.26.0)\n",
      "Requirement already satisfied: urllib3<1.27,>=1.21.1 in c:\\users\\nadani2\\anaconda3\\lib\\site-packages (from requests) (1.26.7)\n",
      "Requirement already satisfied: idna<4,>=2.5 in c:\\users\\nadani2\\anaconda3\\lib\\site-packages (from requests) (3.2)\n",
      "Requirement already satisfied: certifi>=2017.4.17 in c:\\users\\nadani2\\anaconda3\\lib\\site-packages (from requests) (2021.10.8)\n",
      "Requirement already satisfied: charset-normalizer~=2.0.0 in c:\\users\\nadani2\\anaconda3\\lib\\site-packages (from requests) (2.0.4)\n",
      "Note: you may need to restart the kernel to use updated packages.\n"
     ]
    }
   ],
   "source": [
    "pip install requests"
   ]
  },
  {
   "cell_type": "code",
   "execution_count": 95,
   "id": "b9389198-0a99-4257-8d26-d8276644a9a7",
   "metadata": {},
   "outputs": [],
   "source": [
    "import requests"
   ]
  },
  {
   "cell_type": "code",
   "execution_count": 96,
   "id": "ecb282c9-bad6-4e7c-9486-9af905c530b8",
   "metadata": {},
   "outputs": [],
   "source": [
    "halaman_pypi = requests.get(\"https://pypi.org\")"
   ]
  },
  {
   "cell_type": "markdown",
   "id": "099b4e93-739e-4368-834c-bdd7139d9080",
   "metadata": {},
   "source": [
    "- kalau modulenya di folder yang sama, gausah pakai search path. kalau beda, bisa pakai search path.\n",
    "- kalau beda folder, bisa pakai sys.path\n",
    "- bisa edit sys.path untuk cari module di folder tambahan"
   ]
  },
  {
   "cell_type": "code",
   "execution_count": 2,
   "id": "a42b2acd-d82c-4032-8abc-6f6d062c3db9",
   "metadata": {},
   "outputs": [
    {
     "data": {
      "text/plain": [
       "['C:\\\\Users\\\\nadani2\\\\Documents\\\\PYTN_071',\n",
       " 'C:\\\\Users\\\\nadani2\\\\Anaconda3\\\\python39.zip',\n",
       " 'C:\\\\Users\\\\nadani2\\\\Anaconda3\\\\DLLs',\n",
       " 'C:\\\\Users\\\\nadani2\\\\Anaconda3\\\\lib',\n",
       " 'C:\\\\Users\\\\nadani2\\\\Anaconda3',\n",
       " '',\n",
       " 'C:\\\\Users\\\\nadani2\\\\Anaconda3\\\\lib\\\\site-packages',\n",
       " 'C:\\\\Users\\\\nadani2\\\\Anaconda3\\\\lib\\\\site-packages\\\\locket-0.2.1-py3.9.egg',\n",
       " 'C:\\\\Users\\\\nadani2\\\\Anaconda3\\\\lib\\\\site-packages\\\\win32',\n",
       " 'C:\\\\Users\\\\nadani2\\\\Anaconda3\\\\lib\\\\site-packages\\\\win32\\\\lib',\n",
       " 'C:\\\\Users\\\\nadani2\\\\Anaconda3\\\\lib\\\\site-packages\\\\Pythonwin',\n",
       " 'C:\\\\Users\\\\nadani2\\\\Anaconda3\\\\lib\\\\site-packages\\\\IPython\\\\extensions',\n",
       " 'C:\\\\Users\\\\nadani2\\\\.ipython']"
      ]
     },
     "execution_count": 2,
     "metadata": {},
     "output_type": "execute_result"
    }
   ],
   "source": [
    "import sys\n",
    "sys.path"
   ]
  },
  {
   "cell_type": "code",
   "execution_count": 3,
   "id": "e348495a-a35d-458b-9be3-f6ce1f6d43c7",
   "metadata": {},
   "outputs": [
    {
     "name": "stdout",
     "output_type": "stream",
     "text": [
      "<class 'list'>\n"
     ]
    }
   ],
   "source": [
    "# semua folder di atas digunakan untuk mencari modulenya.\n",
    "print(type(sys.path))"
   ]
  },
  {
   "cell_type": "code",
   "execution_count": 5,
   "id": "c865b7cd-df45-48f0-8ab9-7052f7e349bf",
   "metadata": {},
   "outputs": [],
   "source": [
    "# bisa tambahkan custom folder\n",
    "sys.path.append('C:\\\\Users\\\\nadani2\\\\Documents\\\\')"
   ]
  },
  {
   "cell_type": "code",
   "execution_count": 8,
   "id": "87a6a7c9-ad0f-40f8-8912-71e6810e0323",
   "metadata": {},
   "outputs": [],
   "source": [
    "import budi"
   ]
  },
  {
   "cell_type": "code",
   "execution_count": 10,
   "id": "f81729cf-df82-4c70-bc01-afce4d6fe954",
   "metadata": {},
   "outputs": [
    {
     "data": {
      "text/plain": [
       "['C:\\\\Users\\\\nadani2\\\\Documents\\\\PYTN_071',\n",
       " 'C:\\\\Users\\\\nadani2\\\\Anaconda3\\\\python39.zip',\n",
       " 'C:\\\\Users\\\\nadani2\\\\Anaconda3\\\\DLLs',\n",
       " 'C:\\\\Users\\\\nadani2\\\\Anaconda3\\\\lib',\n",
       " 'C:\\\\Users\\\\nadani2\\\\Anaconda3',\n",
       " '',\n",
       " 'C:\\\\Users\\\\nadani2\\\\Anaconda3\\\\lib\\\\site-packages',\n",
       " 'C:\\\\Users\\\\nadani2\\\\Anaconda3\\\\lib\\\\site-packages\\\\locket-0.2.1-py3.9.egg',\n",
       " 'C:\\\\Users\\\\nadani2\\\\Anaconda3\\\\lib\\\\site-packages\\\\win32',\n",
       " 'C:\\\\Users\\\\nadani2\\\\Anaconda3\\\\lib\\\\site-packages\\\\win32\\\\lib',\n",
       " 'C:\\\\Users\\\\nadani2\\\\Anaconda3\\\\lib\\\\site-packages\\\\Pythonwin',\n",
       " 'C:\\\\Users\\\\nadani2\\\\Anaconda3\\\\lib\\\\site-packages\\\\IPython\\\\extensions',\n",
       " 'C:\\\\Users\\\\nadani2\\\\.ipython',\n",
       " 'C:\\\\Users\\\\nadani2\\\\Documents\\\\',\n",
       " 'C:\\\\Users\\\\nadani2\\\\Documents\\\\']"
      ]
     },
     "execution_count": 10,
     "metadata": {},
     "output_type": "execute_result"
    }
   ],
   "source": [
    "sys.path"
   ]
  },
  {
   "cell_type": "code",
   "execution_count": 11,
   "id": "fc52b241-4f25-455c-8ac3-8ad920393822",
   "metadata": {},
   "outputs": [],
   "source": [
    "import budi"
   ]
  },
  {
   "cell_type": "markdown",
   "id": "f599cbaf-60df-4866-9b00-6839ba7e33b1",
   "metadata": {},
   "source": [
    "# latihan module\n",
    "buat module dengan 2 variable, 2 function. import module tsb, jalankan functionnya di notebook. print juga variablenya."
   ]
  },
  {
   "cell_type": "code",
   "execution_count": 22,
   "id": "cb921321-710d-4b78-affd-f825985b7b53",
   "metadata": {},
   "outputs": [],
   "source": [
    "import andi"
   ]
  },
  {
   "cell_type": "code",
   "execution_count": 17,
   "id": "8e69dd63-5dea-4697-ace9-d1657185af2a",
   "metadata": {},
   "outputs": [],
   "source": [
    "import importlib"
   ]
  },
  {
   "cell_type": "code",
   "execution_count": 18,
   "id": "f8cf1be7-b259-4082-b361-9d6af3919dfb",
   "metadata": {},
   "outputs": [
    {
     "data": {
      "text/plain": [
       "<module 'budi' from 'C:\\\\Users\\\\nadani2\\\\Documents\\\\budi.py'>"
      ]
     },
     "execution_count": 18,
     "metadata": {},
     "output_type": "execute_result"
    }
   ],
   "source": [
    "importlib.reload(budi)"
   ]
  },
  {
   "cell_type": "code",
   "execution_count": 29,
   "id": "ed104c6a-4056-43fe-95d0-5b666c1fb8c2",
   "metadata": {},
   "outputs": [
    {
     "data": {
      "text/plain": [
       "<module 'andi' from 'C:\\\\Users\\\\nadani2\\\\Documents\\\\PYTN_071\\\\andi.py'>"
      ]
     },
     "execution_count": 29,
     "metadata": {},
     "output_type": "execute_result"
    }
   ],
   "source": [
    "importlib.reload(andi)"
   ]
  },
  {
   "cell_type": "code",
   "execution_count": 30,
   "id": "524dfaab-3d98-4949-8919-7d45e2909698",
   "metadata": {},
   "outputs": [
    {
     "data": {
      "text/plain": [
       "'budi'"
      ]
     },
     "execution_count": 30,
     "metadata": {},
     "output_type": "execute_result"
    }
   ],
   "source": [
    "budi.nama"
   ]
  },
  {
   "cell_type": "code",
   "execution_count": 37,
   "id": "e8370738-3be5-4c41-b7e3-71da19b7ddac",
   "metadata": {},
   "outputs": [],
   "source": [
    "import andi"
   ]
  },
  {
   "cell_type": "markdown",
   "id": "8351839a-9413-4f5d-b01e-d1ab503b6f18",
   "metadata": {},
   "source": [
    "# sys & sys.path"
   ]
  },
  {
   "cell_type": "code",
   "execution_count": 5,
   "id": "12c58148-82ea-43f9-b593-6e6df0086ed6",
   "metadata": {},
   "outputs": [],
   "source": [
    "import sys"
   ]
  },
  {
   "cell_type": "code",
   "execution_count": 6,
   "id": "b64ccd05-1d8e-4171-a91f-96ff92ea4fa1",
   "metadata": {},
   "outputs": [
    {
     "data": {
      "text/plain": [
       "['C:\\\\Users\\\\nadani2\\\\Documents\\\\PYTN_071',\n",
       " 'C:\\\\Users\\\\nadani2\\\\Anaconda3\\\\python39.zip',\n",
       " 'C:\\\\Users\\\\nadani2\\\\Anaconda3\\\\DLLs',\n",
       " 'C:\\\\Users\\\\nadani2\\\\Anaconda3\\\\lib',\n",
       " 'C:\\\\Users\\\\nadani2\\\\Anaconda3',\n",
       " '',\n",
       " 'C:\\\\Users\\\\nadani2\\\\Anaconda3\\\\lib\\\\site-packages',\n",
       " 'C:\\\\Users\\\\nadani2\\\\Anaconda3\\\\lib\\\\site-packages\\\\locket-0.2.1-py3.9.egg',\n",
       " 'C:\\\\Users\\\\nadani2\\\\Anaconda3\\\\lib\\\\site-packages\\\\win32',\n",
       " 'C:\\\\Users\\\\nadani2\\\\Anaconda3\\\\lib\\\\site-packages\\\\win32\\\\lib',\n",
       " 'C:\\\\Users\\\\nadani2\\\\Anaconda3\\\\lib\\\\site-packages\\\\Pythonwin',\n",
       " 'C:\\\\Users\\\\nadani2\\\\Anaconda3\\\\lib\\\\site-packages\\\\IPython\\\\extensions',\n",
       " 'C:\\\\Users\\\\nadani2\\\\.ipython']"
      ]
     },
     "execution_count": 6,
     "metadata": {},
     "output_type": "execute_result"
    }
   ],
   "source": [
    "sys.path"
   ]
  },
  {
   "cell_type": "code",
   "execution_count": 9,
   "id": "5da732e0-4633-4fbe-9141-2d2fe87f1e70",
   "metadata": {},
   "outputs": [],
   "source": [
    "import andi"
   ]
  },
  {
   "cell_type": "code",
   "execution_count": 10,
   "id": "23689863-4097-4453-97ff-9e3264b8e0eb",
   "metadata": {},
   "outputs": [
    {
     "data": {
      "text/plain": [
       "'dr.'"
      ]
     },
     "execution_count": 10,
     "metadata": {},
     "output_type": "execute_result"
    }
   ],
   "source": [
    "andi.title"
   ]
  },
  {
   "cell_type": "code",
   "execution_count": 11,
   "id": "13be32b7-590a-432f-8653-b14c8ea7d2ca",
   "metadata": {},
   "outputs": [
    {
     "name": "stdout",
     "output_type": "stream",
     "text": [
      "good morning,  mr. andi\n"
     ]
    }
   ],
   "source": [
    "andi.greeting(\"mr.\", \"andi\")"
   ]
  },
  {
   "cell_type": "markdown",
   "id": "3e8661d8-d604-4ffd-b561-952b7225aee0",
   "metadata": {},
   "source": [
    "# dir(), namespace"
   ]
  },
  {
   "cell_type": "code",
   "execution_count": 1,
   "id": "1177317a-d3b4-4997-ae8f-0d4c96bbabd0",
   "metadata": {},
   "outputs": [
    {
     "data": {
      "text/plain": [
       "['In',\n",
       " 'Out',\n",
       " '_',\n",
       " '__',\n",
       " '___',\n",
       " '__builtin__',\n",
       " '__builtins__',\n",
       " '__doc__',\n",
       " '__loader__',\n",
       " '__name__',\n",
       " '__package__',\n",
       " '__spec__',\n",
       " '_dh',\n",
       " '_i',\n",
       " '_i1',\n",
       " '_ih',\n",
       " '_ii',\n",
       " '_iii',\n",
       " '_oh',\n",
       " 'exit',\n",
       " 'get_ipython',\n",
       " 'quit']"
      ]
     },
     "execution_count": 1,
     "metadata": {},
     "output_type": "execute_result"
    }
   ],
   "source": [
    "# dir() function untuk tahu ada apa saja di namespace kita.\n",
    "\n",
    "dir()"
   ]
  },
  {
   "cell_type": "code",
   "execution_count": 2,
   "id": "99294938-c827-47f5-9ffb-6d603590a147",
   "metadata": {},
   "outputs": [
    {
     "data": {
      "text/plain": [
       "''"
      ]
     },
     "execution_count": 2,
     "metadata": {},
     "output_type": "execute_result"
    }
   ],
   "source": [
    "_iii"
   ]
  },
  {
   "cell_type": "code",
   "execution_count": 3,
   "id": "fa1a94b3-7dd0-49ff-8125-8a79bd5772eb",
   "metadata": {},
   "outputs": [
    {
     "data": {
      "text/plain": [
       "''"
      ]
     },
     "execution_count": 3,
     "metadata": {},
     "output_type": "execute_result"
    }
   ],
   "source": [
    "_"
   ]
  },
  {
   "cell_type": "code",
   "execution_count": 4,
   "id": "e8fdea79-06a4-42da-af31-591b0e5d70b4",
   "metadata": {},
   "outputs": [
    {
     "data": {
      "text/plain": [
       "'Automatically created module for IPython interactive environment'"
      ]
     },
     "execution_count": 4,
     "metadata": {},
     "output_type": "execute_result"
    }
   ],
   "source": [
    "__doc__"
   ]
  },
  {
   "cell_type": "markdown",
   "id": "3c888d91-f2e2-4fa3-a596-a0ebf1307a28",
   "metadata": {},
   "source": [
    "- untuk run program di terminal, namanya menggunakan script\n",
    "- kalau untuk ngerun functionnya, gabisa dari terminal. tapi kita bisa pakai teknik minta input.\n",
    "- pakai sys.argv"
   ]
  },
  {
   "cell_type": "markdown",
   "id": "f1cede22-bc71-40dc-bb41-97ea446e20b6",
   "metadata": {},
   "source": [
    "- __main__ dipakai untuk supaya di jupyter notebook kita gaperlu tau detail argumentnya apa aja saat import .py\n",
    "- kalau di terminal, dia akan mengoutput __main__, kalau di ipynb dia akan mengoutput nama modulenya misal andi\n"
   ]
  },
  {
   "cell_type": "code",
   "execution_count": 8,
   "id": "6f9b9bf1-8d6e-4226-a77f-01410a7be802",
   "metadata": {},
   "outputs": [],
   "source": [
    "import murid.andi"
   ]
  },
  {
   "cell_type": "code",
   "execution_count": 9,
   "id": "a5d8245c-1759-43a1-8b61-a026c1073cdf",
   "metadata": {},
   "outputs": [
    {
     "data": {
      "text/plain": [
       "<module 'murid.andi' from 'C:\\\\Users\\\\nadani2\\\\Documents\\\\PYTN_071\\\\murid\\\\andi.py'>"
      ]
     },
     "execution_count": 9,
     "metadata": {},
     "output_type": "execute_result"
    }
   ],
   "source": [
    "murid.andi"
   ]
  },
  {
   "cell_type": "code",
   "execution_count": 10,
   "id": "2ea68fe6-32ce-4e46-a6b0-4b3287c4065a",
   "metadata": {},
   "outputs": [
    {
     "data": {
      "text/plain": [
       "'andini'"
      ]
     },
     "execution_count": 10,
     "metadata": {},
     "output_type": "execute_result"
    }
   ],
   "source": [
    "murid.andi.nama"
   ]
  },
  {
   "cell_type": "code",
   "execution_count": 11,
   "id": "b81b78f7-e5d7-4f97-bfa1-db937d88cadc",
   "metadata": {},
   "outputs": [],
   "source": [
    "import murid.andi as ma"
   ]
  },
  {
   "cell_type": "code",
   "execution_count": 12,
   "id": "78972a27-8c70-40fe-8546-0573ff152311",
   "metadata": {},
   "outputs": [
    {
     "name": "stdout",
     "output_type": "stream",
     "text": [
      "halo, nama saya  andini saya bekerja sebagai  staf HR\n"
     ]
    }
   ],
   "source": [
    "ma.sapa()"
   ]
  },
  {
   "cell_type": "code",
   "execution_count": 13,
   "id": "5321dcb7-9080-4635-8a09-64cd902db799",
   "metadata": {},
   "outputs": [],
   "source": [
    "# bisa mengimport hanya sebagian variable atau function dari module.\n",
    "\n",
    "from murid.andi import sapa"
   ]
  },
  {
   "cell_type": "code",
   "execution_count": 14,
   "id": "9d14b823-94fc-4925-995f-7290d460a9e4",
   "metadata": {},
   "outputs": [
    {
     "name": "stdout",
     "output_type": "stream",
     "text": [
      "halo, nama saya  andini saya bekerja sebagai  staf HR\n"
     ]
    }
   ],
   "source": [
    "sapa()"
   ]
  },
  {
   "cell_type": "code",
   "execution_count": 15,
   "id": "0ca3cd2b-7701-4296-9606-96cf87f3302f",
   "metadata": {},
   "outputs": [],
   "source": [
    "from murid import budi"
   ]
  },
  {
   "cell_type": "code",
   "execution_count": 16,
   "id": "e8a361c1-6caa-4b93-8650-a020d129c01a",
   "metadata": {},
   "outputs": [
    {
     "name": "stdout",
     "output_type": "stream",
     "text": [
      "hai, nama saya  budi umur saya  52\n"
     ]
    }
   ],
   "source": [
    "budi.sapa()"
   ]
  },
  {
   "cell_type": "code",
   "execution_count": 18,
   "id": "e53e4963-687f-4df8-adaf-1c759193109e",
   "metadata": {},
   "outputs": [],
   "source": [
    "import sys"
   ]
  },
  {
   "cell_type": "code",
   "execution_count": 19,
   "id": "5bd933bf-f09f-4291-9883-3b48972dbce2",
   "metadata": {},
   "outputs": [
    {
     "data": {
      "text/plain": [
       "['C:\\\\Users\\\\nadani2\\\\Documents\\\\PYTN_071',\n",
       " 'C:\\\\Users\\\\nadani2\\\\Anaconda3\\\\python39.zip',\n",
       " 'C:\\\\Users\\\\nadani2\\\\Anaconda3\\\\DLLs',\n",
       " 'C:\\\\Users\\\\nadani2\\\\Anaconda3\\\\lib',\n",
       " 'C:\\\\Users\\\\nadani2\\\\Anaconda3',\n",
       " '',\n",
       " 'C:\\\\Users\\\\nadani2\\\\Anaconda3\\\\lib\\\\site-packages',\n",
       " 'C:\\\\Users\\\\nadani2\\\\Anaconda3\\\\lib\\\\site-packages\\\\locket-0.2.1-py3.9.egg',\n",
       " 'C:\\\\Users\\\\nadani2\\\\Anaconda3\\\\lib\\\\site-packages\\\\win32',\n",
       " 'C:\\\\Users\\\\nadani2\\\\Anaconda3\\\\lib\\\\site-packages\\\\win32\\\\lib',\n",
       " 'C:\\\\Users\\\\nadani2\\\\Anaconda3\\\\lib\\\\site-packages\\\\Pythonwin',\n",
       " 'C:\\\\Users\\\\nadani2\\\\Anaconda3\\\\lib\\\\site-packages\\\\IPython\\\\extensions',\n",
       " 'C:\\\\Users\\\\nadani2\\\\.ipython']"
      ]
     },
     "execution_count": 19,
     "metadata": {},
     "output_type": "execute_result"
    }
   ],
   "source": [
    "sys.path"
   ]
  },
  {
   "cell_type": "code",
   "execution_count": 23,
   "id": "42b56bfc-241e-45b7-a883-a7975a0afabc",
   "metadata": {},
   "outputs": [
    {
     "ename": "SyntaxError",
     "evalue": "invalid syntax (Temp/ipykernel_9812/817190744.py, line 3)",
     "output_type": "error",
     "traceback": [
      "\u001b[1;36m  File \u001b[1;32m\"C:\\Users\\nadani2\\AppData\\Local\\Temp/ipykernel_9812/817190744.py\"\u001b[1;36m, line \u001b[1;32m3\u001b[0m\n\u001b[1;33m    pip install requests\u001b[0m\n\u001b[1;37m        ^\u001b[0m\n\u001b[1;31mSyntaxError\u001b[0m\u001b[1;31m:\u001b[0m invalid syntax\n"
     ]
    }
   ],
   "source": [
    "# untuk instalasi package, bisa pakai pip. kalau pake anaconda, bisa juga pakai conda\n",
    "\n",
    "pip install requests"
   ]
  },
  {
   "cell_type": "markdown",
   "id": "fb41f706-6ea2-4f1f-a449-d3eeecc5f065",
   "metadata": {},
   "source": [
    "# package"
   ]
  },
  {
   "cell_type": "markdown",
   "id": "39707a21-0913-4701-bce0-995b6c6040e1",
   "metadata": {},
   "source": [
    "- package --> banyak module. ada karyawan, guru, murid semua namanya andi. package guru dan murid gapapa sama2 andi.\n",
    "- sebuah folder dengan banyak module python\n",
    "- tidak bisa hanya import package (folder)nya saja. meski saat import tidak error, tapi tidak akan bisa dipanggil!"
   ]
  },
  {
   "cell_type": "code",
   "execution_count": 24,
   "id": "ca1bb833-01c3-4260-9128-c03b48f159c9",
   "metadata": {},
   "outputs": [],
   "source": [
    "import requests"
   ]
  },
  {
   "cell_type": "code",
   "execution_count": 25,
   "id": "6a2fc3c2-dbb9-4ec8-bef3-cfd38c75504d",
   "metadata": {},
   "outputs": [
    {
     "data": {
      "text/plain": [
       "<module 'requests' from 'C:\\\\Users\\\\nadani2\\\\Anaconda3\\\\lib\\\\site-packages\\\\requests\\\\__init__.py'>"
      ]
     },
     "execution_count": 25,
     "metadata": {},
     "output_type": "execute_result"
    }
   ],
   "source": [
    "requests"
   ]
  },
  {
   "cell_type": "code",
   "execution_count": 26,
   "id": "507ab176-c3bc-4482-9bd0-73ca5ca3e78c",
   "metadata": {},
   "outputs": [],
   "source": [
    "halaman_pypi = requests.get(\"https://pypi.org\")"
   ]
  },
  {
   "cell_type": "code",
   "execution_count": 27,
   "id": "1ed39f50-24fd-4439-9a56-affe088b1d55",
   "metadata": {},
   "outputs": [
    {
     "data": {
      "text/plain": [
       "'\\n\\n\\n\\n\\n\\n<!DOCTYPE html>\\n<html lang=\"en\" dir=\"ltr\">\\n  <head>\\n    <meta charset=\"utf-8\">\\n    <meta http-equiv=\"X-UA-Compatible\" content=\"IE=edge\">\\n    <meta name=\"viewport\" content=\"width=device-width, initial-scale=1\">\\n\\n    <meta name=\"defaultLanguage\" content=\"en\">\\n    <meta name=\"availableLanguages\" content=\"en, es, fr, ja, pt_BR, uk, el, de, zh_Hans, zh_Hant, ru, he, eo\">\\n\\n    \\n\\n    <title>PyPI · The Python Package Index</title>\\n    <meta name=\"description\" content=\"The Python Package Index (PyPI) is a repository of software for the Python programming language.\">\\n\\n    <link rel=\"stylesheet\" href=\"/static/css/warehouse-ltr.725c5f70.css\">\\n    <link rel=\"stylesheet\" href=\"/static/css/fontawesome.6002a161.css\">\\n    <link rel=\"stylesheet\" href=\"/static/css/regular.98fbf39a.css\">\\n    <link rel=\"stylesheet\" href=\"/static/css/solid.c3b5f0b5.css\">\\n    <link rel=\"stylesheet\" href=\"/static/css/brands.2c303be1.css\">\\n    <link rel=\"stylesheet\" href=\"https://fonts.googleapis.com/css?family=Source+Sans+Pro:400,400italic,600,600italic,700,700italic%7CSource+Code+Pro:500\">\\n    <noscript>\\n      <link rel=\"stylesheet\" href=\"/static/css/noscript.d4ce1e76.css\">\\n    </noscript>\\n\\n    \\n\\n    <link rel=\"icon\" href=\"/static/images/favicon.6a76275d.ico\" type=\"image/x-icon\">\\n\\n    <link rel=\"alternate\" type=\"application/rss+xml\" title=\"RSS: 40 latest updates\" href=\"/rss/updates.xml\">\\n    <link rel=\"alternate\" type=\"application/rss+xml\" title=\"RSS: 40 newest packages\" href=\"/rss/packages.xml\">\\n    \\n    \\n\\n    <meta property=\"og:url\" content=\"https://pypi.org/\">\\n    <meta property=\"og:site_name\" content=\"PyPI\">\\n    <meta property=\"og:type\" content=\"website\">\\n    <meta property=\"og:image\" content=\"https://pypi.org/static/images/twitter.6fecba6f.jpg\">\\n    <meta property=\"og:title\" content=\"\">\\n    <meta property=\"og:description\" content=\"The Python Package Index (PyPI) is a repository of software for the Python programming language.\">\\n\\n    <link rel=\"search\" type=\"application/opensearchdescription+xml\" title=\"PyPI\" href=\"/opensearch.xml\">\\n\\n    \\n    <script async\\n            data-ga-id=\"UA-55961911-1\"\\n            src=\"/static/js/warehouse.3d322770.js\">\\n    </script>\\n    \\n    \\n    <script async src=\"https://www.googletagmanager.com/gtag/js?id=UA-55961911-1\"></script>\\n    <script defer src=\"https://www.fastly-insights.com/insights.js?k=6a52360a-f306-421e-8ed5-7417d0d4a4e9&dnt=true\"></script>\\n    <script async\\n        src=\"https://media.ethicalads.io/media/client/v1.4.0/ethicalads.min.js\"\\n        integrity=\"sha256-U3hKDidudIaxBDEzwGJApJgPEf2mWk6cfMWghrAa6i0= sha384-UcmsCqcNRSLW/dV3Lo1oCi2/VaurXbib6p4HyUEOeIa/4OpsrnucrugAefzVZJfI sha512-q4t1L4xEjGV2R4hzqCa41P8jrgFUS8xTb8rdNv4FGvw7FpydVj/kkxBJHOiaoxHa8olCcx1Slk9K+3sNbsM4ug==\"\\n        crossorigin=\"anonymous\"\\n    ></script>\\n  </head>\\n\\n  <body data-controller=\"viewport-toggle\">\\n    \\n\\n    <!-- Accessibility: this link should always be the first piece of content inside the body-->\\n    <a href=\"#content\" class=\"skip-to-content\">Skip to main content</a>\\n\\n    <button type=\"button\" class=\"button button--primary button--switch-to-mobile hidden\" data-target=\"viewport-toggle.switchToMobile\" data-action=\"viewport-toggle#switchToMobile\">\\n      Switch to mobile version\\n    </button>\\n\\n    <div id=\"sticky-notifications\" class=\"stick-to-top js-stick-to-top\">\\n      <!-- Add browser warning. Will show for ie9 and below -->\\n      <!--[if IE]>\\n      <div class=\"notification-bar notification-bar--warning\" role=\"status\">\\n        <span class=\"notification-bar__icon\">\\n          <i class=\"fa fa-exclamation-triangle\" aria-hidden=\"true\"></i>\\n          <span class=\"sr-only\">Warning</span>\\n        </span>\\n        <span class=\"notification-bar__message\">You are using an unsupported browser, upgrade to a newer version.</span>\\n      </div>\\n      <![endif]-->\\n      \\n      <noscript>\\n      <div class=\"notification-bar notification-bar--warning\" role=\"status\">\\n        \\n        <span class=\"notification-bar__icon\">\\n          <i class=\"fa fa-exclamation-triangle\" aria-hidden=\"true\"></i>\\n          <span class=\"sr-only\">Warning</span>\\n        </span>\\n        <span class=\"notification-bar__message\">Some features may not work without JavaScript. Please try enabling it if you encounter problems.</span>\\n      </div>\\n      </noscript>\\n\\n      \\n        <div data-html-include=\"/_includes/notification-banners/\">\\n        </div>\\n      \\n    </div>\\n\\n    \\n      <div data-html-include=\"/_includes/flash-messages/\">\\n      </div>\\n    \\n\\n    \\n\\n    \\n      <div data-html-include=\"/_includes/session-notifications/\">\\n      </div>\\n    \\n\\n    <header class=\"site-header \">\\n      <div class=\"site-container\">\\n        <div class=\"split-layout\">\\n          \\n<div>\\n  <a class=\"site-header__logo\" href=\"/\">\\n    <img alt=\"PyPI\" src=\"/static/images/logo-small.95de8436.svg\">\\n  </a>\\n</div>\\n\\n\\n          <div data-html-include=\"/_includes/current-user-indicator/\">\\n            <div id=\"user-indicator\" class=\"horizontal-menu horizontal-menu--light horizontal-menu--tall\">\\n  <nav class=\"horizontal-menu horizontal-menu--light horizontal-menu--tall hide-on-tablet\" aria-label=\"Main navigation\">\\n    <ul>\\n      <li class=\"horizontal-menu__item\"><a href=\"/help/\" class=\"horizontal-menu__link\">Help</a></li>\\n      <li class=\"horizontal-menu__item\"><a href=\"/sponsors/\" class=\"horizontal-menu__link\">Sponsors</a></li>\\n      <li class=\"horizontal-menu__item\"><a href=\"/account/login/\" class=\"horizontal-menu__link\">Log in</a></li>\\n      <li class=\"horizontal-menu__item\"><a href=\"/account/register/\" class=\"horizontal-menu__link\">Register</a></li>\\n    </ul>\\n  </nav>\\n  <nav class=\"dropdown dropdown--on-menu hidden show-on-tablet\" aria-label=\"Main navigation\">\\n    <button type=\"button\" class=\"horizontal-menu__link dropdown__trigger\" aria-haspopup=\"true\" aria-expanded=\"false\" aria-label=\"View menu\">\\n      Menu\\n      <span class=\"dropdown__trigger-caret\">\\n        <i class=\"fa fa-caret-down\" aria-hidden=\"true\"></i>\\n      </span>\\n    </button>\\n    <ul class=\"dropdown__content\" aria-hidden=\"true\" aria-label=\"Main menu\">\\n      <li><a class=\"dropdown__link\" href=\"/help/\">Help</a></li>\\n      <li><a class=\"dropdown__link\" href=\"/sponsors/\">Sponsors</a></li>\\n      <li><a class=\"dropdown__link\" href=\"/account/login/\">Log in</a></li>\\n      <li><a class=\"dropdown__link\" href=\"/account/register/\">Register</a></li>\\n    </ul>\\n  </nav>\\n</div>\\n          </div>\\n        </div>\\n      </div>\\n    </header>\\n\\n    \\n\\n    <main id=\"content\">\\n      \\n\\n\\n  \\n\\n\\n<div class=\"banner\">\\n  <div class=\"homepage-banner\">\\n    <h1 class=\"homepage-banner__title\">Find, install and publish Python packages with the Python Package Index</h1>\\n\\n    <form class=\"search-form search-form--large search-form--fullwidth\" action=\"/search/\" role=\"search\">\\n      <label for=\"search\" class=\"sr-only\">Search PyPI</label>\\n\\n      <!-- The following input is intentionally not autofocused, see https://github.com/pypa/warehouse/issues/6088 for more details -->\\n      <input id=\"search\" class=\"search-form__search large-input\" type=\"text\" name=\"q\" placeholder=\"Search projects\" autocomplete=\"off\" autocapitalize=\"off\" spellcheck=\"false\" data-controller=\"search-focus\" data-action=\"keydown@window->search-focus#focusSearchField\" data-target=\"search-focus.searchField\">\\n\\n      <button type=\"submit\" class=\"search-form__button\">\\n        <i class=\"fa fa-search\" aria-hidden=\"true\"></i>\\n        <span class=\"sr-only\">Search</span>\\n      </button>\\n    </form>\\n\\n    <p class=\"homepage-banner__browse\">Or <a href=\"/search/\">browse projects</a></p>\\n  </div>\\n</div>\\n\\n<div class=\"horizontal-section horizontal-section--grey horizontal-section--thin horizontal-section--statistics\">\\n  <div class=\"statistics-bar\">\\n    <p class=\"statistics-bar__statistic\">\\n    360,627 projects\\n    </p>\\n    <p class=\"statistics-bar__statistic\">\\n    3,274,235 releases\\n    </p>\\n    <p class=\"statistics-bar__statistic\">\\n    5,679,781 files\\n    </p>\\n    <p class=\"statistics-bar__statistic\">\\n    575,691 users\\n    </p>\\n  </div>\\n</div>\\n\\n<div class=\"horizontal-section\">\\n  <div class=\"about-pypi\">\\n    <div class=\"about-pypi__logo\">\\n      <img alt=\"\" src=\"/static/images/logo-large.6bdbb439.svg\">\\n    </div>\\n    <div class=\"about-pypi__text\">\\n      <p class=\"lede-paragraph\">The Python Package Index (PyPI) is a repository of software for the Python programming language.</p>\\n      <p>\\n        PyPI helps you find and install software developed and shared by the Python community.\\n        <a href=\"https://packaging.python.org/installing/\" title=\"External link\" target=\"_blank\" rel=\"noopener\">Learn about installing packages</a>.\\n      </p>\\n      <p>\\n        Package authors use PyPI to distribute their software.\\n        <a href=\"https://packaging.python.org/tutorials/packaging-projects/\" title=\"External link\" target=\"_blank\" rel=\"noopener\">Learn how to package your Python code for PyPI</a>.\\n      </p>\\n    </div>\\n  </div>\\n</div>\\n\\n<div class=\"horizontal-section horizontal-section--grey\">\\n  <div class=\"site-container\">\\n    <div class=\"col-half\">\\n      <div class=\"heading-wsubtitle\" id=\"pypi-trending-packages\">\\n        <h2 class=\"heading-wsubtitle__heading\">Trending projects</h2>\\n        <p class=\"heading-wsubtitle__subtitle\">Trending projects as downloaded by the community</p>\\n      </div>\\n      <ul class=\"unstyled\" aria-labelledby=\"pypi-trending-packages\">\\n        \\n          <li>\\n  <a class=\"package-snippet\" href=\"/project/leukgen-disambiguate/\" rel=\"nofollow\">\\n    <h3 class=\"package-snippet__title\">\\n      <span class=\"package-snippet__name\">leukgen-disambiguate</span>\\n      <span class=\"package-snippet__version\">1.0.1</span>\\n    </h3>\\n    <p class=\"package-snippet__description\">Disambiguate reads mapping to multiple genomes. This is a frozen release with some bug fixes of the original AstraZeneca-NGS/disambiguate v1.0.</p>\\n  </a>\\n</li>\\n        \\n          <li>\\n  <a class=\"package-snippet\" href=\"/project/fund-distributions/\" rel=\"nofollow\">\\n    <h3 class=\"package-snippet__title\">\\n      <span class=\"package-snippet__name\">fund-distributions</span>\\n      <span class=\"package-snippet__version\">0.2</span>\\n    </h3>\\n    <p class=\"package-snippet__description\">Gaussian  and Binomial distributions</p>\\n  </a>\\n</li>\\n        \\n          <li>\\n  <a class=\"package-snippet\" href=\"/project/pyleft/\" rel=\"nofollow\">\\n    <h3 class=\"package-snippet__title\">\\n      <span class=\"package-snippet__name\">pyleft</span>\\n      <span class=\"package-snippet__version\">1.0.1</span>\\n    </h3>\\n    <p class=\"package-snippet__description\">Python type annotation existence checker</p>\\n  </a>\\n</li>\\n        \\n          <li>\\n  <a class=\"package-snippet\" href=\"/project/mhask/\" rel=\"nofollow\">\\n    <h3 class=\"package-snippet__title\">\\n      <span class=\"package-snippet__name\">mhask</span>\\n      <span class=\"package-snippet__version\">0.0.0</span>\\n    </h3>\\n    <p class=\"package-snippet__description\">Micropython HTTP Asynchronous Service like Flask</p>\\n  </a>\\n</li>\\n        \\n          <li>\\n  <a class=\"package-snippet\" href=\"/project/tracker-scraper/\" rel=\"nofollow\">\\n    <h3 class=\"package-snippet__title\">\\n      <span class=\"package-snippet__name\">tracker-scraper</span>\\n      <span class=\"package-snippet__version\">1.1.0</span>\\n    </h3>\\n    <p class=\"package-snippet__description\">A simple torrent tracker scraper</p>\\n  </a>\\n</li>\\n        \\n      </ul>\\n    </div>\\n    <div class=\"col-half\">\\n      <div class=\"heading-wsubtitle\" id=\"pypi-new-packages\">\\n        <h2 class=\"heading-wsubtitle__heading\">New releases</h2>\\n        <p class=\"heading-wsubtitle__subtitle\">Hot off the press: the newest project releases</p>\\n      </div>\\n      <ul class=\"unstyled\" aria-labelledby=\"pypi-new-packages\">\\n        \\n          <li>\\n  <a class=\"package-snippet\" href=\"/project/mknotebooks/\" rel=\"nofollow\">\\n    <h3 class=\"package-snippet__title\">\\n      <span class=\"package-snippet__name\">mknotebooks</span>\\n      <span class=\"package-snippet__version\">0.7.1.post0.dev399</span>\\n    </h3>\\n    <p class=\"package-snippet__description\">Plugin for mkdocs to generate markdown documents from jupyter notebooks.</p>\\n  </a>\\n</li>\\n        \\n          <li>\\n  <a class=\"package-snippet\" href=\"/project/snakefmt/\" rel=\"nofollow\">\\n    <h3 class=\"package-snippet__title\">\\n      <span class=\"package-snippet__name\">snakefmt</span>\\n      <span class=\"package-snippet__version\">0.6.0</span>\\n    </h3>\\n    <p class=\"package-snippet__description\">The uncompromising Snakemake code formatter</p>\\n  </a>\\n</li>\\n        \\n          <li>\\n  <a class=\"package-snippet\" href=\"/project/moleculekit/\" rel=\"nofollow\">\\n    <h3 class=\"package-snippet__title\">\\n      <span class=\"package-snippet__name\">moleculekit</span>\\n      <span class=\"package-snippet__version\">1.1.8</span>\\n    </h3>\\n    <p class=\"package-snippet__description\">A molecule reading/writing and manipulation package.</p>\\n  </a>\\n</li>\\n        \\n          <li>\\n  <a class=\"package-snippet\" href=\"/project/terality/\" rel=\"nofollow\">\\n    <h3 class=\"package-snippet__title\">\\n      <span class=\"package-snippet__name\">terality</span>\\n      <span class=\"package-snippet__version\">0.14.2</span>\\n    </h3>\\n    <p class=\"package-snippet__description\">The Data Processing Engine for Data Scientists</p>\\n  </a>\\n</li>\\n        \\n          <li>\\n  <a class=\"package-snippet\" href=\"/project/dm-reverb-nightly/\" rel=\"nofollow\">\\n    <h3 class=\"package-snippet__title\">\\n      <span class=\"package-snippet__name\">dm-reverb-nightly</span>\\n      <span class=\"package-snippet__version\">0.8.0.dev20220303</span>\\n    </h3>\\n    <p class=\"package-snippet__description\">Reverb is an efficient and easy-to-use data storage and transport system designed for machine learning research.</p>\\n  </a>\\n</li>\\n        \\n      </ul>\\n    </div>\\n  </div>\\n</div>\\n\\n\\n    </main>\\n\\n    <footer class=\"footer\">\\n      <div class=\"footer__logo\">\\n        <img src=\"/static/images/white-cube.8c3a6fe9.svg\" alt=\"\" class=\"-js-white-cube\">\\n      </div>\\n\\n      <div class=\"footer__menus\">\\n        <div class=\"footer__menu\">\\n          <h2>Help</h2>\\n          <nav aria-label=\"Help navigation\">\\n            <ul>\\n              <li><a href=\"https://packaging.python.org/installing/\" title=\"External link\" target=\"_blank\" rel=\"noopener\">Installing packages</a></li>\\n              <li><a href=\"https://packaging.python.org/tutorials/packaging-projects/\" title=\"External link\" target=\"_blank\" rel=\"noopener\">Uploading packages</a></li>\\n              <li><a href=\"https://packaging.python.org/\" title=\"External link\" target=\"_blank\" rel=\"noopener\">User guide</a></li>\\n              <li><a href=\"/help/\">FAQs</a></li>\\n            </ul>\\n          </nav>\\n        </div>\\n\\n        <div class=\"footer__menu\">\\n          <h2>About PyPI</h2>\\n          <nav aria-label=\"About PyPI navigation\">\\n            <ul>\\n              <li><a href=\"https://twitter.com/PyPI\" title=\"External link\" target=\"_blank\" rel=\"noopener\">PyPI on Twitter</a></li>\\n              <li><a href=\"https://dtdg.co/pypi\" title=\"External link\" target=\"_blank\" rel=\"noopener\">Infrastructure dashboard</a></li>\\n              <li><a href=\"https://www.python.org/dev/peps/pep-0541/\" title=\"External link\" target=\"_blank\" rel=\"noopener\">Package index name retention</a></li>\\n              <li><a href=\"/sponsors/\">Our sponsors</a></li>\\n            </ul>\\n          </nav>\\n        </div>\\n\\n        <div class=\"footer__menu\">\\n          <h2>Contributing to PyPI</h2>\\n          <nav aria-label=\"How to contribute navigation\">\\n            <ul>\\n              <li><a href=\"/help/#feedback\">Bugs and feedback</a></li>\\n              <li><a href=\"https://github.com/pypa/warehouse\" title=\"External link\" target=\"_blank\" rel=\"noopener\">Contribute on GitHub</a></li>\\n              <li><a href=\"https://hosted.weblate.org/projects/pypa/warehouse/\" title=\"External link\" target=\"_blank\" rel=\"noopener\">Translate PyPI</a></li>\\n              <li><a href=\"https://github.com/pypa/warehouse/graphs/contributors\" title=\"External link\" target=\"_blank\" rel=\"noopener\">Development credits</a></li>\\n            </ul>\\n          </nav>\\n        </div>\\n\\n        <div class=\"footer__menu\">\\n          <h2>Using PyPI</h2>\\n          <nav aria-label=\"Using PyPI navigation\">\\n            <ul>\\n              <li><a href=\"https://github.com/pypa/.github/blob/main/CODE_OF_CONDUCT.md\" title=\"External link\" target=\"_blank\" rel=\"noopener\">Code of conduct</a></li>\\n              <li><a href=\"/security/\">Report security issue</a></li>\\n              <li><a href=\"https://www.python.org/privacy/\" title=\"External link\" target=\"_blank\" rel=\"noopener\">Privacy policy</a></li>\\n              <li><a href=\"/policy/terms-of-use/\">Terms of use</a></li>\\n            </ul>\\n          </nav>\\n        </div>\\n      </div>\\n\\n      <hr class=\"footer__divider\">\\n\\n      <div class=\"footer__text\">\\n        \\n        <p>Status: <a href=\"https://status.python.org/\" title=\"External link\" target=\"_blank\" rel=\"noopener\">\\n          <span data-statuspage-domain=\"https://2p66nmmycsj3.statuspage.io\">all systems operational</span></a>\\n        </p>\\n        \\n        <p>\\n          Developed and maintained by the Python community, for the Python community.\\n          <br>\\n          <a href=\"https://donate.pypi.org\">Donate today!</a>\\n        </p>\\n        <p>© 2022 <a href=\"https://www.python.org/psf/\" title=\"External link\" target=\"_blank\" rel=\"noopener\">Python Software Foundation</a><br>\\n          <a href=\"/sitemap/\">Site map</a>\\n        </p>\\n      </div>\\n\\n      <div class=\"centered hide-on-desktop\">\\n        <button type=\"button\" class=\"button button--switch-to-desktop hidden\" data-target=\"viewport-toggle.switchToDesktop\" data-action=\"viewport-toggle#switchToDesktop\">\\n          Switch to desktop version\\n        </button>\\n      </div>\\n    </footer>\\n\\n\\n    <div class=\"language-switcher\">\\n      <form action=\"/locale/\">\\n        <ul>\\n          \\n          <li>\\n            <button\\n              \\n              class=\"language-switcher__selected\"\\n              \\n              name=\"locale_id\" value=\"en\" type=\"submit\"\\n            >\\n              English\\n            </button>\\n          </li>\\n          \\n          <li>\\n            <button\\n              \\n              name=\"locale_id\" value=\"es\" type=\"submit\"\\n            >\\n              español\\n            </button>\\n          </li>\\n          \\n          <li>\\n            <button\\n              \\n              name=\"locale_id\" value=\"fr\" type=\"submit\"\\n            >\\n              français\\n            </button>\\n          </li>\\n          \\n          <li>\\n            <button\\n              \\n              name=\"locale_id\" value=\"ja\" type=\"submit\"\\n            >\\n              日本語\\n            </button>\\n          </li>\\n          \\n          <li>\\n            <button\\n              \\n              name=\"locale_id\" value=\"pt_BR\" type=\"submit\"\\n            >\\n              português (Brasil)\\n            </button>\\n          </li>\\n          \\n          <li>\\n            <button\\n              \\n              name=\"locale_id\" value=\"uk\" type=\"submit\"\\n            >\\n              українська\\n            </button>\\n          </li>\\n          \\n          <li>\\n            <button\\n              \\n              name=\"locale_id\" value=\"el\" type=\"submit\"\\n            >\\n              Ελληνικά\\n            </button>\\n          </li>\\n          \\n          <li>\\n            <button\\n              \\n              name=\"locale_id\" value=\"de\" type=\"submit\"\\n            >\\n              Deutsch\\n            </button>\\n          </li>\\n          \\n          <li>\\n            <button\\n              \\n              name=\"locale_id\" value=\"zh_Hans\" type=\"submit\"\\n            >\\n              中文 (简体)\\n            </button>\\n          </li>\\n          \\n          <li>\\n            <button\\n              \\n              name=\"locale_id\" value=\"zh_Hant\" type=\"submit\"\\n            >\\n              中文 (繁體)\\n            </button>\\n          </li>\\n          \\n          <li>\\n            <button\\n              \\n              name=\"locale_id\" value=\"ru\" type=\"submit\"\\n            >\\n              русский\\n            </button>\\n          </li>\\n          \\n          <li>\\n            <button\\n              \\n              name=\"locale_id\" value=\"he\" type=\"submit\"\\n            >\\n              עברית\\n            </button>\\n          </li>\\n          \\n          <li>\\n            <button\\n              \\n              name=\"locale_id\" value=\"eo\" type=\"submit\"\\n            >\\n              esperanto\\n            </button>\\n          </li>\\n          \\n        </ul>\\n      </form>\\n    </div>\\n\\n\\n    <div class=\"sponsors\">\\n  <p class=\"sponsors__title\">Supported by</p>\\n  \\n    \\n    \\n  \\n    \\n    \\n  \\n    \\n    \\n  \\n    \\n    \\n  \\n    \\n    \\n  \\n    \\n    \\n  \\n    \\n    \\n      \\n      \\n        <a class=\"sponsors__sponsor\" target=\"_blank\" rel=\"noopener\" href=\"https://aws.amazon.com/\">\\n          <img class=sponsors__image src=\"https://warehouse-camo.ingress.cmh1.psfhosted.org/ed7074cadad1a06f56bc520ad9bd3e00d0704c5b/68747470733a2f2f73746f726167652e676f6f676c65617069732e636f6d2f707970692d6173736574732f73706f6e736f726c6f676f732f6177732d77686974652d6c6f676f2d7443615473387a432e706e67\" alt=AWS>\\n          <span class=\"sponsors__name\">AWS</span>\\n          <span class=\"sponsors__service\">\\n          \\n          \\n            Cloud computing\\n          \\n          </span>\\n        </a>\\n      \\n    \\n  \\n    \\n    \\n  \\n    \\n    \\n      \\n      \\n    \\n  \\n    \\n    \\n  \\n    \\n    \\n  \\n    \\n    \\n  \\n    \\n    \\n  \\n    \\n    \\n  \\n    \\n    \\n      \\n      \\n    \\n  \\n    \\n    \\n  \\n    \\n    \\n      \\n      \\n    \\n  \\n    \\n    \\n  \\n    \\n    \\n  \\n    \\n    \\n  \\n    \\n    \\n      \\n      \\n        <a class=\"sponsors__sponsor\" target=\"_blank\" rel=\"noopener\" href=\"https://www.datadoghq.com/\">\\n          <img class=sponsors__image src=\"https://warehouse-camo.ingress.cmh1.psfhosted.org/8855f7c063a3bdb5b0ce8d91bfc50cf851cc5c51/68747470733a2f2f73746f726167652e676f6f676c65617069732e636f6d2f707970692d6173736574732f73706f6e736f726c6f676f732f64617461646f672d77686974652d6c6f676f2d6668644c4e666c6f2e706e67\" alt=Datadog>\\n          <span class=\"sponsors__name\">Datadog</span>\\n          <span class=\"sponsors__service\">\\n          \\n          \\n            Monitoring\\n          \\n          </span>\\n        </a>\\n      \\n    \\n  \\n    \\n    \\n  \\n    \\n    \\n      \\n      \\n    \\n  \\n    \\n    \\n      \\n      \\n        <a class=\"sponsors__sponsor\" target=\"_blank\" rel=\"noopener\" href=\"https://research.fb.com/\">\\n          <img class=sponsors__image src=\"https://warehouse-camo.ingress.cmh1.psfhosted.org/e338a8302eed851d9793e0a4a92f57b315eb5998/68747470733a2f2f73746f726167652e676f6f676c65617069732e636f6d2f707970692d6173736574732f73706f6e736f726c6f676f732f66616365626f6f6b2d696e7374616772616d2d77686974652d6c6f676f2d6750686a57647a722e706e67\" alt=\"Facebook / Instagram\">\\n          <span class=\"sponsors__name\">Facebook / Instagram</span>\\n          <span class=\"sponsors__service\">\\n          \\n          \\n            PSF Sponsor\\n          \\n          </span>\\n        </a>\\n      \\n    \\n  \\n    \\n    \\n      \\n      \\n        <a class=\"sponsors__sponsor\" target=\"_blank\" rel=\"noopener\" href=\"https://www.fastly.com/\">\\n          <img class=sponsors__image src=\"https://warehouse-camo.ingress.cmh1.psfhosted.org/df6fe8829cbff2d7f668d98571df1fd011f36192/68747470733a2f2f73746f726167652e676f6f676c65617069732e636f6d2f707970692d6173736574732f73706f6e736f726c6f676f732f666173746c792d77686974652d6c6f676f2d65684d3077735f6f2e706e67\" alt=Fastly>\\n          <span class=\"sponsors__name\">Fastly</span>\\n          <span class=\"sponsors__service\">\\n          \\n          \\n            CDN\\n          \\n          </span>\\n        </a>\\n      \\n    \\n  \\n    \\n    \\n  \\n    \\n    \\n      \\n      \\n        <a class=\"sponsors__sponsor\" target=\"_blank\" rel=\"noopener\" href=\"https://careers.google.com/\">\\n          <img class=sponsors__image src=\"https://warehouse-camo.ingress.cmh1.psfhosted.org/420cc8cf360bac879e24c923b2f50ba7d1314fb0/68747470733a2f2f73746f726167652e676f6f676c65617069732e636f6d2f707970692d6173736574732f73706f6e736f726c6f676f732f676f6f676c652d77686974652d6c6f676f2d616734424e3774332e706e67\" alt=Google>\\n          <span class=\"sponsors__name\">Google</span>\\n          <span class=\"sponsors__service\">\\n          \\n          \\n            Object Storage and Download Analytics\\n          \\n          </span>\\n        </a>\\n      \\n    \\n  \\n    \\n    \\n  \\n    \\n    \\n      \\n      \\n        <a class=\"sponsors__sponsor\" target=\"_blank\" rel=\"noopener\" href=\"https://www.python.org/psf/sponsors/#huawei\">\\n          <img class=sponsors__image src=\"https://warehouse-camo.ingress.cmh1.psfhosted.org/656ae2011c837dba1e2de4c8f85815eed86c0878/68747470733a2f2f73746f726167652e676f6f676c65617069732e636f6d2f707970692d6173736574732f73706f6e736f726c6f676f732f6875617765692d77686974652d6c6f676f2d416a465f553652312e706e67\" alt=Huawei>\\n          <span class=\"sponsors__name\">Huawei</span>\\n          <span class=\"sponsors__service\">\\n          \\n          \\n            PSF Sponsor\\n          \\n          </span>\\n        </a>\\n      \\n    \\n  \\n    \\n    \\n  \\n    \\n    \\n  \\n    \\n    \\n      \\n      \\n    \\n  \\n    \\n    \\n  \\n    \\n    \\n  \\n    \\n    \\n  \\n    \\n    \\n  \\n    \\n    \\n      \\n      \\n        <a class=\"sponsors__sponsor\" target=\"_blank\" rel=\"noopener\" href=\"https://www.python.org/psf/sponsors/#microsoft\">\\n          <img class=sponsors__image src=\"https://warehouse-camo.ingress.cmh1.psfhosted.org/524d1ce72f7772294ca4c1fe05d21dec8fa3f8ea/68747470733a2f2f73746f726167652e676f6f676c65617069732e636f6d2f707970692d6173736574732f73706f6e736f726c6f676f732f6d6963726f736f66742d77686974652d6c6f676f2d5a443172685444462e706e67\" alt=Microsoft>\\n          <span class=\"sponsors__name\">Microsoft</span>\\n          <span class=\"sponsors__service\">\\n          \\n          \\n            PSF Sponsor\\n          \\n          </span>\\n        </a>\\n      \\n    \\n  \\n    \\n    \\n  \\n    \\n    \\n  \\n    \\n    \\n  \\n    \\n    \\n      \\n      \\n        <a class=\"sponsors__sponsor\" target=\"_blank\" rel=\"noopener\" href=\"https://www.python.org/psf/sponsors/#nvidia\">\\n          <img class=sponsors__image src=\"https://warehouse-camo.ingress.cmh1.psfhosted.org/19eae9e26a9a9ffacc134095642b1392737c58fb/68747470733a2f2f73746f726167652e676f6f676c65617069732e636f6d2f707970692d6173736574732f73706f6e736f726c6f676f732f6e76696469612d77686974652d6c6f676f2d46394c393761474c2e706e67\" alt=NVIDIA>\\n          <span class=\"sponsors__name\">NVIDIA</span>\\n          <span class=\"sponsors__service\">\\n          \\n          \\n            PSF Sponsor\\n          \\n          </span>\\n        </a>\\n      \\n    \\n  \\n    \\n    \\n  \\n    \\n    \\n  \\n    \\n    \\n  \\n    \\n    \\n      \\n      \\n        <a class=\"sponsors__sponsor\" target=\"_blank\" rel=\"noopener\" href=\"https://www.pingdom.com/\">\\n          <img class=sponsors__image src=\"https://warehouse-camo.ingress.cmh1.psfhosted.org/d01053c02f3a626b73ffcb06b96367fdbbf9e230/68747470733a2f2f73746f726167652e676f6f676c65617069732e636f6d2f707970692d6173736574732f73706f6e736f726c6f676f732f70696e67646f6d2d77686974652d6c6f676f2d67355831547546362e706e67\" alt=Pingdom>\\n          <span class=\"sponsors__name\">Pingdom</span>\\n          <span class=\"sponsors__service\">\\n          \\n          \\n            Monitoring\\n          \\n          </span>\\n        </a>\\n      \\n    \\n  \\n    \\n    \\n  \\n    \\n    \\n  \\n    \\n    \\n  \\n    \\n    \\n  \\n    \\n    \\n  \\n    \\n    \\n  \\n    \\n    \\n  \\n    \\n    \\n  \\n    \\n    \\n  \\n    \\n    \\n  \\n    \\n    \\n      \\n      \\n        <a class=\"sponsors__sponsor\" target=\"_blank\" rel=\"noopener\" href=\"https://opensource.salesforce.com/\">\\n          <img class=sponsors__image src=\"https://warehouse-camo.ingress.cmh1.psfhosted.org/932f54a6c688f0bbc0e2f4e7b7dc5c067eed6c55/68747470733a2f2f73746f726167652e676f6f676c65617069732e636f6d2f707970692d6173736574732f73706f6e736f726c6f676f732f73616c6573666f7263652d77686974652d6c6f676f2d4539677a3053782d2e706e67\" alt=Salesforce>\\n          <span class=\"sponsors__name\">Salesforce</span>\\n          <span class=\"sponsors__service\">\\n          \\n          \\n            PSF Sponsor\\n          \\n          </span>\\n        </a>\\n      \\n    \\n  \\n    \\n    \\n  \\n    \\n    \\n      \\n      \\n        <a class=\"sponsors__sponsor\" target=\"_blank\" rel=\"noopener\" href=\"https://getsentry.com/for/python\">\\n          <img class=sponsors__image src=\"https://warehouse-camo.ingress.cmh1.psfhosted.org/b1dc2c04aa1a8efbacd6dc6254bb63429af47b41/68747470733a2f2f73746f726167652e676f6f676c65617069732e636f6d2f707970692d6173736574732f73706f6e736f726c6f676f732f73656e7472792d77686974652d6c6f676f2d31556836754c32452e706e67\" alt=Sentry>\\n          <span class=\"sponsors__name\">Sentry</span>\\n          <span class=\"sponsors__service\">\\n          \\n          \\n            Error logging\\n          \\n          </span>\\n        </a>\\n      \\n    \\n  \\n    \\n    \\n  \\n    \\n    \\n  \\n    \\n    \\n  \\n    \\n    \\n  \\n    \\n    \\n  \\n    \\n    \\n      \\n      \\n        <a class=\"sponsors__sponsor\" target=\"_blank\" rel=\"noopener\" href=\"https://statuspage.io\">\\n          <img class=sponsors__image src=\"https://warehouse-camo.ingress.cmh1.psfhosted.org/b611884ff90435a0575dbab7d9b0d3e60f136466/68747470733a2f2f73746f726167652e676f6f676c65617069732e636f6d2f707970692d6173736574732f73706f6e736f726c6f676f732f737461747573706167652d77686974652d6c6f676f2d5467476c6a4a2d502e706e67\" alt=StatusPage>\\n          <span class=\"sponsors__name\">StatusPage</span>\\n          <span class=\"sponsors__service\">\\n          \\n          \\n            Status page\\n          \\n          </span>\\n        </a>\\n      \\n    \\n  \\n    \\n    \\n  \\n    \\n    \\n  \\n    \\n    \\n  \\n    \\n    \\n  \\n    \\n    \\n  \\n</div>\\n\\n    \\n  </body>\\n\\n</html>'"
      ]
     },
     "execution_count": 27,
     "metadata": {},
     "output_type": "execute_result"
    }
   ],
   "source": [
    "halaman_pypi.text"
   ]
  },
  {
   "cell_type": "code",
   "execution_count": null,
   "id": "3c93241f-dce6-47e2-b76b-94ce346ddbe6",
   "metadata": {},
   "outputs": [],
   "source": []
  }
 ],
 "metadata": {
  "kernelspec": {
   "display_name": "Python 3 (ipykernel)",
   "language": "python",
   "name": "python3"
  },
  "language_info": {
   "codemirror_mode": {
    "name": "ipython",
    "version": 3
   },
   "file_extension": ".py",
   "mimetype": "text/x-python",
   "name": "python",
   "nbconvert_exporter": "python",
   "pygments_lexer": "ipython3",
   "version": "3.9.7"
  }
 },
 "nbformat": 4,
 "nbformat_minor": 5
}
