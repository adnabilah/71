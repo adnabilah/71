{
 "cells": [
  {
   "cell_type": "markdown",
   "id": "22e1b924-19a7-4a43-b468-2adc09345408",
   "metadata": {},
   "source": [
    "# Dictionary\n",
    "- cara buat pakai {}\n",
    "- menjelaskan apa itu objek dunia nyata ke komputer, ada atribut dan value, key-value\n",
    "- key selalu string\n",
    "- value bebas\n",
    "- tidak punya index, index digantikan oleh key\n",
    "- list dengan custom index (key)"
   ]
  },
  {
   "cell_type": "code",
   "execution_count": 1,
   "id": "4c7d32a5-31e6-47c0-9b69-a60e005e7a71",
   "metadata": {},
   "outputs": [
    {
     "name": "stdout",
     "output_type": "stream",
     "text": [
      "{}\n",
      "<class 'dict'>\n"
     ]
    }
   ],
   "source": [
    "andi = {}\n",
    "print(andi)\n",
    "print(type(andi))"
   ]
  },
  {
   "cell_type": "code",
   "execution_count": 6,
   "id": "2fb88e49-be79-427c-8a5b-2ea1df4d0c39",
   "metadata": {},
   "outputs": [
    {
     "name": "stdout",
     "output_type": "stream",
     "text": [
      "{'nama': 'Andhika Widjaja', 'umur': 24, 'hobi': ['tidur', 'programming'], '0': 12}\n",
      "<class 'dict'>\n"
     ]
    }
   ],
   "source": [
    "andi = {\n",
    "    \"nama\":\"Andhika Widjaja\",\n",
    "    \"umur\":24,\n",
    "    \"hobi\":[\"tidur\", \"programming\"],\n",
    "    \"0\":12\n",
    "}\n",
    "print(andi)\n",
    "print(type(andi))"
   ]
  },
  {
   "cell_type": "code",
   "execution_count": 7,
   "id": "2bf49692-67bd-4604-8e04-ba4f82ac1c9f",
   "metadata": {},
   "outputs": [
    {
     "name": "stdout",
     "output_type": "stream",
     "text": [
      "{37: 550000, 37.5: 560000, 38: 57000}\n"
     ]
    }
   ],
   "source": [
    "harga_sepatu = {\n",
    "    37: 550000,\n",
    "    37.5: 560000,\n",
    "    38: 57000\n",
    "}\n",
    "\n",
    "print(harga_sepatu)\n",
    "\n",
    "# key otomatis diubah jadi str oleh py"
   ]
  },
  {
   "cell_type": "markdown",
   "id": "87abfd99-e292-4660-8bde-9dd5b1d95d5d",
   "metadata": {},
   "source": [
    "# Cara Membaca Dictionary"
   ]
  },
  {
   "cell_type": "code",
   "execution_count": 8,
   "id": "1e94a059-d3d8-4a65-9050-79c178d27408",
   "metadata": {},
   "outputs": [
    {
     "data": {
      "text/plain": [
       "['tidur', 'programming']"
      ]
     },
     "execution_count": 8,
     "metadata": {},
     "output_type": "execute_result"
    }
   ],
   "source": [
    "# ambil hobi Andi\n",
    "andi['hobi']"
   ]
  },
  {
   "cell_type": "code",
   "execution_count": 1,
   "id": "2bc5b098-6212-4e73-8610-37435cb34260",
   "metadata": {},
   "outputs": [
    {
     "data": {
      "text/plain": [
       "['baz', 'qux', 'quux']"
      ]
     },
     "execution_count": 1,
     "metadata": {},
     "output_type": "execute_result"
    }
   ],
   "source": [
    "a = ['foo', 'bar', 'baz', 'qux', 'quux', 'corge']\n",
    "a[2:5]"
   ]
  },
  {
   "cell_type": "code",
   "execution_count": 3,
   "id": "2436f9a9-7078-4907-8db7-ea4c41a949b3",
   "metadata": {},
   "outputs": [
    {
     "name": "stdout",
     "output_type": "stream",
     "text": [
      "['foo', 'bar', 'baz', 'qux', 'quux', 'corge']\n",
      "['foo', 'bar', 'baz', 'qux', 'quux', 'corge', 'grault', 'garply']\n",
      "['foo', 'bar', 'baz', 'qux', 'quux', 'corge', 'foo', 'bar', 'baz', 'qux', 'quux', 'corge']\n"
     ]
    }
   ],
   "source": [
    "print(a)\n",
    "print(a + ['grault', 'garply'])\n",
    "print(a * 2)"
   ]
  },
  {
   "cell_type": "code",
   "execution_count": 4,
   "id": "0225cfc3-cd51-4924-9fc7-1cad3347817e",
   "metadata": {},
   "outputs": [
    {
     "name": "stdout",
     "output_type": "stream",
     "text": [
      "['foo', 'bar', 'baz', 'qux', 'quux', 'corge']\n",
      "6\n",
      "bar\n",
      "qux\n"
     ]
    }
   ],
   "source": [
    "print(a)\n",
    "print(len(a))\n",
    "print(min(a))\n",
    "print(max(a))"
   ]
  },
  {
   "cell_type": "code",
   "execution_count": 6,
   "id": "f475e58f-45d2-4396-9431-a91649ab69ba",
   "metadata": {},
   "outputs": [
    {
     "name": "stdout",
     "output_type": "stream",
     "text": [
      "['foo', 'bar', 10, 'qux', 'quux', 'corge']\n",
      "['foo', 'bar', 10, 'qux', 'quux', 20]\n"
     ]
    }
   ],
   "source": [
    "a = ['foo', 'bar', 'baz', 'qux', 'quux', 'corge']\n",
    "a[2] = 10\n",
    "print(a)\n",
    "a[-1] = 20\n",
    "print(a)"
   ]
  },
  {
   "cell_type": "code",
   "execution_count": 18,
   "id": "d5a6e7fe-56c9-4ada-ae1d-5d46ad5d309f",
   "metadata": {},
   "outputs": [
    {
     "name": "stdout",
     "output_type": "stream",
     "text": [
      "['bar', 'baz', 'qux', 'quux', 'corge']\n"
     ]
    }
   ],
   "source": [
    "a = ['foo', 'bar', 'baz', 'qux', 'quux', 'corge']\n",
    "del a[0]\n",
    "print(a)"
   ]
  },
  {
   "cell_type": "code",
   "execution_count": 19,
   "id": "367a10e9-f331-4b05-b55a-35fe88b7befb",
   "metadata": {},
   "outputs": [
    {
     "name": "stdout",
     "output_type": "stream",
     "text": [
      "['bar', 'baz', 'qux']\n",
      "['foo', 1.1, 2.2, 3.3, 4.4, 5.5, 'quux', 'corge']\n"
     ]
    }
   ],
   "source": [
    "a = ['foo', 'bar', 'baz', 'qux', 'quux', 'corge']\n",
    "print(a[1:4])\n",
    "a[1:4] = [1.1, 2.2, 3.3, 4.4, 5.5]\n",
    "print(a)"
   ]
  },
  {
   "cell_type": "code",
   "execution_count": 15,
   "id": "b20a85d8-048f-4fd5-9b03-c898c40f116d",
   "metadata": {},
   "outputs": [],
   "source": [
    "t = ("
   ]
  },
  {
   "cell_type": "code",
   "execution_count": null,
   "id": "93f88303-a878-4535-b4dc-9e4a41be6cd8",
   "metadata": {},
   "outputs": [],
   "source": []
  }
 ],
 "metadata": {
  "kernelspec": {
   "display_name": "Python 3 (ipykernel)",
   "language": "python",
   "name": "python3"
  },
  "language_info": {
   "codemirror_mode": {
    "name": "ipython",
    "version": 3
   },
   "file_extension": ".py",
   "mimetype": "text/x-python",
   "name": "python",
   "nbconvert_exporter": "python",
   "pygments_lexer": "ipython3",
   "version": "3.9.7"
  }
 },
 "nbformat": 4,
 "nbformat_minor": 5
}
