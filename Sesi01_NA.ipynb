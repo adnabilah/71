{
 "cells": [
  {
   "cell_type": "markdown",
   "id": "22e1b924-19a7-4a43-b468-2adc09345408",
   "metadata": {},
   "source": [
    "# Dictionary\n",
    "- cara buat pakai {}\n",
    "- menjelaskan apa itu objek dunia nyata ke komputer, ada atribut dan value, key-value\n",
    "- key selalu string!!!\n",
    "- value bebas\n",
    "- tidak punya index, index digantikan oleh key\n",
    "- list dengan custom index (key)\n",
    "- bisa dipanjangin ke kanan atau diturunin. mau ada spasi between : atau tidak juga bebas."
   ]
  },
  {
   "cell_type": "code",
   "execution_count": 1,
   "id": "4c7d32a5-31e6-47c0-9b69-a60e005e7a71",
   "metadata": {},
   "outputs": [
    {
     "name": "stdout",
     "output_type": "stream",
     "text": [
      "{}\n",
      "<class 'dict'>\n"
     ]
    }
   ],
   "source": [
    "andi = {}\n",
    "print(andi)\n",
    "print(type(andi))"
   ]
  },
  {
   "cell_type": "code",
   "execution_count": 83,
   "id": "2fb88e49-be79-427c-8a5b-2ea1df4d0c39",
   "metadata": {},
   "outputs": [
    {
     "name": "stdout",
     "output_type": "stream",
     "text": [
      "{'nama': 'Andhika Widjaja', 'umur': 24, 'hobi': ['tidur', 'programming'], '0': 12}\n",
      "<class 'dict'>\n"
     ]
    }
   ],
   "source": [
    "andi = {\n",
    "    \"nama\":\"Andhika Widjaja\",\n",
    "    \"umur\":24,\n",
    "    \"hobi\":[\"tidur\", \"programming\"],\n",
    "    \"0\":12\n",
    "}\n",
    "print(andi)\n",
    "print(type(andi))"
   ]
  },
  {
   "cell_type": "code",
   "execution_count": 84,
   "id": "2bf49692-67bd-4604-8e04-ba4f82ac1c9f",
   "metadata": {},
   "outputs": [
    {
     "name": "stdout",
     "output_type": "stream",
     "text": [
      "{37: 550000, 37.5: 560000, 38: 57000}\n"
     ]
    }
   ],
   "source": [
    "harga_sepatu = {\n",
    "    37: 550000,\n",
    "    37.5: 560000,\n",
    "    38: 57000\n",
    "}\n",
    "\n",
    "print(harga_sepatu)\n",
    "\n",
    "# key otomatis diubah jadi str oleh py"
   ]
  },
  {
   "cell_type": "code",
   "execution_count": 85,
   "id": "617c6cdf-2944-4b18-9445-b39116cfd715",
   "metadata": {},
   "outputs": [
    {
     "name": "stdout",
     "output_type": "stream",
     "text": [
      "{'nama': 'prita andini', 'umur': 24, 'pekerjaan': ['pegawai swasta', 'freelancer']}\n"
     ]
    }
   ],
   "source": [
    "# meski tidak akan error kalau key-nya dalam bentuk int, tetapi harusnya str. jadi ingat aja selalu pakai \"\" untuk key!!!\n",
    "\n",
    "prita = {\"nama\":\"prita andini\", \"umur\":24, \"pekerjaan\":[\"pegawai swasta\",\"freelancer\"]}\n",
    "print(prita)"
   ]
  },
  {
   "cell_type": "markdown",
   "id": "87abfd99-e292-4660-8bde-9dd5b1d95d5d",
   "metadata": {},
   "source": [
    "### Cara Membaca Dictionary"
   ]
  },
  {
   "cell_type": "code",
   "execution_count": 86,
   "id": "1e94a059-d3d8-4a65-9050-79c178d27408",
   "metadata": {},
   "outputs": [
    {
     "data": {
      "text/plain": [
       "['tidur', 'programming']"
      ]
     },
     "execution_count": 86,
     "metadata": {},
     "output_type": "execute_result"
    }
   ],
   "source": [
    "# ambil hobi Andi\n",
    "andi['hobi']"
   ]
  },
  {
   "cell_type": "code",
   "execution_count": 87,
   "id": "e4d77239-6367-4c2e-8061-39755cc00096",
   "metadata": {},
   "outputs": [
    {
     "name": "stdout",
     "output_type": "stream",
     "text": [
      "{'nama': 'Andhika Widjaja', 'umur': 32, 'hobi': ['tidur', 'programming'], '0': 12}\n"
     ]
    }
   ],
   "source": [
    "andi['umur'] = 32\n",
    "print(andi)"
   ]
  },
  {
   "cell_type": "code",
   "execution_count": 88,
   "id": "11deb06e-3aca-4205-9f37-c3ce069fe26f",
   "metadata": {},
   "outputs": [
    {
     "data": {
      "text/plain": [
       "'tidur'"
      ]
     },
     "execution_count": 88,
     "metadata": {},
     "output_type": "execute_result"
    }
   ],
   "source": [
    "andi['hobi'][0]"
   ]
  },
  {
   "cell_type": "code",
   "execution_count": 1,
   "id": "2bc5b098-6212-4e73-8610-37435cb34260",
   "metadata": {},
   "outputs": [
    {
     "data": {
      "text/plain": [
       "['baz', 'qux', 'quux']"
      ]
     },
     "execution_count": 1,
     "metadata": {},
     "output_type": "execute_result"
    }
   ],
   "source": [
    "a = ['foo', 'bar', 'baz', 'qux', 'quux', 'corge']\n",
    "a[2:5]"
   ]
  },
  {
   "cell_type": "code",
   "execution_count": 3,
   "id": "2436f9a9-7078-4907-8db7-ea4c41a949b3",
   "metadata": {},
   "outputs": [
    {
     "name": "stdout",
     "output_type": "stream",
     "text": [
      "['foo', 'bar', 'baz', 'qux', 'quux', 'corge']\n",
      "['foo', 'bar', 'baz', 'qux', 'quux', 'corge', 'grault', 'garply']\n",
      "['foo', 'bar', 'baz', 'qux', 'quux', 'corge', 'foo', 'bar', 'baz', 'qux', 'quux', 'corge']\n"
     ]
    }
   ],
   "source": [
    "print(a)\n",
    "print(a + ['grault', 'garply'])\n",
    "print(a * 2)"
   ]
  },
  {
   "cell_type": "code",
   "execution_count": 4,
   "id": "0225cfc3-cd51-4924-9fc7-1cad3347817e",
   "metadata": {},
   "outputs": [
    {
     "name": "stdout",
     "output_type": "stream",
     "text": [
      "['foo', 'bar', 'baz', 'qux', 'quux', 'corge']\n",
      "6\n",
      "bar\n",
      "qux\n"
     ]
    }
   ],
   "source": [
    "print(a)\n",
    "print(len(a))\n",
    "print(min(a))\n",
    "print(max(a))"
   ]
  },
  {
   "cell_type": "code",
   "execution_count": 6,
   "id": "f475e58f-45d2-4396-9431-a91649ab69ba",
   "metadata": {},
   "outputs": [
    {
     "name": "stdout",
     "output_type": "stream",
     "text": [
      "['foo', 'bar', 10, 'qux', 'quux', 'corge']\n",
      "['foo', 'bar', 10, 'qux', 'quux', 20]\n"
     ]
    }
   ],
   "source": [
    "a = ['foo', 'bar', 'baz', 'qux', 'quux', 'corge']\n",
    "a[2] = 10\n",
    "print(a)\n",
    "a[-1] = 20\n",
    "print(a)"
   ]
  },
  {
   "cell_type": "code",
   "execution_count": 18,
   "id": "d5a6e7fe-56c9-4ada-ae1d-5d46ad5d309f",
   "metadata": {},
   "outputs": [
    {
     "name": "stdout",
     "output_type": "stream",
     "text": [
      "['bar', 'baz', 'qux', 'quux', 'corge']\n"
     ]
    }
   ],
   "source": [
    "a = ['foo', 'bar', 'baz', 'qux', 'quux', 'corge']\n",
    "del a[0]\n",
    "print(a)"
   ]
  },
  {
   "cell_type": "code",
   "execution_count": 19,
   "id": "367a10e9-f331-4b05-b55a-35fe88b7befb",
   "metadata": {},
   "outputs": [
    {
     "name": "stdout",
     "output_type": "stream",
     "text": [
      "['bar', 'baz', 'qux']\n",
      "['foo', 1.1, 2.2, 3.3, 4.4, 5.5, 'quux', 'corge']\n"
     ]
    }
   ],
   "source": [
    "a = ['foo', 'bar', 'baz', 'qux', 'quux', 'corge']\n",
    "print(a[1:4])\n",
    "a[1:4] = [1.1, 2.2, 3.3, 4.4, 5.5]\n",
    "print(a)"
   ]
  },
  {
   "cell_type": "markdown",
   "id": "a8452b99-f729-45c7-8ba3-61ddc4192f7d",
   "metadata": {},
   "source": [
    "### menambah item/key ke dictionary"
   ]
  },
  {
   "cell_type": "code",
   "execution_count": 89,
   "id": "281177c8-a124-4891-a28e-a4bf7fa29aad",
   "metadata": {},
   "outputs": [
    {
     "name": "stdout",
     "output_type": "stream",
     "text": [
      "{'nama': 'Andhika Widjaja', 'umur': 32, 'hobi': ['tidur', 'programming'], '0': 12, 'student_id': 'PYTN071_S01'}\n"
     ]
    }
   ],
   "source": [
    "andi['student_id'] = \"PYTN071_S01\"\n",
    "print(andi)"
   ]
  },
  {
   "cell_type": "code",
   "execution_count": 90,
   "id": "21b624cc-3363-414e-be13-eb07567867a2",
   "metadata": {},
   "outputs": [
    {
     "name": "stdout",
     "output_type": "stream",
     "text": [
      "{'nama': 'andreas budiman', 'umur': 16, 'hobi': ['sepeda', 'basket']}\n"
     ]
    }
   ],
   "source": [
    "# dengan cara yang sama, kita bisa buat dictionary kosong lalu diisi satu persatu.\n",
    "\n",
    "budi = {}\n",
    "budi['nama'] = \"andreas budiman\"\n",
    "budi['umur'] = 16\n",
    "budi['hobi'] = [\"sepeda\", \"basket\"]\n",
    "print(budi)"
   ]
  },
  {
   "cell_type": "markdown",
   "id": "20d28ac3-3506-4988-b474-a0e946df1240",
   "metadata": {},
   "source": [
    "### lihat isi dictionary"
   ]
  },
  {
   "cell_type": "code",
   "execution_count": 91,
   "id": "8776cd73-30c9-4250-b312-e82c9b4efd0d",
   "metadata": {},
   "outputs": [
    {
     "data": {
      "text/plain": [
       "dict_keys(['nama', 'umur', 'hobi'])"
      ]
     },
     "execution_count": 91,
     "metadata": {},
     "output_type": "execute_result"
    }
   ],
   "source": [
    "# cek semua keys\n",
    "budi.keys()"
   ]
  },
  {
   "cell_type": "code",
   "execution_count": 92,
   "id": "aa0dea73-2d6c-4d64-8a11-da39f98034c7",
   "metadata": {},
   "outputs": [
    {
     "data": {
      "text/plain": [
       "dict_items([('nama', 'andreas budiman'), ('umur', 16), ('hobi', ['sepeda', 'basket'])])"
      ]
     },
     "execution_count": 92,
     "metadata": {},
     "output_type": "execute_result"
    }
   ],
   "source": [
    "budi.items()"
   ]
  },
  {
   "cell_type": "code",
   "execution_count": 93,
   "id": "2ed27df7-64bb-48f0-b1a5-627fc359d77b",
   "metadata": {},
   "outputs": [
    {
     "data": {
      "text/plain": [
       "dict_values(['andreas budiman', 16, ['sepeda', 'basket']])"
      ]
     },
     "execution_count": 93,
     "metadata": {},
     "output_type": "execute_result"
    }
   ],
   "source": [
    "budi.values()"
   ]
  },
  {
   "cell_type": "code",
   "execution_count": 95,
   "id": "613f9b87-2113-421a-a782-1da14b7e74da",
   "metadata": {},
   "outputs": [
    {
     "data": {
      "text/plain": [
       "3"
      ]
     },
     "execution_count": 95,
     "metadata": {},
     "output_type": "execute_result"
    }
   ],
   "source": [
    "len(budi) # untuk mengecek item"
   ]
  },
  {
   "cell_type": "code",
   "execution_count": null,
   "id": "127d902c-4cff-4d90-a423-7d74edc79055",
   "metadata": {},
   "outputs": [],
   "source": []
  },
  {
   "cell_type": "code",
   "execution_count": null,
   "id": "0a69f2cc-8e9b-4784-91ef-af303bcb698c",
   "metadata": {},
   "outputs": [],
   "source": []
  },
  {
   "cell_type": "markdown",
   "id": "712917eb-b925-4f79-acd3-ca43c46c103a",
   "metadata": {},
   "source": [
    "# Variable\n",
    "- tempat menyimpan data. gabisa dibikin lepas tanpa menyimpan/meng-assign data ke dia.\n",
    "- karena ada namanya, bisa dipanggil ulang. bisa dipakai ulang."
   ]
  },
  {
   "cell_type": "code",
   "execution_count": 1,
   "id": "23edc398-6b78-4c74-b53c-a9987124e6b8",
   "metadata": {},
   "outputs": [],
   "source": [
    "# assign str ke variable message --> variable assignment\n",
    "message = \"selamat malam\""
   ]
  },
  {
   "cell_type": "code",
   "execution_count": 2,
   "id": "e010d06a-2cf6-4744-8a06-91bb9992afc8",
   "metadata": {},
   "outputs": [
    {
     "name": "stdout",
     "output_type": "stream",
     "text": [
      "selamat malam\n"
     ]
    }
   ],
   "source": [
    "print(message)"
   ]
  },
  {
   "cell_type": "markdown",
   "id": "53c613a7-5f57-428f-8b3e-cb54015a8dc5",
   "metadata": {},
   "source": [
    "- iniDisebutCamelCase > untuk nama function\n",
    "- IniDisebutPascalCase > untuk nama class, sangat common untuk class\n",
    "- ini-disebut-kebab-case\n",
    "- ini_disebut_snake_case > untuk nama variable"
   ]
  },
  {
   "cell_type": "markdown",
   "id": "a8023b42-2ec4-42c7-bcb8-ac7d8bf6c2ef",
   "metadata": {},
   "source": [
    "### penulisan variable:\n",
    "- tidak bisa dimulai dengan angka. misal 123buku: dia udah ngira akan berbentuk int, tapi tiba2 disambung str (kelihatan dr warnanya). maka dia bingung."
   ]
  },
  {
   "cell_type": "markdown",
   "id": "591e67e3-8703-468c-9b3f-14f3a275c2f9",
   "metadata": {},
   "source": [
    "# Manipulasi Data\n",
    "### Operator dan Expression di Python\n",
    "- arithmetic operators \\+ - * / % **\n",
    "- in\n",
    "- comparison operators \\> \\< \\=\\= \\!\\=\n",
    "### built-in functions\n",
    "- string ada fungsi untuk ubah casenya"
   ]
  },
  {
   "cell_type": "code",
   "execution_count": 4,
   "id": "6f2ce2e2-9b65-49df-a754-e1ef91d6babe",
   "metadata": {},
   "outputs": [
    {
     "name": "stdout",
     "output_type": "stream",
     "text": [
      "hasil penambahan a dan b = 11\n"
     ]
    }
   ],
   "source": [
    "a = 5\n",
    "b = 6\n",
    "c = a + b\n",
    "print(\"hasil penambahan a dan b =\", c)"
   ]
  },
  {
   "cell_type": "code",
   "execution_count": 5,
   "id": "cb5b02e7-c92b-49fc-abf2-c767014b7f13",
   "metadata": {},
   "outputs": [
    {
     "name": "stdout",
     "output_type": "stream",
     "text": [
      "False\n",
      "True\n",
      "False\n",
      "True\n",
      "False\n",
      "True\n"
     ]
    }
   ],
   "source": [
    "a = 7\n",
    "b = 10\n",
    "\n",
    "print(a > b)\n",
    "print(a < b)\n",
    "print(a >= b)\n",
    "print(a <= b)\n",
    "print(a == b)\n",
    "print(a != b)"
   ]
  },
  {
   "cell_type": "code",
   "execution_count": 6,
   "id": "ee02cc7b-d943-44ed-90ce-bb2d67dc0c5c",
   "metadata": {},
   "outputs": [
    {
     "name": "stdout",
     "output_type": "stream",
     "text": [
      "False\n",
      "True\n",
      "False\n",
      "True\n",
      "False\n",
      "True\n"
     ]
    }
   ],
   "source": [
    "a = \"a\"\n",
    "b = \"b\"\n",
    "\n",
    "print(a > b)\n",
    "print(a < b)\n",
    "print(a >= b)\n",
    "print(a <= b)\n",
    "print(a == b)\n",
    "print(a != b)"
   ]
  },
  {
   "cell_type": "markdown",
   "id": "c0b89d16-2c76-4573-8d04-d850a251f392",
   "metadata": {},
   "source": [
    "### string manipulation"
   ]
  },
  {
   "cell_type": "code",
   "execution_count": 8,
   "id": "303ab46f-1b79-48ad-bedb-6051eb222207",
   "metadata": {},
   "outputs": [
    {
     "name": "stdout",
     "output_type": "stream",
     "text": [
      "halo halo Bandung dan Bali21.5\n"
     ]
    }
   ],
   "source": [
    "message = \"halo halo Bandung\"\n",
    "print(message + \" dan Bali\" + str(21.5))"
   ]
  },
  {
   "cell_type": "code",
   "execution_count": 9,
   "id": "9a3953b0-901a-47a9-a6c2-e313752f0146",
   "metadata": {},
   "outputs": [
    {
     "name": "stdout",
     "output_type": "stream",
     "text": [
      "halo halo Bandung. \n",
      "halo halo Bandung. \n",
      "halo halo Bandung. \n",
      "halo halo Bandung. \n",
      "halo halo Bandung. \n",
      "\n"
     ]
    }
   ],
   "source": [
    "# hanya bisa gabungin str dengan str! jadi kalau di contoh atas str()-nya dibuang, gabisa.\n",
    "\n",
    "print((message + \". \\n\") * 5)"
   ]
  },
  {
   "cell_type": "code",
   "execution_count": 96,
   "id": "a1a60b9f-c351-4790-b1e8-67d91b95cc3a",
   "metadata": {},
   "outputs": [
    {
     "name": "stdout",
     "output_type": "stream",
     "text": [
      "Bandung lautan api\n",
      "18\n"
     ]
    }
   ],
   "source": [
    "print(message)\n",
    "print(len(message))"
   ]
  },
  {
   "cell_type": "markdown",
   "id": "d54b6a74-34f2-4b3f-be28-bae32eac21ec",
   "metadata": {},
   "source": [
    "### operator \"in\""
   ]
  },
  {
   "cell_type": "code",
   "execution_count": 10,
   "id": "3a188b87-d16c-4037-bace-dd24972f8e9b",
   "metadata": {},
   "outputs": [
    {
     "data": {
      "text/plain": [
       "False"
      ]
     },
     "execution_count": 10,
     "metadata": {},
     "output_type": "execute_result"
    }
   ],
   "source": [
    "\"Bali\" in message"
   ]
  },
  {
   "cell_type": "code",
   "execution_count": 11,
   "id": "e883130d-6778-4325-81a7-d57bb4a2b32e",
   "metadata": {},
   "outputs": [
    {
     "data": {
      "text/plain": [
       "True"
      ]
     },
     "execution_count": 11,
     "metadata": {},
     "output_type": "execute_result"
    }
   ],
   "source": [
    "\"Bandung\" in message"
   ]
  },
  {
   "cell_type": "code",
   "execution_count": 13,
   "id": "937b8a8b-062b-45e0-96d3-22262c184ed4",
   "metadata": {},
   "outputs": [
    {
     "data": {
      "text/plain": [
       "False"
      ]
     },
     "execution_count": 13,
     "metadata": {},
     "output_type": "execute_result"
    }
   ],
   "source": [
    "# akan false, kecuali kita pakai case conversion\n",
    "\n",
    "\"bandung\" in message"
   ]
  },
  {
   "cell_type": "markdown",
   "id": "95028778-27aa-4acc-90a0-b02517e66eb5",
   "metadata": {},
   "source": [
    "### case conversion"
   ]
  },
  {
   "cell_type": "code",
   "execution_count": 17,
   "id": "757ab94b-c426-4f75-b7c0-ebc0ee5fd0f3",
   "metadata": {},
   "outputs": [],
   "source": [
    "message = \"Bandung lautan api\""
   ]
  },
  {
   "cell_type": "code",
   "execution_count": 15,
   "id": "7599b7a4-2b71-4013-bee3-ce6801f0315a",
   "metadata": {},
   "outputs": [
    {
     "name": "stdout",
     "output_type": "stream",
     "text": [
      "BANDUNG LAUTAN API\n"
     ]
    }
   ],
   "source": [
    "print(message.upper())"
   ]
  },
  {
   "cell_type": "code",
   "execution_count": 16,
   "id": "6ab41b6e-92cd-4ffc-afab-d2abcd4b1712",
   "metadata": {},
   "outputs": [
    {
     "name": "stdout",
     "output_type": "stream",
     "text": [
      "bandung lautan api\n"
     ]
    }
   ],
   "source": [
    "print(message.lower())"
   ]
  },
  {
   "cell_type": "code",
   "execution_count": 18,
   "id": "4b803888-0eae-4efc-be44-0b3fe5bd6c08",
   "metadata": {},
   "outputs": [
    {
     "name": "stdout",
     "output_type": "stream",
     "text": [
      "Bandung Lautan Api\n"
     ]
    }
   ],
   "source": [
    "print(message.title())"
   ]
  },
  {
   "cell_type": "code",
   "execution_count": 19,
   "id": "f8606c19-c5ae-4735-8dd4-4f231eae9e58",
   "metadata": {},
   "outputs": [
    {
     "name": "stdout",
     "output_type": "stream",
     "text": [
      "bANDUNG LAUTAN API\n"
     ]
    }
   ],
   "source": [
    "print(message.swapcase())"
   ]
  },
  {
   "cell_type": "code",
   "execution_count": 20,
   "id": "b66803c7-644c-4e8a-8f9c-1a75c2a31258",
   "metadata": {},
   "outputs": [
    {
     "name": "stdout",
     "output_type": "stream",
     "text": [
      "Bandung lautan api\n"
     ]
    }
   ],
   "source": [
    "print(message.capitalize())"
   ]
  },
  {
   "cell_type": "code",
   "execution_count": 21,
   "id": "430b8d6e-d53f-4454-98f0-8b455aba031e",
   "metadata": {},
   "outputs": [
    {
     "data": {
      "text/plain": [
       "True"
      ]
     },
     "execution_count": 21,
     "metadata": {},
     "output_type": "execute_result"
    }
   ],
   "source": [
    "\"bandung\".lower() in message.lower()"
   ]
  },
  {
   "cell_type": "markdown",
   "id": "bffa59a7-7c0d-41f3-bee3-219cb7dda81b",
   "metadata": {},
   "source": [
    "# List\n",
    "- pakai []\n",
    "- tipe data bebas\n",
    "- akses data pakai index"
   ]
  },
  {
   "cell_type": "code",
   "execution_count": 22,
   "id": "456f43e3-0436-45dd-b9c5-570d64a6142f",
   "metadata": {},
   "outputs": [
    {
     "name": "stdout",
     "output_type": "stream",
     "text": [
      "['jeruk', 'mangga', 'kelapa']\n",
      "<class 'list'>\n"
     ]
    }
   ],
   "source": [
    "list_buah = ['jeruk', 'mangga', 'kelapa']\n",
    "print(list_buah)\n",
    "print(type(list_buah))"
   ]
  },
  {
   "cell_type": "code",
   "execution_count": 24,
   "id": "969d873a-b6cf-46cc-bc6e-405ac57e84d9",
   "metadata": {},
   "outputs": [
    {
     "data": {
      "text/plain": [
       "\"['jeruk', 'mangga', 'kelapa']\""
      ]
     },
     "execution_count": 24,
     "metadata": {},
     "output_type": "execute_result"
    }
   ],
   "source": [
    "# bisa diubah jadi tipe data lain. dalam hal ini, str atau bool\n",
    "\n",
    "str(list_buah)"
   ]
  },
  {
   "cell_type": "code",
   "execution_count": 25,
   "id": "da5ae964-8774-4677-9ac1-d6a96118907b",
   "metadata": {},
   "outputs": [
    {
     "data": {
      "text/plain": [
       "True"
      ]
     },
     "execution_count": 25,
     "metadata": {},
     "output_type": "execute_result"
    }
   ],
   "source": [
    "bool(list_buah)"
   ]
  },
  {
   "cell_type": "code",
   "execution_count": 26,
   "id": "01d668cf-0885-49e0-a319-ef7c95e59a9f",
   "metadata": {},
   "outputs": [
    {
     "name": "stdout",
     "output_type": "stream",
     "text": [
      "True\n",
      "['jeruk', 'mangga', 'kelapa']\n"
     ]
    }
   ],
   "source": [
    "print(bool(list_buah))\n",
    "print(str(list_buah))"
   ]
  },
  {
   "cell_type": "markdown",
   "id": "1b7838a1-e361-4032-a347-8343fccf5aa9",
   "metadata": {},
   "source": [
    "### indexing\n",
    "- memanggil data dalam list\n",
    "- index adalah angka urut, atau antrian/queue/array\n",
    "- bisa hitung mundur. angka terakhir adalah -1"
   ]
  },
  {
   "cell_type": "code",
   "execution_count": 29,
   "id": "284a8add-fb19-4a81-87b7-d743aae23fd8",
   "metadata": {},
   "outputs": [
    {
     "name": "stdout",
     "output_type": "stream",
     "text": [
      "jeruk\n"
     ]
    }
   ],
   "source": [
    "buah_pertama = list_buah[0]\n",
    "print(buah_pertama)"
   ]
  },
  {
   "cell_type": "code",
   "execution_count": 30,
   "id": "0f4e6f30-7f18-460a-b1f8-a3212e32f7b9",
   "metadata": {},
   "outputs": [
    {
     "name": "stdout",
     "output_type": "stream",
     "text": [
      "kelapa\n"
     ]
    }
   ],
   "source": [
    "buah_terakhir = list_buah[-1]\n",
    "print(buah_terakhir)"
   ]
  },
  {
   "cell_type": "markdown",
   "id": "1e638302-16b2-4921-9bb7-066f917cd040",
   "metadata": {},
   "source": [
    "### slicing\n",
    "- mengambil beberapa data sekaligus"
   ]
  },
  {
   "cell_type": "code",
   "execution_count": 37,
   "id": "603696dd-e178-406a-9a0f-777a7dae91b3",
   "metadata": {},
   "outputs": [
    {
     "name": "stdout",
     "output_type": "stream",
     "text": [
      "['jeruk', 'mangga']\n"
     ]
    }
   ],
   "source": [
    "buah_sebagian = list_buah[:2]\n",
    "print(buah_sebagian)"
   ]
  },
  {
   "cell_type": "code",
   "execution_count": 33,
   "id": "0b7352ce-228a-40f4-b21d-fa4ed838050f",
   "metadata": {},
   "outputs": [
    {
     "name": "stdout",
     "output_type": "stream",
     "text": [
      "['mangga', 'kelapa']\n"
     ]
    }
   ],
   "source": [
    "buah_sebagian = list_buah[-2:]\n",
    "print(buah_sebagian)"
   ]
  },
  {
   "cell_type": "code",
   "execution_count": 36,
   "id": "8ebd6d42-4cbb-4bed-a8e7-8ee0c2f2bf11",
   "metadata": {},
   "outputs": [
    {
     "name": "stdout",
     "output_type": "stream",
     "text": [
      "['jeruk', 'mangga', 'kelapa']\n"
     ]
    }
   ],
   "source": [
    "buah_semua = list_buah[:] # kalau angka tidak ditulis sekitar :, artinya di kiri berarti dari awal, kalo di kanan sampai akhir\n",
    "print(buah_semua)"
   ]
  },
  {
   "cell_type": "markdown",
   "id": "9065fff4-067d-4f3f-9796-41bb522511bb",
   "metadata": {},
   "source": [
    "### concatenation (+) and replication (*)"
   ]
  },
  {
   "cell_type": "code",
   "execution_count": 38,
   "id": "ec16860b-6c2d-448c-9601-c26fc96c2ceb",
   "metadata": {},
   "outputs": [
    {
     "name": "stdout",
     "output_type": "stream",
     "text": [
      "['jeruk', 'mangga', 'kelapa', 'apel', 'pir']\n"
     ]
    }
   ],
   "source": [
    "print(list_buah + ['apel', 'pir'])"
   ]
  },
  {
   "cell_type": "code",
   "execution_count": 39,
   "id": "756aae3c-89cc-41fd-b351-3e0574636f7f",
   "metadata": {},
   "outputs": [
    {
     "name": "stdout",
     "output_type": "stream",
     "text": [
      "['jeruk', 'mangga', 'kelapa', 'jeruk', 'mangga', 'kelapa', 'jeruk', 'mangga', 'kelapa']\n"
     ]
    }
   ],
   "source": [
    "print(list_buah * 3)"
   ]
  },
  {
   "cell_type": "markdown",
   "id": "16143688-cce6-4513-9908-322d98f640c5",
   "metadata": {},
   "source": [
    "### built-in functionality: len, min, max"
   ]
  },
  {
   "cell_type": "code",
   "execution_count": 42,
   "id": "f1b028b8-4b6d-4520-a0f5-6cdaaeda21b5",
   "metadata": {},
   "outputs": [
    {
     "name": "stdout",
     "output_type": "stream",
     "text": [
      "3\n",
      "jeruk\n",
      "mangga\n"
     ]
    }
   ],
   "source": [
    "print(len(list_buah))\n",
    "print(min(list_buah)) # kalau di string, dia lihat dari urutan abjad\n",
    "print(max(list_buah))"
   ]
  },
  {
   "cell_type": "markdown",
   "id": "6e37a57f-25c7-4855-aac1-1aa983eb417f",
   "metadata": {},
   "source": [
    "### update item list"
   ]
  },
  {
   "cell_type": "code",
   "execution_count": 46,
   "id": "215f29ee-1ae2-4e37-b1e4-0b370b892a5c",
   "metadata": {},
   "outputs": [
    {
     "name": "stdout",
     "output_type": "stream",
     "text": [
      "['kiwi', 'mangga', 'kelapa']\n"
     ]
    }
   ],
   "source": [
    "print(list_buah)"
   ]
  },
  {
   "cell_type": "code",
   "execution_count": 47,
   "id": "88a8749b-ec2b-4793-8932-067a55cf4f3c",
   "metadata": {},
   "outputs": [
    {
     "name": "stdout",
     "output_type": "stream",
     "text": [
      "['duku', 'mangga', 'kelapa']\n"
     ]
    }
   ],
   "source": [
    "list_buah[0] = \"duku\"\n",
    "print(list_buah)"
   ]
  },
  {
   "cell_type": "code",
   "execution_count": 48,
   "id": "f9acceed-d1e3-4538-b793-fd4534a6886a",
   "metadata": {},
   "outputs": [],
   "source": [
    "list_buah[:3] = [\"pisang\", \"delima\", \"leci\"]"
   ]
  },
  {
   "cell_type": "code",
   "execution_count": 49,
   "id": "885a0df9-e8ff-45c4-aac4-2d39698bb7f8",
   "metadata": {},
   "outputs": [
    {
     "name": "stdout",
     "output_type": "stream",
     "text": [
      "['pisang', 'delima', 'leci']\n"
     ]
    }
   ],
   "source": [
    "print(list_buah)"
   ]
  },
  {
   "cell_type": "markdown",
   "id": "085f2ffb-bea2-4375-8992-6d0ddc692885",
   "metadata": {},
   "source": [
    "### append and remove"
   ]
  },
  {
   "cell_type": "code",
   "execution_count": 50,
   "id": "144cddfe-a580-471d-ac51-cdfc1136144d",
   "metadata": {},
   "outputs": [
    {
     "name": "stdout",
     "output_type": "stream",
     "text": [
      "['pisang', 'delima', 'leci']\n"
     ]
    }
   ],
   "source": [
    "print(list_buah)"
   ]
  },
  {
   "cell_type": "code",
   "execution_count": 52,
   "id": "26b6a1b0-6ea1-4a78-972f-ae084f344abf",
   "metadata": {},
   "outputs": [],
   "source": [
    "list_buah.append(\"nanas\") # kalau pakai append, gaperlu assign variablenya"
   ]
  },
  {
   "cell_type": "code",
   "execution_count": 53,
   "id": "5cbd651d-1a10-4fd6-985b-efb3e2ed8aae",
   "metadata": {},
   "outputs": [
    {
     "name": "stdout",
     "output_type": "stream",
     "text": [
      "['pisang', 'delima', 'leci', 'nanas']\n"
     ]
    }
   ],
   "source": [
    "print(list_buah)"
   ]
  },
  {
   "cell_type": "code",
   "execution_count": 54,
   "id": "c219e5f1-81b2-46b4-9f41-cba31d8b1126",
   "metadata": {},
   "outputs": [
    {
     "name": "stdout",
     "output_type": "stream",
     "text": [
      "['pisang', 'delima', 'nanas']\n"
     ]
    }
   ],
   "source": [
    "list_buah.remove(\"leci\")\n",
    "print(list_buah)"
   ]
  },
  {
   "cell_type": "code",
   "execution_count": 58,
   "id": "78907dbc-bd0a-469c-a4cd-c04178e9c8d4",
   "metadata": {},
   "outputs": [
    {
     "name": "stdout",
     "output_type": "stream",
     "text": [
      "['pisang', 'delima', 'nanas', 'semangka', 'semangka', 'semangka', 'durian']\n"
     ]
    }
   ],
   "source": [
    "list_buah = list_buah + [\"durian\"] # list harus ditambah dengan list lagi, gabisa dengan str dll!\n",
    "print(list_buah)"
   ]
  },
  {
   "cell_type": "markdown",
   "id": "ba4dfe5d-ab56-4b1e-84c2-34012cda7fd1",
   "metadata": {},
   "source": [
    "### operator in"
   ]
  },
  {
   "cell_type": "code",
   "execution_count": 60,
   "id": "fa98ffeb-ea89-4de0-a833-1987a79b3086",
   "metadata": {},
   "outputs": [
    {
     "data": {
      "text/plain": [
       "False"
      ]
     },
     "execution_count": 60,
     "metadata": {},
     "output_type": "execute_result"
    }
   ],
   "source": [
    "\"apel\" in list_buah"
   ]
  },
  {
   "cell_type": "markdown",
   "id": "20beb909-803c-484c-bd5c-9320f850c48b",
   "metadata": {},
   "source": [
    "### tipe data dalam list bebas."
   ]
  },
  {
   "cell_type": "code",
   "execution_count": 62,
   "id": "092fcc60-6478-44d1-8c11-857d00a9ef33",
   "metadata": {},
   "outputs": [
    {
     "name": "stdout",
     "output_type": "stream",
     "text": [
      "[123, 45.5, True, 'hi', ['pisang', 'delima', 'nanas', 'semangka', 'semangka', 'semangka', 'durian'], [1, 3, 4]]\n"
     ]
    }
   ],
   "source": [
    "list_random = [123, 45.5, True, \"hi\", list_buah, [1,3,4]]\n",
    "print(list_random)"
   ]
  },
  {
   "cell_type": "markdown",
   "id": "0a2624dc-19e7-4e4e-8a32-0bc402e0e943",
   "metadata": {},
   "source": [
    "# Tuple\n",
    "- mirip list, tapi item tidak bisa diganti!\n",
    "- pakai () BUKAN []\n",
    "- cara akses sama dengan list, pakai index"
   ]
  },
  {
   "cell_type": "code",
   "execution_count": 63,
   "id": "5d6f73f2-d1c7-45ad-bb46-e7e5df3e45ba",
   "metadata": {},
   "outputs": [
    {
     "name": "stdout",
     "output_type": "stream",
     "text": [
      "(90, 95, 87)\n",
      "<class 'tuple'>\n"
     ]
    }
   ],
   "source": [
    "nilai_ujian = (90, 95, 87)\n",
    "print(nilai_ujian)\n",
    "print(type(nilai_ujian))"
   ]
  },
  {
   "cell_type": "code",
   "execution_count": 66,
   "id": "e1cd543a-00cc-445f-b401-fae1aaef08f1",
   "metadata": {},
   "outputs": [],
   "source": [
    "# tuple gabisa pakai + untuk nambah data meski udah sama2 dalam bentuk tuple misal (12)\n",
    "# tuple juga gabisa append\n",
    "# kalau mau, ubah dulu ke list!"
   ]
  },
  {
   "cell_type": "code",
   "execution_count": 69,
   "id": "d141ae34-f11d-4121-84fc-d4bf0a0a4dcc",
   "metadata": {},
   "outputs": [
    {
     "data": {
      "text/plain": [
       "(90, 95, 87, 88, 89)"
      ]
     },
     "execution_count": 69,
     "metadata": {},
     "output_type": "execute_result"
    }
   ],
   "source": [
    "tuple(list(nilai_ujian) + [88, 89])"
   ]
  },
  {
   "cell_type": "code",
   "execution_count": 72,
   "id": "3d4a4e6d-63ab-400d-bc46-04265139a534",
   "metadata": {},
   "outputs": [
    {
     "name": "stdout",
     "output_type": "stream",
     "text": [
      "87\n"
     ]
    }
   ],
   "source": [
    "nilai_andi = nilai_ujian[2]\n",
    "print(nilai_andi)"
   ]
  },
  {
   "cell_type": "code",
   "execution_count": 73,
   "id": "aa44e60f-32b8-4d95-a7d9-dfbc41201bc1",
   "metadata": {},
   "outputs": [],
   "source": [
    "# karena tidak bisa reassign nilai item di tuple, nilai_andi tidak bisa diubah!\n",
    "# biasanya dipakai kalau kita ingin make sure data ini tidak akan accidentally berubah."
   ]
  },
  {
   "cell_type": "markdown",
   "id": "ec392f0a-b2c4-4294-92f3-ad67f5e980fa",
   "metadata": {},
   "source": [
    "# packing and unpacking\n",
    "- bisa di list atau tuple"
   ]
  },
  {
   "cell_type": "code",
   "execution_count": 75,
   "id": "2ae73cf0-05ee-4466-bf38-f786bc46dc4e",
   "metadata": {},
   "outputs": [
    {
     "name": "stdout",
     "output_type": "stream",
     "text": [
      "apple\n",
      "banana\n",
      "c\n"
     ]
    }
   ],
   "source": [
    "list_buah = [\"apple\", \"banana\", \"c\"]\n",
    "\n",
    "a,b,c = list_buah\n",
    "\n",
    "print(a)\n",
    "print(b)\n",
    "print(c)"
   ]
  },
  {
   "cell_type": "code",
   "execution_count": 76,
   "id": "99f594d1-b045-46c1-862c-35b3524b5276",
   "metadata": {},
   "outputs": [
    {
     "name": "stdout",
     "output_type": "stream",
     "text": [
      "95\n"
     ]
    }
   ],
   "source": [
    "tuple_nilai = (100, 90, 95, 85, 80)\n",
    "andi, budi, denis, tita, rena = tuple_nilai\n",
    "print(denis)"
   ]
  },
  {
   "cell_type": "code",
   "execution_count": null,
   "id": "6e3b144f-2c65-48f1-a78e-09d6c4569181",
   "metadata": {},
   "outputs": [],
   "source": []
  }
 ],
 "metadata": {
  "kernelspec": {
   "display_name": "Python 3 (ipykernel)",
   "language": "python",
   "name": "python3"
  },
  "language_info": {
   "codemirror_mode": {
    "name": "ipython",
    "version": 3
   },
   "file_extension": ".py",
   "mimetype": "text/x-python",
   "name": "python",
   "nbconvert_exporter": "python",
   "pygments_lexer": "ipython3",
   "version": "3.9.7"
  }
 },
 "nbformat": 4,
 "nbformat_minor": 5
}
