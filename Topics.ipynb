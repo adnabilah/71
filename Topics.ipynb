{
 "cells": [
  {
   "cell_type": "markdown",
   "id": "e33d2819-ea61-4942-9b99-9fc8683db22c",
   "metadata": {},
   "source": [
    "# __*---Sesi 01---*__\n",
    "## Data types:\n",
    "- int, float, bool, str\n"
   ]
  },
  {
   "cell_type": "markdown",
   "id": "b91ee1cd-de5f-473d-ae55-7156f35023b6",
   "metadata": {},
   "source": [
    "## Convert data types\n",
    "## Variable\n"
   ]
  },
  {
   "cell_type": "markdown",
   "id": "ae5e83f2-b370-4587-be71-8fa8018284f0",
   "metadata": {},
   "source": [
    "## Data manipulation:\n",
    "- arithmetic operator\n",
    "- comparison operator\n",
    "- in\n",
    "- built-in functions to change cases\n",
    "- string manipulation with len, min, max, +, *"
   ]
  },
  {
   "cell_type": "markdown",
   "id": "8b75ed4b-39f7-41e2-ab46-b821e7c2795a",
   "metadata": {},
   "source": [
    "## Structured data types:\n",
    "- list, tuple, dictionary"
   ]
  },
  {
   "cell_type": "markdown",
   "id": "1790b85f-875c-450b-8f6b-5265e0e198b8",
   "metadata": {},
   "source": [
    "#### list and tuple:\n",
    "- append and remove\n",
    "- access data\n",
    "- packing and unpacking"
   ]
  },
  {
   "cell_type": "markdown",
   "id": "79c3302e-e023-411d-b169-a1c2342435d2",
   "metadata": {},
   "source": [
    "#### dictionary:\n",
    "- access keys, values, items"
   ]
  },
  {
   "cell_type": "markdown",
   "id": "44e5a12a-fe42-4795-ad4b-13954e94e891",
   "metadata": {},
   "source": [
    "# __*---Sesi 02---*__\n",
    "\n",
    "## Conditions:\n",
    "- if, else, elif\n",
    "- one-line if statement\n",
    "- ternary\n",
    "- pass"
   ]
  },
  {
   "cell_type": "markdown",
   "id": "dbb571f7-2bf5-43a7-ba73-cef36651d7e8",
   "metadata": {},
   "source": [
    "## Iteration (loop):\n",
    "- while\n",
    "- break, continue\n",
    "- else\n",
    "- nested if & neted loop\n",
    "- one-line while loop"
   ]
  },
  {
   "cell_type": "markdown",
   "id": "2ab7c583-2e35-4a8e-9b05-375cd9c60709",
   "metadata": {},
   "source": [
    "## for:\n",
    "- list\n",
    "- tuple\n",
    "- dictionary (keys, values, items)\n",
    "- unpacking\n",
    "- range\n",
    "- string"
   ]
  },
  {
   "cell_type": "markdown",
   "id": "d6227266-efb0-412b-82e0-efb80a28ae1c",
   "metadata": {},
   "source": [
    "## Input"
   ]
  },
  {
   "cell_type": "markdown",
   "id": "e689aea7-2333-4d28-a9a2-218c621aa895",
   "metadata": {},
   "source": [
    "# __*---Sesi 03---*__\n",
    "## function\n",
    "- cara buat dan cara pangggil\n"
   ]
  },
  {
   "cell_type": "markdown",
   "id": "8935a711-6f1d-457c-9d38-5fa5b7bc5e5e",
   "metadata": {},
   "source": [
    "## argument/parameter\n",
    "## pass by reference vs pass by value\n",
    "## return\n",
    "## function argumen:\n",
    "- default argument\n",
    "- required argument\n",
    "- keyword argument\n",
    "- variable-length argument"
   ]
  },
  {
   "cell_type": "markdown",
   "id": "8744acb6-17a3-4387-96ac-e27cb5bef2c9",
   "metadata": {},
   "source": [
    "## anonymous function\n",
    "## scope of variable\n",
    "## module:\n",
    "- import\n",
    "- accessing function from imported module\n",
    "- sys.path & sys.path.append\n",
    "- namespace with dir()\n",
    "- reload module\n",
    "- using terminal"
   ]
  },
  {
   "cell_type": "markdown",
   "id": "0ed311a9-79d1-47cd-b0f8-7247fbbd75c4",
   "metadata": {},
   "source": [
    "## package:\n",
    "- import package\n",
    "- access module from package\n",
    "- access function from module from package\n",
    "- installing package\n"
   ]
  },
  {
   "cell_type": "code",
   "execution_count": null,
   "id": "b4dac894-8c17-41db-970c-650ff613509d",
   "metadata": {},
   "outputs": [],
   "source": []
  }
 ],
 "metadata": {
  "kernelspec": {
   "display_name": "Python 3 (ipykernel)",
   "language": "python",
   "name": "python3"
  },
  "language_info": {
   "codemirror_mode": {
    "name": "ipython",
    "version": 3
   },
   "file_extension": ".py",
   "mimetype": "text/x-python",
   "name": "python",
   "nbconvert_exporter": "python",
   "pygments_lexer": "ipython3",
   "version": "3.9.7"
  }
 },
 "nbformat": 4,
 "nbformat_minor": 5
}
