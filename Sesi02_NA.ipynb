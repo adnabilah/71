{
 "cells": [
  {
   "cell_type": "markdown",
   "id": "a08ad9a7-e60e-4b60-914c-02afbfa2925b",
   "metadata": {},
   "source": [
    "# if"
   ]
  },
  {
   "cell_type": "code",
   "execution_count": 1,
   "id": "2e1b1c30-f901-4075-8d01-ea15effe566b",
   "metadata": {},
   "outputs": [
    {
     "data": {
      "text/plain": [
       "True"
      ]
     },
     "execution_count": 1,
     "metadata": {},
     "output_type": "execute_result"
    }
   ],
   "source": [
    "list_buah = ['apel', 'mangga']\n",
    "'apel' in list_buah"
   ]
  },
  {
   "cell_type": "code",
   "execution_count": 2,
   "id": "9996928b-99f0-47e7-8c9c-181459860031",
   "metadata": {},
   "outputs": [
    {
     "data": {
      "text/plain": [
       "True"
      ]
     },
     "execution_count": 2,
     "metadata": {},
     "output_type": "execute_result"
    }
   ],
   "source": [
    "bool(10)"
   ]
  },
  {
   "cell_type": "code",
   "execution_count": 4,
   "id": "b7f7a180-6c0f-4501-859b-9b83105d8d32",
   "metadata": {},
   "outputs": [
    {
     "name": "stdout",
     "output_type": "stream",
     "text": [
      "ada apel di list_buah, jadi kita beli apel\n"
     ]
    }
   ],
   "source": [
    "if ('apel' in list_buah):\n",
    "    print(\"ada apel di list_buah, jadi kita beli apel\")"
   ]
  },
  {
   "cell_type": "code",
   "execution_count": 6,
   "id": "fa4e133f-dcb6-42a5-bf7d-35b1d7aec524",
   "metadata": {},
   "outputs": [],
   "source": [
    "cari = 'pisang'\n",
    "if (cari in list_buah):\n",
    "    print(\"ada \" + cari + \" di list_buah, jadi kita beli \" + cari)"
   ]
  },
  {
   "cell_type": "code",
   "execution_count": 7,
   "id": "b82605d6-ced1-49d0-b0bf-7269b487d6e1",
   "metadata": {},
   "outputs": [],
   "source": [
    "# indentasi penting di python! meaning kalau statement itu betul, execute yang indented bawahnya."
   ]
  },
  {
   "cell_type": "code",
   "execution_count": 8,
   "id": "7154ffd6-086d-4777-9663-d85d8f2c7a45",
   "metadata": {},
   "outputs": [],
   "source": [
    "# gak ada limitasi berapa baris perintah untuk diexecute di bawah if.\n",
    "# else ga harus nungguin kondisinya true, makanya ga pakai indent.\n",
    "# note di line 13 sisa = harga - uang harus diketik 2x under if and else!"
   ]
  },
  {
   "cell_type": "code",
   "execution_count": 13,
   "id": "d2d8d20b-1058-49c1-8016-b37c03e8e999",
   "metadata": {},
   "outputs": [
    {
     "name": "stdout",
     "output_type": "stream",
     "text": [
      "uang tidak cukup\n",
      "kurang 4000\n"
     ]
    }
   ],
   "source": [
    "uang = 1000\n",
    "harga = 5000\n",
    "\n",
    "if (uang >= harga):\n",
    "    print(\"uang cukup\")\n",
    "    print(\"langsung bayar\")\n",
    "    sisa = uang - harga\n",
    "    print(\"sisa uang: \" + sisa)\n",
    "else:\n",
    "    print(\"uang tidak cukup\")\n",
    "    kurang = harga - uang\n",
    "    print(\"kurang\", kurang)"
   ]
  },
  {
   "cell_type": "markdown",
   "id": "ca3d598f-e4ba-4ef3-8e11-9e647f78fa7a",
   "metadata": {},
   "source": [
    "# elif"
   ]
  },
  {
   "cell_type": "code",
   "execution_count": 15,
   "id": "56416990-b42c-4a3e-8b88-7860563a099f",
   "metadata": {},
   "outputs": [],
   "source": [
    "# GABISA concatenate \"kurang\" + kurang untuk line 13 karena string dan int!"
   ]
  },
  {
   "cell_type": "code",
   "execution_count": 16,
   "id": "40fbc0f6-5563-44c5-8d3b-3a30ec3ba1e0",
   "metadata": {},
   "outputs": [
    {
     "name": "stdout",
     "output_type": "stream",
     "text": [
      "dapat B\n"
     ]
    }
   ],
   "source": [
    "nilai = 95\n",
    "\n",
    "if nilai == 100:\n",
    "    print(\"dapat A\")\n",
    "elif (nilai <= 99) & (nilai >= 90):\n",
    "    print(\"dapat B\")\n",
    "elif (nilai <= 89) & (nilai >= 80):\n",
    "    print(\"dapat C\")\n",
    "else:\n",
    "    print(\"dapat D\")"
   ]
  },
  {
   "cell_type": "code",
   "execution_count": 17,
   "id": "359ffb0c-9c84-4683-8c3a-c16818ae03a8",
   "metadata": {},
   "outputs": [],
   "source": [
    "# elif sebaiknya membahas topik yang sama.\n",
    "# kalau sudah beda topik, pakai nested if saja."
   ]
  },
  {
   "cell_type": "code",
   "execution_count": 21,
   "id": "df844f02-8271-43f7-a851-471e14da9786",
   "metadata": {},
   "outputs": [
    {
     "name": "stdout",
     "output_type": "stream",
     "text": [
      "umur tidak cukup\n"
     ]
    }
   ],
   "source": [
    "umur = 15\n",
    "saldo = 5000\n",
    "harga = 2000\n",
    "\n",
    "if (umur >= 17):\n",
    "    print(\"boleh beli tiket\")\n",
    "    if (saldo >= harga):\n",
    "        print(\"bisa beli tiket\")\n",
    "    else:\n",
    "        print(\"saldo tidak cukup\")\n",
    "else:\n",
    "    print(\"umur tidak cukup atau saldo tidak cukup\")"
   ]
  },
  {
   "cell_type": "code",
   "execution_count": 22,
   "id": "004753b7-b4cc-46b1-970c-4546de2baf8f",
   "metadata": {},
   "outputs": [
    {
     "name": "stdout",
     "output_type": "stream",
     "text": [
      "umur tidak cukup\n"
     ]
    }
   ],
   "source": [
    "if (umur >= 17) & (saldo >= harga):\n",
    "    print(\"boleh beli tiket\")\n",
    "    print(\"bisa beli tiket\")\n",
    "elif (umur >= 17) & (saldo < harga):\n",
    "    print(\"boleh beli tiket\")\n",
    "    print(\"saldo tidak cukup\")\n",
    "else:\n",
    "    print(\"umur tidak cukup atau saldo tidak cukup\")"
   ]
  },
  {
   "cell_type": "markdown",
   "id": "043729bc-d845-4433-824a-e5a057591cfc",
   "metadata": {},
   "source": [
    "# one-line if statement"
   ]
  },
  {
   "cell_type": "code",
   "execution_count": 24,
   "id": "545cfac9-69f0-47c2-b658-32370bd8aa99",
   "metadata": {},
   "outputs": [
    {
     "name": "stdout",
     "output_type": "stream",
     "text": [
      "sapa susan\n",
      "selamat pagi!\n"
     ]
    }
   ],
   "source": [
    "nama = \"susan\"\n",
    "if (nama == \"susan\"): print(\"sapa\", nama); print(\"selamat pagi!\")"
   ]
  },
  {
   "cell_type": "code",
   "execution_count": 27,
   "id": "1e162f75-dd58-4ae4-a8ca-c77895c2d0a8",
   "metadata": {},
   "outputs": [
    {
     "name": "stdout",
     "output_type": "stream",
     "text": [
      "pagi!\n"
     ]
    }
   ],
   "source": [
    "nama = \"budi\"\n",
    "\n",
    "if (nama == \"susan\"): print(\"sapa\", nama); print(\"selamat pagi!\")\n",
    "elif (nama == \"andi\"): print(\"bro!\")\n",
    "else: print(\"pagi!\")"
   ]
  },
  {
   "cell_type": "markdown",
   "id": "51f5c510-6e32-493a-bbae-2d166e737295",
   "metadata": {},
   "source": [
    "# ternary"
   ]
  },
  {
   "cell_type": "code",
   "execution_count": 13,
   "id": "b3b5b6b4-6f6d-4886-866b-8545f9aa06b9",
   "metadata": {},
   "outputs": [],
   "source": [
    "# bisa pakai ternary kalau if-nya simple.\n",
    "# kalau true, execute kiri, otherwise, execute kanan."
   ]
  },
  {
   "cell_type": "code",
   "execution_count": 29,
   "id": "2cb1b6da-512b-4c31-9949-212102e4e63f",
   "metadata": {},
   "outputs": [
    {
     "name": "stdout",
     "output_type": "stream",
     "text": [
      "tidak bawa payung\n"
     ]
    }
   ],
   "source": [
    "cuaca = \"cerah\"\n",
    "print(\"bawa payung\" if cuaca == \"hujan\" else \"tidak bawa payung\")"
   ]
  },
  {
   "cell_type": "code",
   "execution_count": 16,
   "id": "2ce25719-ca02-4fd1-870d-0e1de1c30803",
   "metadata": {},
   "outputs": [
    {
     "name": "stdout",
     "output_type": "stream",
     "text": [
      "bawa payung\n"
     ]
    }
   ],
   "source": [
    "# ternary bisa dimasukan ke variabel! dia jadi sebuah data, ga mesti berupa string, tapi mostly as string. karena kalau angka bisa langsung dihitung aja.\n",
    "# jadi bedanya sama if biasa adalah if biasa menjalankan code, kalau ternary dibalikin menjadi sebuah data, meski ga harus string. int bisa, tapi kalau int biasanya langsung aja.\n",
    "hasil = \"bawa payung\" if cuaca == \"hujan\" else \"tidak bawa payung\"\n",
    "print(hasil)"
   ]
  },
  {
   "cell_type": "code",
   "execution_count": 14,
   "id": "42c82b9e-5a14-4d82-9237-c840cd53328b",
   "metadata": {},
   "outputs": [
    {
     "name": "stdout",
     "output_type": "stream",
     "text": [
      "bawa payung\n"
     ]
    }
   ],
   "source": [
    "cuaca = \"hujan\"\n",
    "print(\"bawa\" if cuaca == \"hujan\" else \"tidak bawa\", \"payung\")"
   ]
  },
  {
   "cell_type": "markdown",
   "id": "cdc511a2-0706-4460-8c39-fdb8d588ec9d",
   "metadata": {},
   "source": [
    "# pass"
   ]
  },
  {
   "cell_type": "code",
   "execution_count": 31,
   "id": "59d70c39-86e8-4b02-9124-a6951f00dd02",
   "metadata": {},
   "outputs": [],
   "source": [
    "# pass, supaya kodenya tetep bisa dirun, nanti diisi sama kode lain kalau udah tau mau ngapain.\n",
    "if (cuaca == \"cerah\"):\n",
    "    pass\n",
    "elif (cuaca == \"hujan\"):\n",
    "    pass\n",
    "else:\n",
    "    print(\"badai atau bencana lainnya\")"
   ]
  },
  {
   "cell_type": "markdown",
   "id": "a5b2954a-f74a-41a8-b229-e0aa937c06b5",
   "metadata": {},
   "source": [
    "# latihan 1"
   ]
  },
  {
   "cell_type": "code",
   "execution_count": 36,
   "id": "a0a4929d-54a9-4488-81ad-35b22a03f7e5",
   "metadata": {},
   "outputs": [
    {
     "name": "stdout",
     "output_type": "stream",
     "text": [
      "boleh naik\n",
      "tetapi uang tidak cukup\n"
     ]
    }
   ],
   "source": [
    "tinggi = 129\n",
    "uang = 15000\n",
    "\n",
    "if (tinggi >= 120) & (uang >= 30000):\n",
    "    print(\"bisa naik\")\n",
    "    print(\"uang cukup\")\n",
    "elif (tinggi >= 120) & (uang <= 30000):\n",
    "    print (\"bisa naik\")\n",
    "    print(\"tetapi uang tidak cukup\")\n",
    "elif (tinggi <= 120) & (uang >= 30000):\n",
    "    print(\"tidak boleh naik\")\n",
    "else:\n",
    "    print(\"tidak bisa naik\")"
   ]
  },
  {
   "cell_type": "code",
   "execution_count": 38,
   "id": "d43ab90b-bc37-484a-b223-0232db410eef",
   "metadata": {},
   "outputs": [
    {
     "name": "stdout",
     "output_type": "stream",
     "text": [
      "boleh naik\n",
      "uang cukup\n"
     ]
    }
   ],
   "source": [
    "tinggi = 173\n",
    "uang = 200000\n",
    "\n",
    "if (tinggi >= 120) & (uang >= 30000): print(\"boleh naik\"); print(\"uang cukup\")\n",
    "elif (tinggi >= 120) & (uang <= 30000): print(\"boleh naik\"); print(\"tetapi uang tidak cukup\")\n",
    "elif (tinggi <= 120) & (uang >= 30000): print(\"tidak boleh naik\")\n",
    "else: print(\"tidak boleh naik\")"
   ]
  },
  {
   "cell_type": "code",
   "execution_count": 12,
   "id": "27f98f27-04f6-4ef7-8d6b-c2bbaaa2cab9",
   "metadata": {},
   "outputs": [
    {
     "name": "stdout",
     "output_type": "stream",
     "text": [
      "bisa naik\n",
      "tetapi uang tidak cukup\n"
     ]
    }
   ],
   "source": [
    "tinggi = 135\n",
    "uang = 11000\n",
    "\n",
    "if (tinggi >= 120):\n",
    "    print(\"bisa naik\")\n",
    "    if (uang >= 30000):\n",
    "        print(\"uang cukup\")\n",
    "    else:\n",
    "        print(\"tetapi uang tidak cukup\")\n",
    "else:\n",
    "    print(\"tidak bisa naik\")"
   ]
  },
  {
   "cell_type": "code",
   "execution_count": 41,
   "id": "4686f4c3-e087-42f2-8ccf-763c72dd9566",
   "metadata": {},
   "outputs": [
    {
     "name": "stdout",
     "output_type": "stream",
     "text": [
      "cukup tinggi untuk naik roller coaster\n",
      "bisa naik roller coaster\n"
     ]
    }
   ],
   "source": [
    "tinggi = 150\n",
    "uang = 50000\n",
    "\n",
    "min_tinggi = 120\n",
    "harga = 30000\n",
    "\n",
    "if (tinggi >= min_tinggi):\n",
    "    print(\"cukup tinggi untuk naik roller coaster\")\n",
    "    if (uang >= harga):\n",
    "        print(\"bisa naik roller coaster\")\n",
    "    else:\n",
    "        print(\"uangnya kurang untuk beli tiket roller coaster\")\n",
    "else:\n",
    "    print(\"tidak cukup tinggi untuk naik roller coaster\")"
   ]
  },
  {
   "cell_type": "markdown",
   "id": "e1f89215-a9e9-4928-91ad-86c0cfe662ff",
   "metadata": {},
   "source": [
    "# iteration (loop)"
   ]
  },
  {
   "cell_type": "markdown",
   "id": "f02ff1d3-3639-4ff5-b406-5218e2fec741",
   "metadata": {},
   "source": [
    "## for\n",
    "- untuk setiap item dalam sebuah koleksi:\n",
    "    - list\n",
    "    - tuple\n",
    "    - dictionary\n",
    "    - range\n",
    "    - string"
   ]
  },
  {
   "cell_type": "code",
   "execution_count": 25,
   "id": "a34fc870-faae-4054-905b-f5377cc5e34e",
   "metadata": {},
   "outputs": [
    {
     "name": "stdout",
     "output_type": "stream",
     "text": [
      "dress\n",
      "kaos\n",
      "jeans\n",
      "dress\n",
      "kaos\n",
      "jeans\n"
     ]
    }
   ],
   "source": [
    "# untuk setiap baju dalam list ini, execute something\n",
    "list_baju = [\"dress\", \"kaos\", \"jeans\"]\n",
    "\n",
    "for n in list_baju:\n",
    "    print(n)\n",
    "    \n",
    "for baju in list_baju:\n",
    "    print(baju)"
   ]
  },
  {
   "cell_type": "markdown",
   "id": "6e859939-7e56-432f-b5e9-125c8b7de09f",
   "metadata": {},
   "source": [
    "## while\n",
    "\n",
    "mirip if, except blok kode akan jalan lagi selama kondisi masih True"
   ]
  },
  {
   "cell_type": "code",
   "execution_count": 30,
   "id": "89af2d9e-4751-4b2d-b361-da99ad25df17",
   "metadata": {},
   "outputs": [
    {
     "name": "stdout",
     "output_type": "stream",
     "text": [
      "tinggi kurang:  115\n",
      "tinggi kurang:  116\n",
      "tinggi kurang:  117\n",
      "tinggi kurang:  118\n",
      "tinggi kurang:  119\n",
      "di luar loop\n"
     ]
    }
   ],
   "source": [
    "# di while loop, make sure kondisi akan berubah menjadi false! supaya gak infinite looping. code yang mengubah menjadi false HARUS ada di dalam while loop.\n",
    "# kondisi di while loop tidak harus dibatasi angka! misal str-nya harus ada kata ini, dll.\n",
    "# while loop lebih versatile\n",
    "# smeentara kalau FOR, sangat spefisik, melewati sebuah koleksi.\n",
    "\n",
    "tinggi = 115\n",
    "\n",
    "while (tinggi < 120):\n",
    "    print(\"tinggi kurang: \", tinggi)\n",
    "    tinggi += 1\n",
    "print(\"di luar loop\")"
   ]
  },
  {
   "cell_type": "code",
   "execution_count": 29,
   "id": "65693129-3eca-4b27-a24a-5f59d17e402d",
   "metadata": {},
   "outputs": [
    {
     "name": "stdout",
     "output_type": "stream",
     "text": [
      "1\n",
      "2\n",
      "3\n"
     ]
    }
   ],
   "source": [
    "counter = 1\n",
    "while (counter <= 3):\n",
    "    print(counter)\n",
    "    counter += 1 # atau counter = counter + 1"
   ]
  },
  {
   "cell_type": "code",
   "execution_count": 23,
   "id": "705b670f-6081-438d-b91d-ea4fb5a261e4",
   "metadata": {},
   "outputs": [
    {
     "name": "stdin",
     "output_type": "stream",
     "text": [
      "masukkan nama buah: kiwi\n"
     ]
    },
    {
     "name": "stdout",
     "output_type": "stream",
     "text": [
      "kiwi\n",
      "beli 2 kiwi\n"
     ]
    },
    {
     "name": "stdin",
     "output_type": "stream",
     "text": [
      "masukkan nama buah: leci\n"
     ]
    },
    {
     "name": "stdout",
     "output_type": "stream",
     "text": [
      "leci\n",
      "beli 1 leci\n"
     ]
    }
   ],
   "source": [
    "# input = untuk minta input dari usernya\n",
    "buah_fav = ['kiwi', 'mangga', 'jambu']\n",
    "n = 0\n",
    "\n",
    "while (n < 2):\n",
    "    buah_dibeli = input(\"masukkan nama buah:\")\n",
    "    print(buah_dibeli)\n",
    "    n += 1\n",
    "    if (buah_dibeli == buah_fav[0]):\n",
    "        print(\"beli 2\", buah_dibeli)\n",
    "    elif (buah_dibeli == buah_fav[1]):\n",
    "        print(\"beli 2\", buah_dibeli)\n",
    "    elif (buah_dibeli == buah_fav[2]):\n",
    "        print(\"beli 2\", buah_dibeli)\n",
    "    else:\n",
    "        print(\"beli 1\", buah_dibeli)"
   ]
  },
  {
   "cell_type": "code",
   "execution_count": 15,
   "id": "1a484fe4-4c2a-4631-931f-0c07093effb1",
   "metadata": {},
   "outputs": [
    {
     "name": "stdout",
     "output_type": "stream",
     "text": [
      "beli 1 apel\n",
      "beli 2 mangga\n",
      "beli 1 jeruk\n"
     ]
    }
   ],
   "source": [
    "buah = ['apel', 'mangga', 'jeruk']\n",
    "for i in buah:\n",
    "    if i == 'mangga':\n",
    "        print('beli 2', i)\n",
    "    else:\n",
    "        print('beli 1', i)"
   ]
  },
  {
   "cell_type": "markdown",
   "id": "565e13cf-a428-448c-a68a-d315375116a4",
   "metadata": {},
   "source": [
    "# break & continue statement\n",
    "- break --> memaksa instantly menghentikan loop\n",
    "- continue --> skip semua code yang ada di bawah continue, kemudian kembali ke atas ke conditionnya"
   ]
  },
  {
   "cell_type": "code",
   "execution_count": 31,
   "id": "e20ae536-c655-4578-bddb-7a03c3556599",
   "metadata": {},
   "outputs": [],
   "source": [
    "# continue dipakai untuk skip semua code yang ada di bawah continue. SEE RECORDING 8:30 tentang counter.\n",
    "# kalau pake break gak akan masuk else!\n",
    "# if dan while gak harus berpasangan dengan else! while gak punya elif.\n",
    "# REWATCH 8:40"
   ]
  },
  {
   "cell_type": "code",
   "execution_count": 34,
   "id": "d975eedb-e98d-401a-aefb-3b5b84eea82f",
   "metadata": {},
   "outputs": [
    {
     "name": "stdout",
     "output_type": "stream",
     "text": [
      "1\n",
      "2\n",
      "4\n",
      "5\n",
      "6\n"
     ]
    }
   ],
   "source": [
    "counter = 0\n",
    "while (counter <= 5):\n",
    "    counter += 1 # harus ditaruh di sini, karena kalau ditaruh di bawah if akan infinite loop\n",
    "    if (counter == 3):\n",
    "        continue\n",
    "    print(counter)"
   ]
  },
  {
   "cell_type": "code",
   "execution_count": 35,
   "id": "3b7a36a4-b21e-43d2-a81b-10c6b27762f2",
   "metadata": {},
   "outputs": [
    {
     "name": "stdout",
     "output_type": "stream",
     "text": [
      "1\n",
      "2\n"
     ]
    }
   ],
   "source": [
    "counter = 0\n",
    "while (counter <= 5):\n",
    "    counter += 1 # harus ditaruh di sini, karena kalau ditaruh di bawah if akan infinite loop\n",
    "    if (counter == 3):\n",
    "        break\n",
    "    print(counter)"
   ]
  },
  {
   "cell_type": "markdown",
   "id": "eb799b6d-e1f4-428b-8863-8fecbb3af62e",
   "metadata": {},
   "source": [
    "## else\n",
    "perbedaan pakai else atau tulis code di luar loop adalah dari BREAK. break tidak akan masuk ke else."
   ]
  },
  {
   "cell_type": "code",
   "execution_count": 40,
   "id": "97006626-e7f8-42ce-be58-238194b7dcb8",
   "metadata": {},
   "outputs": [
    {
     "name": "stdout",
     "output_type": "stream",
     "text": [
      "0\n",
      "1\n",
      "2\n",
      "3\n",
      "4\n",
      "5\n",
      "kondisi sudah jadi false 6\n"
     ]
    }
   ],
   "source": [
    "counter = 0\n",
    "while (counter <= 5):\n",
    "    print(counter)\n",
    "    counter += 1\n",
    "else:\n",
    "    print(\"kondisi sudah jadi false\", counter)"
   ]
  },
  {
   "cell_type": "code",
   "execution_count": 41,
   "id": "40d3b7af-ee37-4be4-9a12-c96b2c3d4c60",
   "metadata": {},
   "outputs": [
    {
     "name": "stdout",
     "output_type": "stream",
     "text": [
      "0\n"
     ]
    }
   ],
   "source": [
    "counter = 0\n",
    "while (counter <= 5):\n",
    "    print(counter)\n",
    "    counter += 1\n",
    "    break\n",
    "else:\n",
    "    print(\"kondisi sudah jadi false\", counter)"
   ]
  },
  {
   "cell_type": "code",
   "execution_count": 42,
   "id": "c7beef5a-54db-465b-b552-e8efb5cc57ed",
   "metadata": {},
   "outputs": [
    {
     "name": "stdout",
     "output_type": "stream",
     "text": [
      "0\n",
      "kondisi sudah jadi false 1\n"
     ]
    }
   ],
   "source": [
    "counter = 0\n",
    "while (counter <= 5):\n",
    "    print(counter)\n",
    "    counter += 1\n",
    "    break\n",
    "\n",
    "print(\"kondisi sudah jadi false\", counter)"
   ]
  },
  {
   "cell_type": "markdown",
   "id": "0afdda6d-d657-480e-b2fa-8ca45e4eb963",
   "metadata": {},
   "source": [
    "# nested\n",
    "- nested if or nested loop"
   ]
  },
  {
   "cell_type": "code",
   "execution_count": 43,
   "id": "525d53d2-cfda-440e-8c49-11f1d1e749c4",
   "metadata": {},
   "outputs": [
    {
     "name": "stdout",
     "output_type": "stream",
     "text": [
      "di atas 10 100\n",
      "di atas 20 80\n",
      "di atas 20 75\n",
      "di atas 20 70\n",
      "di atas 20 65\n",
      "di atas 20 60\n",
      "di atas 20 55\n",
      "di atas 20 50\n",
      "di atas 20 45\n",
      "di atas 20 40\n",
      "di atas 20 35\n",
      "di atas 20 30\n",
      "di atas 20 25\n",
      "di atas 10 20\n"
     ]
    }
   ],
   "source": [
    "n = 100\n",
    "while (n > 10):\n",
    "    print(\"di atas 10\", n)\n",
    "    n -= 20\n",
    "    while (n > 20):\n",
    "        print(\"di atas 20\", n)\n",
    "        n -= 5"
   ]
  },
  {
   "cell_type": "markdown",
   "id": "7305e571-ae1b-4a09-8306-b8cc2519b7f7",
   "metadata": {},
   "source": [
    "# one-line loop"
   ]
  },
  {
   "cell_type": "code",
   "execution_count": 45,
   "id": "7452009b-3298-48ac-9106-9e1fe90cc178",
   "metadata": {},
   "outputs": [
    {
     "name": "stdout",
     "output_type": "stream",
     "text": [
      "counter 0\n",
      "counter 1\n",
      "counter 2\n",
      "counter 3\n",
      "counter 4\n",
      "counter 5\n"
     ]
    }
   ],
   "source": [
    "counter = 0\n",
    "while (counter <= 5): print (\"counter\", counter); counter += 1"
   ]
  },
  {
   "cell_type": "markdown",
   "id": "3236e7be-3016-41b2-8dc5-ed041a3f35a6",
   "metadata": {},
   "source": [
    "# review"
   ]
  },
  {
   "cell_type": "markdown",
   "id": "7f0ff9ed-7546-4cf2-bbd3-224fb7011269",
   "metadata": {},
   "source": [
    "## list"
   ]
  },
  {
   "cell_type": "code",
   "execution_count": 46,
   "id": "e6c02fbf-e537-4979-8f68-d4c8405d90ba",
   "metadata": {},
   "outputs": [
    {
     "name": "stdout",
     "output_type": "stream",
     "text": [
      "a\n",
      "5\n",
      "7.6\n",
      "True\n",
      "[]\n"
     ]
    }
   ],
   "source": [
    "list_random = [\"a\", 5, 7.6, True, []]\n",
    "\n",
    "for item in list_random:\n",
    "    print(item)"
   ]
  },
  {
   "cell_type": "markdown",
   "id": "16d6840d-93ae-483a-b2c4-2ca21d6cd51c",
   "metadata": {},
   "source": [
    "## tuple"
   ]
  },
  {
   "cell_type": "code",
   "execution_count": 47,
   "id": "4f30800f-e435-45b0-85ed-8620dacaf3c7",
   "metadata": {},
   "outputs": [
    {
     "name": "stdout",
     "output_type": "stream",
     "text": [
      "a\n",
      "4.5\n",
      "3\n",
      "True\n"
     ]
    }
   ],
   "source": [
    "tuple_random = (\"a\", 4.5, 3, True)\n",
    "\n",
    "for item in tuple_random:\n",
    "    print(item)"
   ]
  },
  {
   "cell_type": "code",
   "execution_count": 48,
   "id": "cf5c47ac-dae6-4f5b-b9e2-219eec7c9f6e",
   "metadata": {},
   "outputs": [
    {
     "name": "stdout",
     "output_type": "stream",
     "text": [
      "1\n",
      "2\n",
      "3\n",
      "4\n",
      "5\n"
     ]
    }
   ],
   "source": [
    "tuple_nilai = (1,2,3,4,5)\n",
    "for int_nilai in tuple_nilai:\n",
    "    print(int_nilai)"
   ]
  },
  {
   "cell_type": "markdown",
   "id": "57fb2c67-86fc-4b94-a867-ac10311cf088",
   "metadata": {},
   "source": [
    "## dictionary"
   ]
  },
  {
   "cell_type": "code",
   "execution_count": 53,
   "id": "e53d1ecc-9359-4d03-a909-ffd7c8879546",
   "metadata": {},
   "outputs": [
    {
     "name": "stdout",
     "output_type": "stream",
     "text": [
      "nama\n",
      "umur\n",
      "nama\n",
      "umur\n",
      "andhika saputra\n",
      "28\n",
      "('nama', 'andhika saputra')\n",
      "('umur', 28)\n"
     ]
    }
   ],
   "source": [
    "andi = {\n",
    "    \"nama\" : \"andhika saputra\",\n",
    "    \"umur\" : 28,\n",
    "}\n",
    "\n",
    "for atribut in andi:\n",
    "    print(atribut)\n",
    "    \n",
    "for key in andi.keys():\n",
    "    print(key)\n",
    "    \n",
    "for val in andi.values():\n",
    "    print(val)\n",
    "    \n",
    "for item in andi.items():\n",
    "    print(item)"
   ]
  },
  {
   "cell_type": "code",
   "execution_count": 56,
   "id": "c78519d1-a44e-4aee-848a-d1ddc83206ab",
   "metadata": {},
   "outputs": [
    {
     "name": "stdout",
     "output_type": "stream",
     "text": [
      "nama adalah andhika saputra\n",
      "umur adalah 28\n",
      "nama adalah andhika saputra\n",
      "umur adalah 28\n"
     ]
    }
   ],
   "source": [
    "for k in andi:\n",
    "    print(k, \"adalah\", andi[k])\n",
    "    \n",
    "for k in andi.keys():\n",
    "    print(k, \"adalah\", andi[k])"
   ]
  },
  {
   "cell_type": "code",
   "execution_count": 57,
   "id": "c5c206f8-7c29-4194-9df8-76125f685be9",
   "metadata": {},
   "outputs": [
    {
     "name": "stdout",
     "output_type": "stream",
     "text": [
      "nama adalah andhika saputra\n",
      "umur adalah 28\n"
     ]
    }
   ],
   "source": [
    "# menggabungkan teknik UNPACKING dengan loop\n",
    "\n",
    "for key, val in andi.items():\n",
    "    print(key, \"adalah\", val)"
   ]
  },
  {
   "cell_type": "markdown",
   "id": "40d0ae40-02f1-44b4-87ca-ad625e91c078",
   "metadata": {},
   "source": [
    "# range\n",
    "- membuat data baru, berupa angka urut"
   ]
  },
  {
   "cell_type": "code",
   "execution_count": 59,
   "id": "952b7b7d-342a-405c-bd98-454268bf65f6",
   "metadata": {},
   "outputs": [
    {
     "data": {
      "text/plain": [
       "range(0, 10)"
      ]
     },
     "execution_count": 59,
     "metadata": {},
     "output_type": "execute_result"
    }
   ],
   "source": [
    "range(10)"
   ]
  },
  {
   "cell_type": "code",
   "execution_count": 60,
   "id": "aa08791c-12f4-4dfc-a1a7-dcb5bbe04f1b",
   "metadata": {},
   "outputs": [
    {
     "name": "stdout",
     "output_type": "stream",
     "text": [
      "0\n",
      "1\n",
      "2\n",
      "3\n",
      "4\n",
      "5\n",
      "6\n",
      "7\n",
      "8\n",
      "9\n"
     ]
    }
   ],
   "source": [
    "for angka in range(10):\n",
    "    print(angka)"
   ]
  },
  {
   "cell_type": "code",
   "execution_count": 61,
   "id": "a69af983-81cb-4231-b5d8-4d7ff5ad4c9c",
   "metadata": {},
   "outputs": [
    {
     "data": {
      "text/plain": [
       "range(75, 101)"
      ]
     },
     "execution_count": 61,
     "metadata": {},
     "output_type": "execute_result"
    }
   ],
   "source": [
    "range(75,101) # untuk angka urut dari 75 sampai 100"
   ]
  },
  {
   "cell_type": "code",
   "execution_count": 63,
   "id": "d175f66a-c099-4b87-945a-9ca6ccb62f60",
   "metadata": {},
   "outputs": [
    {
     "name": "stdout",
     "output_type": "stream",
     "text": [
      "95\n",
      "96\n",
      "97\n",
      "98\n",
      "99\n",
      "100\n"
     ]
    }
   ],
   "source": [
    "for angka in range(95,101):\n",
    "    print(angka)"
   ]
  },
  {
   "cell_type": "code",
   "execution_count": 66,
   "id": "3b6cb235-d4c8-4629-b79d-64cc10804c2f",
   "metadata": {},
   "outputs": [],
   "source": [
    "# untuk customize stepnya supaya lebih dari 1\n",
    "# misal untuk angka genap only"
   ]
  },
  {
   "cell_type": "code",
   "execution_count": 65,
   "id": "747dbd3e-c3cc-4f12-9d93-d6a2a884d442",
   "metadata": {},
   "outputs": [
    {
     "name": "stdout",
     "output_type": "stream",
     "text": [
      "2\n",
      "4\n",
      "6\n",
      "8\n"
     ]
    }
   ],
   "source": [
    "for angka in range(2,10,2):\n",
    "    print(angka)"
   ]
  },
  {
   "cell_type": "code",
   "execution_count": 68,
   "id": "8313bd7b-6512-424c-8de8-e8b178849ece",
   "metadata": {},
   "outputs": [
    {
     "name": "stdout",
     "output_type": "stream",
     "text": [
      "25\n",
      "30\n",
      "35\n",
      "40\n",
      "45\n",
      "50\n",
      "55\n",
      "60\n"
     ]
    }
   ],
   "source": [
    "# perkalian 5 dari 25 - 60\n",
    "for a in range(25, 61, 5):\n",
    "    print(a)"
   ]
  },
  {
   "cell_type": "code",
   "execution_count": 70,
   "id": "dcc0a89f-dc3e-4ca1-a2c2-420edc89988f",
   "metadata": {},
   "outputs": [
    {
     "name": "stdout",
     "output_type": "stream",
     "text": [
      "3\n",
      "2\n",
      "1\n"
     ]
    }
   ],
   "source": [
    "# hitung mundur\n",
    "\n",
    "for a in range (3,0,-1):\n",
    "    print(a)"
   ]
  },
  {
   "cell_type": "markdown",
   "id": "7d2365ee-b87d-4b48-965b-d01f92e34ff9",
   "metadata": {},
   "source": [
    "## str"
   ]
  },
  {
   "cell_type": "code",
   "execution_count": 71,
   "id": "e8f215da-4cc3-47c3-b974-9b12376f2d5a",
   "metadata": {},
   "outputs": [
    {
     "name": "stdout",
     "output_type": "stream",
     "text": [
      "b\n",
      "e\n",
      "l\n",
      "l\n",
      "e\n",
      " \n",
      "v\n",
      "u\n",
      "e\n"
     ]
    }
   ],
   "source": [
    "msg = \"belle vue\"\n",
    "for i in msg:\n",
    "    print(i)"
   ]
  },
  {
   "cell_type": "code",
   "execution_count": 73,
   "id": "a0e457ec-1f12-4173-b3cd-c5aba221f79c",
   "metadata": {},
   "outputs": [
    {
     "name": "stdout",
     "output_type": "stream",
     "text": [
      "b\n",
      "ping!\n",
      "l\n",
      "l\n",
      "ping!\n",
      " \n",
      "v\n",
      "u\n",
      "ping!\n"
     ]
    }
   ],
   "source": [
    "# jika bertemu huruf e, print \"ping!\"\n",
    "for i in msg:\n",
    "    if (i == \"e\"):\n",
    "        print(\"ping!\")\n",
    "    else:\n",
    "        print(i)"
   ]
  },
  {
   "cell_type": "markdown",
   "id": "a4f061d2-9a14-46fc-89cb-f67c99a69db8",
   "metadata": {},
   "source": [
    "# input\n",
    "- meminta user memberi input"
   ]
  },
  {
   "cell_type": "code",
   "execution_count": 74,
   "id": "d8c91f04-d2dc-4994-bea8-8f2a6d51cdfe",
   "metadata": {},
   "outputs": [
    {
     "name": "stdin",
     "output_type": "stream",
     "text": [
      " hi\n",
      " hello\n",
      " hai\n"
     ]
    }
   ],
   "source": [
    "n = 0\n",
    "while (n < 3):\n",
    "    input()\n",
    "    n += 1"
   ]
  },
  {
   "cell_type": "code",
   "execution_count": 75,
   "id": "c0a575ce-8755-4ec7-8c64-a47a7ec66815",
   "metadata": {},
   "outputs": [
    {
     "name": "stdin",
     "output_type": "stream",
     "text": [
      " hi\n"
     ]
    },
    {
     "name": "stdout",
     "output_type": "stream",
     "text": [
      "hi\n"
     ]
    },
    {
     "name": "stdin",
     "output_type": "stream",
     "text": [
      " hello\n"
     ]
    },
    {
     "name": "stdout",
     "output_type": "stream",
     "text": [
      "hello\n"
     ]
    },
    {
     "name": "stdin",
     "output_type": "stream",
     "text": [
      " hai\n"
     ]
    },
    {
     "name": "stdout",
     "output_type": "stream",
     "text": [
      "hai\n"
     ]
    }
   ],
   "source": [
    "# memasukkan input ke dalam sebuah variabel\n",
    "n = 0\n",
    "while (n < 3):\n",
    "    msg = input()\n",
    "    print(msg)\n",
    "    n += 1"
   ]
  },
  {
   "cell_type": "code",
   "execution_count": 76,
   "id": "08d54b88-aea3-466c-8953-a6893465a406",
   "metadata": {},
   "outputs": [
    {
     "name": "stdin",
     "output_type": "stream",
     "text": [
      "silakan input ke-0 a\n"
     ]
    },
    {
     "name": "stdout",
     "output_type": "stream",
     "text": [
      "a\n"
     ]
    },
    {
     "name": "stdin",
     "output_type": "stream",
     "text": [
      "silakan input ke-1 b\n"
     ]
    },
    {
     "name": "stdout",
     "output_type": "stream",
     "text": [
      "b\n"
     ]
    },
    {
     "name": "stdin",
     "output_type": "stream",
     "text": [
      "silakan input ke-2 c\n"
     ]
    },
    {
     "name": "stdout",
     "output_type": "stream",
     "text": [
      "c\n"
     ]
    }
   ],
   "source": [
    "# memasukkan input ke dalam sebuah variabel\n",
    "n = 0\n",
    "while (n < 3):\n",
    "    msg = input(\"silakan input ke-\" + str(n))\n",
    "    print(msg)\n",
    "    n += 1"
   ]
  },
  {
   "cell_type": "code",
   "execution_count": 83,
   "id": "782aad12-5453-4bb9-950c-3f3de8a5bb64",
   "metadata": {},
   "outputs": [
    {
     "name": "stdin",
     "output_type": "stream",
     "text": [
      "silakan input ke-0 hi\n"
     ]
    },
    {
     "name": "stdout",
     "output_type": "stream",
     "text": [
      "hi\n"
     ]
    },
    {
     "name": "stdin",
     "output_type": "stream",
     "text": [
      "silakan input ke-1 sToP\n"
     ]
    },
    {
     "name": "stdout",
     "output_type": "stream",
     "text": [
      "sToP\n"
     ]
    },
    {
     "name": "stdin",
     "output_type": "stream",
     "text": [
      "silakan input ke-2 stop\n"
     ]
    },
    {
     "name": "stdout",
     "output_type": "stream",
     "text": [
      "stop\n"
     ]
    }
   ],
   "source": [
    "n = 0\n",
    "msg = \"\"\n",
    "while (msg != \"stop\"):\n",
    "    msg = input(\"silakan input ke-\" + str(n))\n",
    "    print(msg)\n",
    "    n += 1"
   ]
  },
  {
   "cell_type": "code",
   "execution_count": 82,
   "id": "6a9b61a9-c4a8-499b-8e20-331fb6361a25",
   "metadata": {},
   "outputs": [
    {
     "name": "stdin",
     "output_type": "stream",
     "text": [
      "silakan input ke-0 hello\n"
     ]
    },
    {
     "name": "stdout",
     "output_type": "stream",
     "text": [
      "hello\n"
     ]
    },
    {
     "name": "stdin",
     "output_type": "stream",
     "text": [
      "silakan input ke-1 STOP\n"
     ]
    },
    {
     "name": "stdout",
     "output_type": "stream",
     "text": [
      "stop\n"
     ]
    }
   ],
   "source": [
    "n = 0\n",
    "msg = \"\"\n",
    "while (msg != \"stop\"):\n",
    "    msg = input(\"silakan input ke-\" + str(n)).lower()\n",
    "    print(msg)\n",
    "    n += 1"
   ]
  },
  {
   "cell_type": "code",
   "execution_count": null,
   "id": "da584e9d-81b0-491a-a52f-349ca29d191b",
   "metadata": {},
   "outputs": [],
   "source": []
  }
 ],
 "metadata": {
  "kernelspec": {
   "display_name": "Python 3 (ipykernel)",
   "language": "python",
   "name": "python3"
  },
  "language_info": {
   "codemirror_mode": {
    "name": "ipython",
    "version": 3
   },
   "file_extension": ".py",
   "mimetype": "text/x-python",
   "name": "python",
   "nbconvert_exporter": "python",
   "pygments_lexer": "ipython3",
   "version": "3.9.7"
  }
 },
 "nbformat": 4,
 "nbformat_minor": 5
}
