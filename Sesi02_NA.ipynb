{
 "cells": [
  {
   "cell_type": "code",
   "execution_count": 1,
   "id": "5c147eee-9cb4-46f5-a077-03dff554db87",
   "metadata": {},
   "outputs": [
    {
     "data": {
      "text/plain": [
       "True"
      ]
     },
     "execution_count": 1,
     "metadata": {},
     "output_type": "execute_result"
    }
   ],
   "source": [
    "list_buah = ['apel', 'mangga']\n",
    "'apel' in list_buah"
   ]
  },
  {
   "cell_type": "code",
   "execution_count": 2,
   "id": "9996928b-99f0-47e7-8c9c-181459860031",
   "metadata": {},
   "outputs": [
    {
     "data": {
      "text/plain": [
       "True"
      ]
     },
     "execution_count": 2,
     "metadata": {},
     "output_type": "execute_result"
    }
   ],
   "source": [
    "bool(10)"
   ]
  },
  {
   "cell_type": "code",
   "execution_count": 4,
   "id": "b7f7a180-6c0f-4501-859b-9b83105d8d32",
   "metadata": {},
   "outputs": [
    {
     "name": "stdout",
     "output_type": "stream",
     "text": [
      "ada apel di list_buah, jadi kita beli apel\n"
     ]
    }
   ],
   "source": [
    "if ('apel' in list_buah):\n",
    "    print(\"ada apel di list_buah, jadi kita beli apel\")"
   ]
  },
  {
   "cell_type": "code",
   "execution_count": 6,
   "id": "fa4e133f-dcb6-42a5-bf7d-35b1d7aec524",
   "metadata": {},
   "outputs": [],
   "source": [
    "cari = 'pisang'\n",
    "if (cari in list_buah):\n",
    "    print(\"ada \" + cari + \" di list_buah, jadi kita beli \" + cari)"
   ]
  },
  {
   "cell_type": "code",
   "execution_count": 7,
   "id": "b82605d6-ced1-49d0-b0bf-7269b487d6e1",
   "metadata": {},
   "outputs": [],
   "source": [
    "# indentasi penting di python! meaning kalau statement itu betul, execute yang indented bawahnya."
   ]
  },
  {
   "cell_type": "code",
   "execution_count": 8,
   "id": "7154ffd6-086d-4777-9663-d85d8f2c7a45",
   "metadata": {},
   "outputs": [],
   "source": [
    "# gak ada limitasi berapa baris perintah untuk diexecute di bawah if.\n",
    "# else ga harus nungguin kondisinya true, makanya ga pakai indent.\n",
    "# note di line 13 sisa = harga - uang harus diketik 2x under if and else!"
   ]
  },
  {
   "cell_type": "code",
   "execution_count": 13,
   "id": "d2d8d20b-1058-49c1-8016-b37c03e8e999",
   "metadata": {},
   "outputs": [
    {
     "name": "stdout",
     "output_type": "stream",
     "text": [
      "uang tidak cukup\n",
      "kurang 4000\n"
     ]
    }
   ],
   "source": [
    "uang = 1000\n",
    "harga = 5000\n",
    "\n",
    "if (uang >= harga):\n",
    "    print(\"uang cukup\")\n",
    "    print(\"langsung bayar\")\n",
    "    sisa = uang - harga\n",
    "    print(\"sisa uang: \" + sisa)\n",
    "else:\n",
    "    print(\"uang tidak cukup\")\n",
    "    kurang = harga - uang\n",
    "    print(\"kurang\", kurang)"
   ]
  },
  {
   "cell_type": "code",
   "execution_count": 15,
   "id": "56416990-b42c-4a3e-8b88-7860563a099f",
   "metadata": {},
   "outputs": [],
   "source": [
    "# GABISA concatenate \"kurang\" + kurang untuk line 13 karena string dan int!"
   ]
  },
  {
   "cell_type": "code",
   "execution_count": 16,
   "id": "40fbc0f6-5563-44c5-8d3b-3a30ec3ba1e0",
   "metadata": {},
   "outputs": [
    {
     "name": "stdout",
     "output_type": "stream",
     "text": [
      "dapat B\n"
     ]
    }
   ],
   "source": [
    "nilai = 95\n",
    "\n",
    "if nilai == 100:\n",
    "    print(\"dapat A\")\n",
    "elif (nilai <= 99) & (nilai >= 90):\n",
    "    print(\"dapat B\")\n",
    "elif (nilai <= 89) & (nilai >= 80):\n",
    "    print(\"dapat C\")\n",
    "else:\n",
    "    print(\"dapat D\")"
   ]
  },
  {
   "cell_type": "code",
   "execution_count": 17,
   "id": "359ffb0c-9c84-4683-8c3a-c16818ae03a8",
   "metadata": {},
   "outputs": [],
   "source": [
    "# elif sebaiknya membahas topik yang sama.\n",
    "# kalau sudah beda topik, pakai nested if saja."
   ]
  },
  {
   "cell_type": "code",
   "execution_count": 21,
   "id": "df844f02-8271-43f7-a851-471e14da9786",
   "metadata": {},
   "outputs": [
    {
     "name": "stdout",
     "output_type": "stream",
     "text": [
      "umur tidak cukup\n"
     ]
    }
   ],
   "source": [
    "umur = 15\n",
    "saldo = 5000\n",
    "harga = 2000\n",
    "\n",
    "if (umur >= 17):\n",
    "    print(\"boleh beli tiket\")\n",
    "    if (saldo >= harga):\n",
    "        print(\"bisa beli tiket\")\n",
    "    else:\n",
    "        print(\"saldo tidak cukup\")\n",
    "else:\n",
    "    print(\"umur tidak cukup atau saldo tidak cukup\")"
   ]
  },
  {
   "cell_type": "code",
   "execution_count": 22,
   "id": "004753b7-b4cc-46b1-970c-4546de2baf8f",
   "metadata": {},
   "outputs": [
    {
     "name": "stdout",
     "output_type": "stream",
     "text": [
      "umur tidak cukup\n"
     ]
    }
   ],
   "source": [
    "if (umur >= 17) & (saldo >= harga):\n",
    "    print(\"boleh beli tiket\")\n",
    "    print(\"bisa beli tiket\")\n",
    "elif (umur >= 17) & (saldo < harga):\n",
    "    print(\"boleh beli tiket\")\n",
    "    print(\"saldo tidak cukup\")\n",
    "else:\n",
    "    print(\"umur tidak cukup atau saldo tidak cukup\")"
   ]
  },
  {
   "cell_type": "code",
   "execution_count": 24,
   "id": "545cfac9-69f0-47c2-b658-32370bd8aa99",
   "metadata": {},
   "outputs": [
    {
     "name": "stdout",
     "output_type": "stream",
     "text": [
      "sapa susan\n",
      "selamat pagi!\n"
     ]
    }
   ],
   "source": [
    "nama = \"susan\"\n",
    "if (nama == \"susan\"): print(\"sapa\", nama); print(\"selamat pagi!\")"
   ]
  },
  {
   "cell_type": "code",
   "execution_count": 27,
   "id": "1e162f75-dd58-4ae4-a8ca-c77895c2d0a8",
   "metadata": {},
   "outputs": [
    {
     "name": "stdout",
     "output_type": "stream",
     "text": [
      "pagi!\n"
     ]
    }
   ],
   "source": [
    "nama = \"budi\"\n",
    "\n",
    "if (nama == \"susan\"): print(\"sapa\", nama); print(\"selamat pagi!\")\n",
    "elif (nama == \"andi\"): print(\"bro!\")\n",
    "else: print(\"pagi!\")"
   ]
  },
  {
   "cell_type": "code",
   "execution_count": 28,
   "id": "b3b5b6b4-6f6d-4886-866b-8545f9aa06b9",
   "metadata": {},
   "outputs": [],
   "source": [
    "# bisa pakai ternary kalau if-nya simple."
   ]
  },
  {
   "cell_type": "code",
   "execution_count": 29,
   "id": "2cb1b6da-512b-4c31-9949-212102e4e63f",
   "metadata": {},
   "outputs": [
    {
     "name": "stdout",
     "output_type": "stream",
     "text": [
      "tidak bawa payung\n"
     ]
    }
   ],
   "source": [
    "cuaca = \"cerah\"\n",
    "print(\"bawa payung\" if cuaca == \"hujan\" else \"tidak bawa payung\")"
   ]
  },
  {
   "cell_type": "code",
   "execution_count": 30,
   "id": "2ce25719-ca02-4fd1-870d-0e1de1c30803",
   "metadata": {},
   "outputs": [
    {
     "name": "stdout",
     "output_type": "stream",
     "text": [
      "tidak bawa payung\n"
     ]
    }
   ],
   "source": [
    "# ternary bisa dimasukan ke variabel! dia jadi sebuah data, ga mesti berupa string, tapi mostly as string. karena kalau angka bisa langsung dihitung aja.\n",
    "hasil = \"bawa payung\" if cuaca == \"hujan\" else \"tidak bawa payung\"\n",
    "print(hasil)"
   ]
  },
  {
   "cell_type": "code",
   "execution_count": 31,
   "id": "59d70c39-86e8-4b02-9124-a6951f00dd02",
   "metadata": {},
   "outputs": [],
   "source": [
    "# pass, supaya kodenya tetep bisa dirun, nanti diisi sama kode lain kalau udah tau mau ngapain.\n",
    "if (cuaca == \"cerah\"):\n",
    "    pass\n",
    "elif (cuaca == \"hujan\"):\n",
    "    pass\n",
    "else:\n",
    "    print(\"badai atau bencana lainnya\")"
   ]
  },
  {
   "cell_type": "code",
   "execution_count": 36,
   "id": "a0a4929d-54a9-4488-81ad-35b22a03f7e5",
   "metadata": {},
   "outputs": [
    {
     "name": "stdout",
     "output_type": "stream",
     "text": [
      "boleh naik\n",
      "tetapi uang tidak cukup\n"
     ]
    }
   ],
   "source": [
    "tinggi = 129\n",
    "uang = 15000\n",
    "\n",
    "if (tinggi >= 120) & (uang >= 30000):\n",
    "    print(\"bisa naik\")\n",
    "    print(\"uang cukup\")\n",
    "elif (tinggi >= 120) & (uang <= 30000):\n",
    "    print (\"bisa naik\")\n",
    "    print(\"tetapi uang tidak cukup\")\n",
    "elif (tinggi <= 120) & (uang >= 30000):\n",
    "    print(\"tidak boleh naik\")\n",
    "else:\n",
    "    print(\"tidak bisa naik\")"
   ]
  },
  {
   "cell_type": "code",
   "execution_count": 38,
   "id": "d43ab90b-bc37-484a-b223-0232db410eef",
   "metadata": {},
   "outputs": [
    {
     "name": "stdout",
     "output_type": "stream",
     "text": [
      "boleh naik\n",
      "uang cukup\n"
     ]
    }
   ],
   "source": [
    "tinggi = 173\n",
    "uang = 200000\n",
    "\n",
    "if (tinggi >= 120) & (uang >= 30000): print(\"boleh naik\"); print(\"uang cukup\")\n",
    "elif (tinggi >= 120) & (uang <= 30000): print(\"boleh naik\"); print(\"tetapi uang tidak cukup\")\n",
    "elif (tinggi <= 120) & (uang >= 30000): print(\"tidak boleh naik\")\n",
    "else: print(\"tidak boleh naik\")"
   ]
  },
  {
   "cell_type": "code",
   "execution_count": 40,
   "id": "a551eee4-4116-4254-ad38-bcb33b2174ea",
   "metadata": {},
   "outputs": [
    {
     "name": "stdout",
     "output_type": "stream",
     "text": [
      "bisa naik\n",
      "tetapi uang tidak cukup\n"
     ]
    }
   ],
   "source": [
    "tinggi = 135\n",
    "uang = 11000\n",
    "\n",
    "if (tinggi >= 120):\n",
    "    print(\"bisa naik\")\n",
    "    if (uang >= 30000):\n",
    "        print(\"uang cukup\")\n",
    "    else:\n",
    "        print(\"tetapi uang tidak cukup\")\n",
    "else:\n",
    "    print(\"tidak bisa naik\")"
   ]
  },
  {
   "cell_type": "code",
   "execution_count": 41,
   "id": "4686f4c3-e087-42f2-8ccf-763c72dd9566",
   "metadata": {},
   "outputs": [
    {
     "name": "stdout",
     "output_type": "stream",
     "text": [
      "cukup tinggi untuk naik roller coaster\n",
      "bisa naik roller coaster\n"
     ]
    }
   ],
   "source": [
    "tinggi = 150\n",
    "uang = 50000\n",
    "\n",
    "min_tinggi = 120\n",
    "harga = 30000\n",
    "\n",
    "if (tinggi >= min_tinggi):\n",
    "    print(\"cukup tinggi untuk naik roller coaster\")\n",
    "    if (uang >= harga):\n",
    "        print(\"bisa naik roller coaster\")\n",
    "    else:\n",
    "        print(\"uangnya kurang untuk beli tiket roller coaster\")\n",
    "else:\n",
    "    print(\"tidak cukup tinggi untuk naik roller coaster\")"
   ]
  },
  {
   "cell_type": "code",
   "execution_count": 42,
   "id": "a34fc870-faae-4054-905b-f5377cc5e34e",
   "metadata": {},
   "outputs": [
    {
     "name": "stdout",
     "output_type": "stream",
     "text": [
      "dress\n",
      "kaos\n",
      "jeans\n"
     ]
    }
   ],
   "source": [
    "# untuk setiap baju dalam list ini, execute something\n",
    "list_baju = [\"dress\", \"kaos\", \"jeans\"]\n",
    "\n",
    "for baju in list_baju:\n",
    "    print(baju)"
   ]
  },
  {
   "cell_type": "code",
   "execution_count": 45,
   "id": "89af2d9e-4751-4b2d-b361-da99ad25df17",
   "metadata": {},
   "outputs": [
    {
     "name": "stdout",
     "output_type": "stream",
     "text": [
      "tinggi kurang:  115\n",
      "tinggi kurang:  116\n",
      "tinggi kurang:  117\n",
      "tinggi kurang:  118\n",
      "tinggi kurang:  119\n",
      "di luar loop\n"
     ]
    }
   ],
   "source": [
    "# di while loop, make sure kondisi akan berubah menjadi false! supaya gak infinite looping. code yang mengubah menjadi false HARUS ada di dalam while loop.\n",
    "\n",
    "tinggi = 115\n",
    "\n",
    "while (tinggi < 120):\n",
    "    print(\"tinggi kurang: \", tinggi)\n",
    "    tinggi += 1\n",
    "print(\"di luar loop\")"
   ]
  },
  {
   "cell_type": "code",
   "execution_count": 46,
   "id": "cb502075-dc0a-4df9-9cca-d5d7f0acb92c",
   "metadata": {},
   "outputs": [],
   "source": [
    "# continue dipakai untuk skip semua code yang ada di bawah continue. SEE RECORDING 8:30 tentang counter.\n",
    "# kalau pake break gak akan masuk else!\n",
    "# if dan while gak harus berpasangan dengan else! while gak punya elif.\n",
    "# SEE 8:40"
   ]
  },
  {
   "cell_type": "code",
   "execution_count": 53,
   "id": "705b670f-6081-438d-b91d-ea4fb5a261e4",
   "metadata": {},
   "outputs": [
    {
     "name": "stdin",
     "output_type": "stream",
     "text": [
      "masukkan nama buah:  kiwi\n"
     ]
    },
    {
     "name": "stdout",
     "output_type": "stream",
     "text": [
      "kiwi\n"
     ]
    },
    {
     "ename": "NameError",
     "evalue": "name 'buah' is not defined",
     "output_type": "error",
     "traceback": [
      "\u001b[1;31m---------------------------------------------------------------------------\u001b[0m",
      "\u001b[1;31mNameError\u001b[0m                                 Traceback (most recent call last)",
      "\u001b[1;32m~\\AppData\\Local\\Temp/ipykernel_16332/372767948.py\u001b[0m in \u001b[0;36m<module>\u001b[1;34m\u001b[0m\n\u001b[0;32m      8\u001b[0m     \u001b[0mprint\u001b[0m\u001b[1;33m(\u001b[0m\u001b[0mmsg\u001b[0m\u001b[1;33m)\u001b[0m\u001b[1;33m\u001b[0m\u001b[1;33m\u001b[0m\u001b[0m\n\u001b[0;32m      9\u001b[0m     \u001b[0mn\u001b[0m \u001b[1;33m+=\u001b[0m \u001b[1;36m1\u001b[0m\u001b[1;33m\u001b[0m\u001b[1;33m\u001b[0m\u001b[0m\n\u001b[1;32m---> 10\u001b[1;33m     \u001b[1;32mif\u001b[0m \u001b[1;33m(\u001b[0m\u001b[0mmsg\u001b[0m \u001b[1;33m==\u001b[0m \u001b[0mbuah\u001b[0m\u001b[1;33m.\u001b[0m\u001b[0mitem\u001b[0m\u001b[1;33m)\u001b[0m\u001b[1;33m:\u001b[0m\u001b[1;33m\u001b[0m\u001b[1;33m\u001b[0m\u001b[0m\n\u001b[0m\u001b[0;32m     11\u001b[0m         \u001b[0mprint\u001b[0m\u001b[1;33m(\u001b[0m\u001b[1;34m\"beli 2\"\u001b[0m\u001b[1;33m)\u001b[0m\u001b[1;33m\u001b[0m\u001b[1;33m\u001b[0m\u001b[0m\n\u001b[0;32m     12\u001b[0m     \u001b[1;32melse\u001b[0m\u001b[1;33m:\u001b[0m\u001b[1;33m\u001b[0m\u001b[1;33m\u001b[0m\u001b[0m\n",
      "\u001b[1;31mNameError\u001b[0m: name 'buah' is not defined"
     ]
    }
   ],
   "source": [
    "# input = untuk minta input dari usernya\n",
    "n = 0\n",
    "msg = \"\"\n",
    "list_buah = [\"kiwi\", \"mangga\", \"jambu\"]\n",
    "\n",
    "while (n <= 5):\n",
    "    msg = input(\"masukkan nama buah: \")\n",
    "    print(msg)\n",
    "    n += 1\n",
    "    if (msg == buah.item):\n",
    "        print(\"beli 2\")\n",
    "    else:\n",
    "        print(\"beli 1\")"
   ]
  },
  {
   "cell_type": "code",
   "execution_count": 54,
   "id": "1a484fe4-4c2a-4631-931f-0c07093effb1",
   "metadata": {},
   "outputs": [
    {
     "name": "stdout",
     "output_type": "stream",
     "text": [
      "beli 1 apel\n",
      "beli 2 mangga\n",
      "beli 1 jeruk\n"
     ]
    }
   ],
   "source": [
    "buah = ['apel', 'mangga', 'jeruk']\n",
    "for i in buah:\n",
    "    if i == 'mangga':\n",
    "        print('beli 2', i)\n",
    "    else:\n",
    "        print('beli 1', i)"
   ]
  },
  {
   "cell_type": "code",
   "execution_count": null,
   "id": "dd882731-ad35-49a6-8340-66c071d1ec68",
   "metadata": {},
   "outputs": [],
   "source": []
  }
 ],
 "metadata": {
  "kernelspec": {
   "display_name": "Python 3 (ipykernel)",
   "language": "python",
   "name": "python3"
  },
  "language_info": {
   "codemirror_mode": {
    "name": "ipython",
    "version": 3
   },
   "file_extension": ".py",
   "mimetype": "text/x-python",
   "name": "python",
   "nbconvert_exporter": "python",
   "pygments_lexer": "ipython3",
   "version": "3.9.7"
  }
 },
 "nbformat": 4,
 "nbformat_minor": 5
}
